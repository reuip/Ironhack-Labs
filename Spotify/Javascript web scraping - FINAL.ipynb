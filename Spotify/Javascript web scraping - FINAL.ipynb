{
 "cells": [
  {
   "cell_type": "code",
   "execution_count": 17,
   "id": "8983ef5f-e1d0-4134-a21e-840b184ac26a",
   "metadata": {},
   "outputs": [],
   "source": [
    "import sys\n",
    "import requests\n",
    "from bs4 import BeautifulSoup\n",
    "import pandas as pd\n",
    "url_stub = 'https://www.chosic.com/music-genre-finder/?track='\n",
    "from time import sleep\n",
    "from random import randint\n"
   ]
  },
  {
   "cell_type": "code",
   "execution_count": 3,
   "id": "6a04c997-8e81-4f3b-ac22-b666f4e587bb",
   "metadata": {},
   "outputs": [],
   "source": [
    "df=pd.read_csv(r\"Data/Book2.csv\")"
   ]
  },
  {
   "cell_type": "code",
   "execution_count": 4,
   "id": "3c81ab31-22d8-4dab-931d-f33f3ecbc757",
   "metadata": {},
   "outputs": [],
   "source": [
    "dfids=df['id'].copy()"
   ]
  },
  {
   "cell_type": "code",
   "execution_count": 8,
   "id": "4bd2736c-90c2-4b45-82d2-057b73f1d6af",
   "metadata": {},
   "outputs": [],
   "source": [
    "seconds_to_wait = randint(3,5)\n",
    "\n",
    "\n",
    "genre_list=[]\n",
    "for i in dfids[0:200]:\n",
    "    url=url_stub+str(i)\n",
    "    try:\n",
    "        driver.get(url)\n",
    "        page_source=driver.page_source\n",
    "        soup = BeautifulSoup(page_source, 'lxml')\n",
    "        x=soup.select('.pl-tags a')[1].get_text()\n",
    "    except:\n",
    "        x=\"none\"\n",
    "    genre_list.append(x)\n",
    "    sleep(seconds_to_wait)\n",
    "\n",
    "\n"
   ]
  },
  {
   "cell_type": "code",
   "execution_count": 19,
   "id": "d5a85571-ca9f-4551-97cb-02bc9efc0a07",
   "metadata": {},
   "outputs": [],
   "source": [
    "genre_list_df.to_csv(\"genrelist200.csv\")"
   ]
  },
  {
   "cell_type": "code",
   "execution_count": 22,
   "id": "5b0e6157-fab3-42a1-9acd-fb6f89dd32ba",
   "metadata": {},
   "outputs": [],
   "source": [
    "seconds_to_wait = randint(3,5)\n",
    "\n",
    "\n",
    "genre_list2=[]\n",
    "for i in dfids[201:1500]:\n",
    "    url=url_stub+str(i)\n",
    "    try:\n",
    "        driver.get(url)\n",
    "        page_source=driver.page_source\n",
    "        soup = BeautifulSoup(page_source, 'lxml')\n",
    "        x=soup.select('.pl-tags a')[1].get_text()\n",
    "    except:\n",
    "        x=\"none\"\n",
    "    genre_list2.append(x)\n",
    "    sleep(seconds_to_wait)\n",
    "\n",
    "\n"
   ]
  },
  {
   "cell_type": "code",
   "execution_count": 25,
   "id": "b2c79e90-e218-479f-88a9-64a1432c3106",
   "metadata": {},
   "outputs": [],
   "source": [
    "genre_list_2=pd.DataFrame(genre_list2)"
   ]
  },
  {
   "cell_type": "code",
   "execution_count": 26,
   "id": "1f0d362a-bdc6-4941-be12-f448ce52249a",
   "metadata": {},
   "outputs": [],
   "source": [
    "genre_list_2.to_csv(\"secondfile.csv\")"
   ]
  },
  {
   "cell_type": "code",
   "execution_count": 20,
   "id": "5d3595dc-7aee-4f29-9e3d-9eb9df29af17",
   "metadata": {},
   "outputs": [
    {
     "name": "stdout",
     "output_type": "stream",
     "text": [
      "\n"
     ]
    },
    {
     "name": "stderr",
     "output_type": "stream",
     "text": [
      "[WDM] - ====== WebDriver manager ======\n"
     ]
    },
    {
     "name": "stdout",
     "output_type": "stream",
     "text": [
      "2022-07-10 16:46:57,477 INFO ====== WebDriver manager ======\n"
     ]
    },
    {
     "name": "stderr",
     "output_type": "stream",
     "text": [
      "[WDM] - Current google-chrome version is 103.0.5060\n"
     ]
    },
    {
     "name": "stdout",
     "output_type": "stream",
     "text": [
      "2022-07-10 16:46:57,484 INFO Current google-chrome version is 103.0.5060\n"
     ]
    },
    {
     "name": "stderr",
     "output_type": "stream",
     "text": [
      "[WDM] - Get LATEST chromedriver version for 103.0.5060 google-chrome\n"
     ]
    },
    {
     "name": "stdout",
     "output_type": "stream",
     "text": [
      "2022-07-10 16:46:57,487 INFO Get LATEST chromedriver version for 103.0.5060 google-chrome\n"
     ]
    },
    {
     "name": "stderr",
     "output_type": "stream",
     "text": [
      "[WDM] - Driver [C:\\Users\\MichaelTaylo_c9zoof3\\.wdm\\drivers\\chromedriver\\win32\\103.0.5060.53\\chromedriver.exe] found in cache\n"
     ]
    },
    {
     "name": "stdout",
     "output_type": "stream",
     "text": [
      "2022-07-10 16:46:57,612 INFO Driver [C:\\Users\\MichaelTaylo_c9zoof3\\.wdm\\drivers\\chromedriver\\win32\\103.0.5060.53\\chromedriver.exe] found in cache\n"
     ]
    }
   ],
   "source": [
    "from selenium import webdriver\n",
    "from selenium.webdriver.chrome.service import Service\n",
    "from webdriver_manager.chrome import ChromeDriverManager\n",
    "from selenium.webdriver.common.by import By\n",
    "\n",
    "driver = webdriver.Chrome(service=Service(ChromeDriverManager().install()))\n",
    "\n",
    "driver.get(url)\n",
    "\n",
    "page_source=driver.page_source"
   ]
  },
  {
   "cell_type": "code",
   "execution_count": 24,
   "id": "7a7dae32-d1b4-4b4e-9b78-005f80050dd2",
   "metadata": {},
   "outputs": [],
   "source": [
    "driver.get(url)"
   ]
  },
  {
   "cell_type": "code",
   "execution_count": 34,
   "id": "c3dd5b54-963e-4559-a981-f434e3579baf",
   "metadata": {},
   "outputs": [],
   "source": [
    "page_source=driver.page_source"
   ]
  },
  {
   "cell_type": "code",
   "execution_count": 35,
   "id": "662007ec-761c-408e-af6c-bb404393fc3a",
   "metadata": {},
   "outputs": [],
   "source": [
    "soup = BeautifulSoup(page_source, 'lxml')"
   ]
  },
  {
   "cell_type": "code",
   "execution_count": 39,
   "id": "c478baef-9226-4c43-8403-7afa1f7b0e97",
   "metadata": {},
   "outputs": [
    {
     "data": {
      "text/plain": [
       "'country rock'"
      ]
     },
     "execution_count": 39,
     "metadata": {},
     "output_type": "execute_result"
    }
   ],
   "source": [
    "soup.select('.pl-tags a')[1].get_text()"
   ]
  },
  {
   "cell_type": "code",
   "execution_count": null,
   "id": "00895e53-9979-46d5-b6b5-059c30ee04ab",
   "metadata": {},
   "outputs": [],
   "source": []
  }
 ],
 "metadata": {
  "kernelspec": {
   "display_name": "Python 3 (ipykernel)",
   "language": "python",
   "name": "python3"
  },
  "language_info": {
   "codemirror_mode": {
    "name": "ipython",
    "version": 3
   },
   "file_extension": ".py",
   "mimetype": "text/x-python",
   "name": "python",
   "nbconvert_exporter": "python",
   "pygments_lexer": "ipython3",
   "version": "3.9.12"
  }
 },
 "nbformat": 4,
 "nbformat_minor": 5
}
