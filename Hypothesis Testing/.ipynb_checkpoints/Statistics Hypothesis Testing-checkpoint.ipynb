{
 "cells": [
  {
   "cell_type": "markdown",
   "id": "f4af12f5",
   "metadata": {},
   "source": [
    "The null hypothesis is that the mean systolic blood pressure = 120 mm Hg\n",
    "\n",
    "The alternative hypothesis is that the mean systolic blood pressure <> 120 mm Hg\n",
    "\n",
    "A sample was taken of n=100 people, with mean 130.1mm Hg and stdev of 21.21mm Hg.\n",
    "\n",
    "Since only the stdev of the sample is known, a two-tailed t-test is appropriate for testing this.\n",
    "\n",
    "We have a critical value of 1.660 given n=100 and df=49.\n",
    "\n",
    "t= (sample_mean - pop_mean) / (sample_stdev/sqrt(n))"
   ]
  },
  {
   "cell_type": "code",
   "execution_count": 2,
   "id": "3a79b6a1",
   "metadata": {},
   "outputs": [],
   "source": [
    "x_bar=130.1\n",
    "mu=120\n",
    "s=21.21\n",
    "n=100"
   ]
  },
  {
   "cell_type": "code",
   "execution_count": 6,
   "id": "876c0bd2",
   "metadata": {},
   "outputs": [],
   "source": [
    "import math\n",
    "t=(x_bar-mu)/(s/math.sqrt(n))"
   ]
  },
  {
   "cell_type": "code",
   "execution_count": 7,
   "id": "9404348c",
   "metadata": {},
   "outputs": [
    {
     "data": {
      "text/plain": [
       "4.761904761904759"
      ]
     },
     "execution_count": 7,
     "metadata": {},
     "output_type": "execute_result"
    }
   ],
   "source": [
    "t"
   ]
  },
  {
   "cell_type": "markdown",
   "id": "67e288cd",
   "metadata": {},
   "source": [
    "With t=4.761, we can reject the null hypothesis"
   ]
  },
  {
   "cell_type": "markdown",
   "id": "f46db42c",
   "metadata": {},
   "source": [
    "# Machine task"
   ]
  },
  {
   "cell_type": "code",
   "execution_count": 12,
   "id": "57e5908c",
   "metadata": {},
   "outputs": [],
   "source": [
    "import pandas as pd\n",
    "df=pd.DataFrame({'old_machine':[42.7,43.6,43.8,43.3,42.5,43.5,43.1,41.7,44,44.1],'new_machine':[42.1,41,41.3,41.8,42.4,42.8,43.2,42.3,41.8,42.7]})"
   ]
  },
  {
   "cell_type": "code",
   "execution_count": 13,
   "id": "5d9bfec8",
   "metadata": {},
   "outputs": [
    {
     "data": {
      "text/html": [
       "<div>\n",
       "<style scoped>\n",
       "    .dataframe tbody tr th:only-of-type {\n",
       "        vertical-align: middle;\n",
       "    }\n",
       "\n",
       "    .dataframe tbody tr th {\n",
       "        vertical-align: top;\n",
       "    }\n",
       "\n",
       "    .dataframe thead th {\n",
       "        text-align: right;\n",
       "    }\n",
       "</style>\n",
       "<table border=\"1\" class=\"dataframe\">\n",
       "  <thead>\n",
       "    <tr style=\"text-align: right;\">\n",
       "      <th></th>\n",
       "      <th>old_machine</th>\n",
       "      <th>new_machine</th>\n",
       "    </tr>\n",
       "  </thead>\n",
       "  <tbody>\n",
       "    <tr>\n",
       "      <th>0</th>\n",
       "      <td>42.7</td>\n",
       "      <td>42.1</td>\n",
       "    </tr>\n",
       "    <tr>\n",
       "      <th>1</th>\n",
       "      <td>43.6</td>\n",
       "      <td>41.0</td>\n",
       "    </tr>\n",
       "    <tr>\n",
       "      <th>2</th>\n",
       "      <td>43.8</td>\n",
       "      <td>41.3</td>\n",
       "    </tr>\n",
       "    <tr>\n",
       "      <th>3</th>\n",
       "      <td>43.3</td>\n",
       "      <td>41.8</td>\n",
       "    </tr>\n",
       "    <tr>\n",
       "      <th>4</th>\n",
       "      <td>42.5</td>\n",
       "      <td>42.4</td>\n",
       "    </tr>\n",
       "    <tr>\n",
       "      <th>5</th>\n",
       "      <td>43.5</td>\n",
       "      <td>42.8</td>\n",
       "    </tr>\n",
       "    <tr>\n",
       "      <th>6</th>\n",
       "      <td>43.1</td>\n",
       "      <td>43.2</td>\n",
       "    </tr>\n",
       "    <tr>\n",
       "      <th>7</th>\n",
       "      <td>41.7</td>\n",
       "      <td>42.3</td>\n",
       "    </tr>\n",
       "    <tr>\n",
       "      <th>8</th>\n",
       "      <td>44.0</td>\n",
       "      <td>41.8</td>\n",
       "    </tr>\n",
       "    <tr>\n",
       "      <th>9</th>\n",
       "      <td>44.1</td>\n",
       "      <td>42.7</td>\n",
       "    </tr>\n",
       "  </tbody>\n",
       "</table>\n",
       "</div>"
      ],
      "text/plain": [
       "   old_machine  new_machine\n",
       "0         42.7         42.1\n",
       "1         43.6         41.0\n",
       "2         43.8         41.3\n",
       "3         43.3         41.8\n",
       "4         42.5         42.4\n",
       "5         43.5         42.8\n",
       "6         43.1         43.2\n",
       "7         41.7         42.3\n",
       "8         44.0         41.8\n",
       "9         44.1         42.7"
      ]
     },
     "execution_count": 13,
     "metadata": {},
     "output_type": "execute_result"
    }
   ],
   "source": [
    "df"
   ]
  },
  {
   "cell_type": "code",
   "execution_count": 29,
   "id": "9e26ebf8",
   "metadata": {},
   "outputs": [
    {
     "data": {
      "text/plain": [
       "4.5965245498274845"
      ]
     },
     "execution_count": 29,
     "metadata": {},
     "output_type": "execute_result"
    }
   ],
   "source": [
    "import math\n",
    "\n",
    "x_bar=df.new_machine.mean()\n",
    "mu=df.old_machine.mean()\n",
    "s=df.new_machine.std()\n",
    "n=10\n",
    "\n",
    "t=(x_bar-mu)/(s/math.sqrt(n))\n",
    "t"
   ]
  },
  {
   "cell_type": "code",
   "execution_count": 34,
   "id": "e2fe3824",
   "metadata": {},
   "outputs": [
    {
     "data": {
      "text/plain": [
       "Ttest_indResult(statistic=3.3972307061176026, pvalue=0.0032111425007745158)"
      ]
     },
     "execution_count": 34,
     "metadata": {},
     "output_type": "execute_result"
    }
   ],
   "source": [
    "from scipy.stats import ttest_ind\n",
    "ttest_ind(df['old_machine'], df['new_machine'])"
   ]
  },
  {
   "cell_type": "markdown",
   "id": "41024c4d",
   "metadata": {},
   "source": [
    "There is a significant difference between the two based on this sample given the value is past the critical threshold of 2.228"
   ]
  },
  {
   "cell_type": "code",
   "execution_count": null,
   "id": "80e47048",
   "metadata": {},
   "outputs": [],
   "source": []
  }
 ],
 "metadata": {
  "kernelspec": {
   "display_name": "Python 3 (ipykernel)",
   "language": "python",
   "name": "python3"
  },
  "language_info": {
   "codemirror_mode": {
    "name": "ipython",
    "version": 3
   },
   "file_extension": ".py",
   "mimetype": "text/x-python",
   "name": "python",
   "nbconvert_exporter": "python",
   "pygments_lexer": "ipython3",
   "version": "3.9.12"
  },
  "toc": {
   "base_numbering": 1,
   "nav_menu": {},
   "number_sections": true,
   "sideBar": true,
   "skip_h1_title": false,
   "title_cell": "Table of Contents",
   "title_sidebar": "Contents",
   "toc_cell": false,
   "toc_position": {},
   "toc_section_display": true,
   "toc_window_display": false
  },
  "varInspector": {
   "cols": {
    "lenName": 16,
    "lenType": 16,
    "lenVar": 40
   },
   "kernels_config": {
    "python": {
     "delete_cmd_postfix": "",
     "delete_cmd_prefix": "del ",
     "library": "var_list.py",
     "varRefreshCmd": "print(var_dic_list())"
    },
    "r": {
     "delete_cmd_postfix": ") ",
     "delete_cmd_prefix": "rm(",
     "library": "var_list.r",
     "varRefreshCmd": "cat(var_dic_list()) "
    }
   },
   "types_to_exclude": [
    "module",
    "function",
    "builtin_function_or_method",
    "instance",
    "_Feature"
   ],
   "window_display": false
  }
 },
 "nbformat": 4,
 "nbformat_minor": 5
}
