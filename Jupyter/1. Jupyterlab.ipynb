{
 "cells": [
  {
   "cell_type": "markdown",
   "id": "68d100e3",
   "metadata": {},
   "source": [
    "# All about Alison's favorite vacation"
   ]
  },
  {
   "cell_type": "markdown",
   "id": "4287fddd",
   "metadata": {},
   "source": [
    "*This notebook exists to share about Alison's vacation preferences.  It will include some photos and questions about her facotire types of vacations.*"
   ]
  },
  {
   "cell_type": "markdown",
   "id": "c543c7ed",
   "metadata": {},
   "source": [
    "# Navigable Index\n",
    "\n",
    "[Name Collector](#Name-Collector)<BR>\n",
    "[Preferences Collector](#Preferences-Collector)<BR>\n",
    "[Results Display](#Results-display)"
   ]
  },
  {
   "cell_type": "markdown",
   "id": "8126841f",
   "metadata": {},
   "source": [
    "## Name Collector"
   ]
  },
  {
   "cell_type": "code",
   "execution_count": 17,
   "id": "d4f444db",
   "metadata": {},
   "outputs": [
    {
     "name": "stdout",
     "output_type": "stream",
     "text": [
      "What is your name? Alison\n"
     ]
    }
   ],
   "source": [
    "pName=input(\"What is your name? \")"
   ]
  },
  {
   "cell_type": "markdown",
   "id": "32059042",
   "metadata": {},
   "source": [
    "![alt text](https://tubestatic.orf.at/static/images/site/tube/20201041/gro%C3%A3.5942455.png)"
   ]
  },
  {
   "cell_type": "markdown",
   "id": "a0fcfd37",
   "metadata": {},
   "source": [
    "## Preferences Collector"
   ]
  },
  {
   "cell_type": "code",
   "execution_count": 18,
   "id": "07a8c66b",
   "metadata": {},
   "outputs": [
    {
     "name": "stdout",
     "output_type": "stream",
     "text": [
      "What types of places do you like to visit? The beach\n"
     ]
    }
   ],
   "source": [
    "x=input(\"What types of places do you like to visit? \")"
   ]
  },
  {
   "cell_type": "code",
   "execution_count": 19,
   "id": "0d3a1270",
   "metadata": {},
   "outputs": [
    {
     "name": "stdout",
     "output_type": "stream",
     "text": [
      "What type of food do you like to eat on vacation? Seafood\n"
     ]
    }
   ],
   "source": [
    "y=input(\"What type of food do you like to eat on vacation? \")"
   ]
  },
  {
   "cell_type": "code",
   "execution_count": 20,
   "id": "e279a0d6",
   "metadata": {},
   "outputs": [
    {
     "name": "stdout",
     "output_type": "stream",
     "text": [
      "What do you like to do at night? Beach party\n"
     ]
    }
   ],
   "source": [
    "z=input(\"What do you like to do at night? \")"
   ]
  },
  {
   "cell_type": "code",
   "execution_count": null,
   "id": "66d8c144",
   "metadata": {},
   "outputs": [],
   "source": []
  },
  {
   "cell_type": "markdown",
   "id": "123a6082",
   "metadata": {},
   "source": [
    "![alt text](https://media0.faz.net/ppmedia/aktuell/feuilleton/4064334889/1.7717112/mmobject-still_full/paradiesischer-strand-der-maya.jpg)"
   ]
  },
  {
   "cell_type": "markdown",
   "id": "24ee3fad",
   "metadata": {},
   "source": [
    "## Results display"
   ]
  },
  {
   "cell_type": "markdown",
   "id": "3d95cb8a",
   "metadata": {},
   "source": [
    "- *Visit the beach*\n",
    "- **Eat Seafood**\n",
    "- Do a beach party at night"
   ]
  },
  {
   "cell_type": "code",
   "execution_count": 25,
   "id": "256bf754",
   "metadata": {},
   "outputs": [
    {
     "name": "stdout",
     "output_type": "stream",
     "text": [
      "Alison likes to go to The beach eat Seafood and at night Beach party\n"
     ]
    }
   ],
   "source": [
    "#attempt at taking the inputs and printing them instead of just writing them as markup\n",
    "\n",
    "print(pName,\"likes to go to\",x,\"eat\",y,\"and at night\",z)"
   ]
  },
  {
   "cell_type": "markdown",
   "id": "08c3efb8",
   "metadata": {},
   "source": [
    "[![IMAGE ALT TEXT](http://img.youtube.com/vi/DGIXT7ce3vQ/0.jpg)](http://www.youtube.com/watch?v=DGIXT7ce3vQ \"Beach to visit\")"
   ]
  },
  {
   "cell_type": "markdown",
   "id": "a2c0961f",
   "metadata": {},
   "source": [
    "Click the image above to see the beach in action on Youtube!"
   ]
  }
 ],
 "metadata": {
  "kernelspec": {
   "display_name": "Python 3 (ipykernel)",
   "language": "python",
   "name": "python3"
  },
  "language_info": {
   "codemirror_mode": {
    "name": "ipython",
    "version": 3
   },
   "file_extension": ".py",
   "mimetype": "text/x-python",
   "name": "python",
   "nbconvert_exporter": "python",
   "pygments_lexer": "ipython3",
   "version": "3.9.12"
  }
 },
 "nbformat": 4,
 "nbformat_minor": 5
}
