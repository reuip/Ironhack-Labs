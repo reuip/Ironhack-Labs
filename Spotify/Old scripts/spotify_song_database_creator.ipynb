{
 "cells": [
  {
   "cell_type": "markdown",
   "id": "b9689d38-7da9-4645-8e59-6324ecd27a3b",
   "metadata": {},
   "source": [
    "# Import libraries and prep spotipy"
   ]
  },
  {
   "cell_type": "code",
   "execution_count": 1,
   "id": "6e3fad9d",
   "metadata": {},
   "outputs": [],
   "source": [
    "import spotipy\n",
    "import spotify_cred\n",
    "from spotipy.oauth2 import SpotifyClientCredentials\n",
    "import pandas as pd\n",
    "import pprint\n",
    "from time import sleep\n",
    "from random import randint\n",
    "\n",
    "\n",
    "c_id = spotify_cred.c_id\n",
    "c_se = spotify_cred.c_se\n",
    "\n",
    "sp = spotipy.Spotify(auth_manager=SpotifyClientCredentials(client_id=c_id, client_secret=c_se))"
   ]
  },
  {
   "cell_type": "markdown",
   "id": "349e3656-f77a-4713-84f1-9921ec92cb5d",
   "metadata": {},
   "source": [
    "## Custom functions"
   ]
  },
  {
   "cell_type": "code",
   "execution_count": 2,
   "id": "006f303e-b383-4e38-8a44-f3da294c210d",
   "metadata": {},
   "outputs": [],
   "source": [
    "seconds_to_wait = randint(2,7)\n",
    "def get_playlist_tracks(playlist_id):\n",
    "    results = sp.playlist_tracks(playlist_id)\n",
    "    tracks = results['items']\n",
    "    while results['next']:\n",
    "        results = sp.next(results)\n",
    "        tracks.extend(results['items'])\n",
    "        sleep(seconds_to_wait)\n",
    "    return tracks\n",
    "\n",
    "\n",
    "def get_playlist_audio_features(playlist):\n",
    "    list_of_audio_features=[]\n",
    "    bad_items=[]\n",
    "    for item in range(0,len(playlist)):\n",
    "        try:\n",
    "            temp_features=sp.audio_features(playlist[item][\"track\"][\"id\"])[0]\n",
    "            if temp_features!= None:\n",
    "                list_of_audio_features.append(temp_features)\n",
    "                #print(\"Good\",item)\n",
    "        except:\n",
    "            bad_items.append(item)\n",
    "            print(\"Bad\",item)\n",
    "            continue\n",
    "    df=pd.DataFrame(list_of_audio_features)    \n",
    "    #df=df[[\"danceability\",\"energy\",\"loudness\",\"speechiness\",\"acousticness\",\"instrumentalness\",\"liveness\",\"valence\",\"tempo\",\"id\",\"duration_ms\"]]\n",
    "    return df,bad_items\n",
    "\n",
    "def compile_playlists(playlist_df):\n",
    "    full_playlist=[]\n",
    "    seconds_to_wait = randint(2,7)\n",
    "\n",
    "\n",
    "    for i in playlist_df['IDs']:\n",
    "        temp_playlist=get_playlist_tracks(i)\n",
    "        full_playlist.extend(temp_playlist)\n",
    "        sleep(seconds_to_wait)\n",
    "    return full_playlist"
   ]
  },
  {
   "cell_type": "code",
   "execution_count": null,
   "id": "78000197-9004-414b-9889-c10c034c3404",
   "metadata": {},
   "outputs": [],
   "source": []
  },
  {
   "cell_type": "markdown",
   "id": "7007dcd3-03a7-4820-841f-e5950d0132bf",
   "metadata": {},
   "source": [
    "# Get tempo information per sons"
   ]
  },
  {
   "cell_type": "code",
   "execution_count": 3,
   "id": "1c39af37-f769-48a1-9698-300372d5e49d",
   "metadata": {},
   "outputs": [],
   "source": [
    "# Get DF\n",
    "art_df=pd.read_csv(\"Data/Book2.csv\")"
   ]
  },
  {
   "cell_type": "code",
   "execution_count": 4,
   "id": "8aa37441-72b9-4ec8-b67a-462bb5cbeb87",
   "metadata": {
    "tags": []
   },
   "outputs": [
    {
     "data": {
      "text/plain": [
       "0       6n33KqeNMDPdpxtBPy0Dkk\n",
       "1       4LXLoOWeJyK3Dn0TUhS1rd\n",
       "2       2WsOOI6Irm4RJn8GpakHAv\n",
       "3       2N0F739pJcD6b4uQe6NxDr\n",
       "4       04Q4ravTeX4rdrTg0dZ9I9\n",
       "                 ...          \n",
       "5101    034KyQEk7IhbLtniVhBErj\n",
       "5102    28FwYInMHQYAZCZtX2rcWl\n",
       "5103    5teOR8KU4XNWY2WlVUDiIR\n",
       "5104    1FPTtFzvWMtV1A7ouK78at\n",
       "5105    64z0EqhVCYOCbEbY7GqECc\n",
       "Name: id, Length: 5106, dtype: object"
      ]
     },
     "execution_count": 4,
     "metadata": {},
     "output_type": "execute_result"
    }
   ],
   "source": [
    "art_df['id']"
   ]
  },
  {
   "cell_type": "code",
   "execution_count": 8,
   "id": "9eb8c366-f7b2-4a76-b1a8-3f9a5b514e8f",
   "metadata": {
    "tags": []
   },
   "outputs": [
    {
     "name": "stdout",
     "output_type": "stream",
     "text": [
      "1\n",
      "norwegian space disco\n",
      "2\n",
      "contemporary r&b\n",
      "3\n",
      "chill beats\n",
      "4\n",
      "atl hip hop\n",
      "5\n",
      "none\n",
      "6\n",
      "album rock\n",
      "7\n",
      "cologne electronic\n",
      "8\n",
      "freestyle\n",
      "9\n",
      "none\n",
      "10\n",
      "none\n",
      "11\n",
      "german jazz\n",
      "12\n",
      "k-pop\n",
      "13\n",
      "alt z\n",
      "14\n",
      "french rock-and-roll\n",
      "15\n",
      "new jersey underground rap\n",
      "16\n",
      "none\n",
      "17\n",
      "alternative americana\n",
      "18\n",
      "cello\n",
      "19\n",
      "soca\n"
     ]
    },
    {
     "ename": "PermissionError",
     "evalue": "[Errno 13] Permission denied: 'Data\\\\genrefirst1000.csv'",
     "output_type": "error",
     "traceback": [
      "\u001b[1;31m---------------------------------------------------------------------------\u001b[0m",
      "\u001b[1;31mPermissionError\u001b[0m                           Traceback (most recent call last)",
      "Input \u001b[1;32mIn [8]\u001b[0m, in \u001b[0;36m<cell line: 2>\u001b[1;34m()\u001b[0m\n\u001b[0;32m     11\u001b[0m \u001b[38;5;28mprint\u001b[39m(z)\n\u001b[0;32m     12\u001b[0m genre\u001b[38;5;241m=\u001b[39mpd\u001b[38;5;241m.\u001b[39mDataFrame(genre_list)\n\u001b[1;32m---> 13\u001b[0m \u001b[43mgenre\u001b[49m\u001b[38;5;241;43m.\u001b[39;49m\u001b[43mto_csv\u001b[49m\u001b[43m(\u001b[49m\u001b[38;5;124;43mr\u001b[39;49m\u001b[38;5;124;43m\"\u001b[39;49m\u001b[38;5;124;43mData\u001b[39;49m\u001b[38;5;124;43m\\\u001b[39;49m\u001b[38;5;124;43mgenrefirst1000.csv\u001b[39;49m\u001b[38;5;124;43m\"\u001b[39;49m\u001b[43m)\u001b[49m\n",
      "File \u001b[1;32m~\\anaconda3\\envs\\DA_Env\\lib\\site-packages\\pandas\\core\\generic.py:3551\u001b[0m, in \u001b[0;36mNDFrame.to_csv\u001b[1;34m(self, path_or_buf, sep, na_rep, float_format, columns, header, index, index_label, mode, encoding, compression, quoting, quotechar, line_terminator, chunksize, date_format, doublequote, escapechar, decimal, errors, storage_options)\u001b[0m\n\u001b[0;32m   3540\u001b[0m df \u001b[38;5;241m=\u001b[39m \u001b[38;5;28mself\u001b[39m \u001b[38;5;28;01mif\u001b[39;00m \u001b[38;5;28misinstance\u001b[39m(\u001b[38;5;28mself\u001b[39m, ABCDataFrame) \u001b[38;5;28;01melse\u001b[39;00m \u001b[38;5;28mself\u001b[39m\u001b[38;5;241m.\u001b[39mto_frame()\n\u001b[0;32m   3542\u001b[0m formatter \u001b[38;5;241m=\u001b[39m DataFrameFormatter(\n\u001b[0;32m   3543\u001b[0m     frame\u001b[38;5;241m=\u001b[39mdf,\n\u001b[0;32m   3544\u001b[0m     header\u001b[38;5;241m=\u001b[39mheader,\n\u001b[1;32m   (...)\u001b[0m\n\u001b[0;32m   3548\u001b[0m     decimal\u001b[38;5;241m=\u001b[39mdecimal,\n\u001b[0;32m   3549\u001b[0m )\n\u001b[1;32m-> 3551\u001b[0m \u001b[38;5;28;01mreturn\u001b[39;00m \u001b[43mDataFrameRenderer\u001b[49m\u001b[43m(\u001b[49m\u001b[43mformatter\u001b[49m\u001b[43m)\u001b[49m\u001b[38;5;241;43m.\u001b[39;49m\u001b[43mto_csv\u001b[49m\u001b[43m(\u001b[49m\n\u001b[0;32m   3552\u001b[0m \u001b[43m    \u001b[49m\u001b[43mpath_or_buf\u001b[49m\u001b[43m,\u001b[49m\n\u001b[0;32m   3553\u001b[0m \u001b[43m    \u001b[49m\u001b[43mline_terminator\u001b[49m\u001b[38;5;241;43m=\u001b[39;49m\u001b[43mline_terminator\u001b[49m\u001b[43m,\u001b[49m\n\u001b[0;32m   3554\u001b[0m \u001b[43m    \u001b[49m\u001b[43msep\u001b[49m\u001b[38;5;241;43m=\u001b[39;49m\u001b[43msep\u001b[49m\u001b[43m,\u001b[49m\n\u001b[0;32m   3555\u001b[0m \u001b[43m    \u001b[49m\u001b[43mencoding\u001b[49m\u001b[38;5;241;43m=\u001b[39;49m\u001b[43mencoding\u001b[49m\u001b[43m,\u001b[49m\n\u001b[0;32m   3556\u001b[0m \u001b[43m    \u001b[49m\u001b[43merrors\u001b[49m\u001b[38;5;241;43m=\u001b[39;49m\u001b[43merrors\u001b[49m\u001b[43m,\u001b[49m\n\u001b[0;32m   3557\u001b[0m \u001b[43m    \u001b[49m\u001b[43mcompression\u001b[49m\u001b[38;5;241;43m=\u001b[39;49m\u001b[43mcompression\u001b[49m\u001b[43m,\u001b[49m\n\u001b[0;32m   3558\u001b[0m \u001b[43m    \u001b[49m\u001b[43mquoting\u001b[49m\u001b[38;5;241;43m=\u001b[39;49m\u001b[43mquoting\u001b[49m\u001b[43m,\u001b[49m\n\u001b[0;32m   3559\u001b[0m \u001b[43m    \u001b[49m\u001b[43mcolumns\u001b[49m\u001b[38;5;241;43m=\u001b[39;49m\u001b[43mcolumns\u001b[49m\u001b[43m,\u001b[49m\n\u001b[0;32m   3560\u001b[0m \u001b[43m    \u001b[49m\u001b[43mindex_label\u001b[49m\u001b[38;5;241;43m=\u001b[39;49m\u001b[43mindex_label\u001b[49m\u001b[43m,\u001b[49m\n\u001b[0;32m   3561\u001b[0m \u001b[43m    \u001b[49m\u001b[43mmode\u001b[49m\u001b[38;5;241;43m=\u001b[39;49m\u001b[43mmode\u001b[49m\u001b[43m,\u001b[49m\n\u001b[0;32m   3562\u001b[0m \u001b[43m    \u001b[49m\u001b[43mchunksize\u001b[49m\u001b[38;5;241;43m=\u001b[39;49m\u001b[43mchunksize\u001b[49m\u001b[43m,\u001b[49m\n\u001b[0;32m   3563\u001b[0m \u001b[43m    \u001b[49m\u001b[43mquotechar\u001b[49m\u001b[38;5;241;43m=\u001b[39;49m\u001b[43mquotechar\u001b[49m\u001b[43m,\u001b[49m\n\u001b[0;32m   3564\u001b[0m \u001b[43m    \u001b[49m\u001b[43mdate_format\u001b[49m\u001b[38;5;241;43m=\u001b[39;49m\u001b[43mdate_format\u001b[49m\u001b[43m,\u001b[49m\n\u001b[0;32m   3565\u001b[0m \u001b[43m    \u001b[49m\u001b[43mdoublequote\u001b[49m\u001b[38;5;241;43m=\u001b[39;49m\u001b[43mdoublequote\u001b[49m\u001b[43m,\u001b[49m\n\u001b[0;32m   3566\u001b[0m \u001b[43m    \u001b[49m\u001b[43mescapechar\u001b[49m\u001b[38;5;241;43m=\u001b[39;49m\u001b[43mescapechar\u001b[49m\u001b[43m,\u001b[49m\n\u001b[0;32m   3567\u001b[0m \u001b[43m    \u001b[49m\u001b[43mstorage_options\u001b[49m\u001b[38;5;241;43m=\u001b[39;49m\u001b[43mstorage_options\u001b[49m\u001b[43m,\u001b[49m\n\u001b[0;32m   3568\u001b[0m \u001b[43m\u001b[49m\u001b[43m)\u001b[49m\n",
      "File \u001b[1;32m~\\anaconda3\\envs\\DA_Env\\lib\\site-packages\\pandas\\io\\formats\\format.py:1180\u001b[0m, in \u001b[0;36mDataFrameRenderer.to_csv\u001b[1;34m(self, path_or_buf, encoding, sep, columns, index_label, mode, compression, quoting, quotechar, line_terminator, chunksize, date_format, doublequote, escapechar, errors, storage_options)\u001b[0m\n\u001b[0;32m   1159\u001b[0m     created_buffer \u001b[38;5;241m=\u001b[39m \u001b[38;5;28;01mFalse\u001b[39;00m\n\u001b[0;32m   1161\u001b[0m csv_formatter \u001b[38;5;241m=\u001b[39m CSVFormatter(\n\u001b[0;32m   1162\u001b[0m     path_or_buf\u001b[38;5;241m=\u001b[39mpath_or_buf,\n\u001b[0;32m   1163\u001b[0m     line_terminator\u001b[38;5;241m=\u001b[39mline_terminator,\n\u001b[1;32m   (...)\u001b[0m\n\u001b[0;32m   1178\u001b[0m     formatter\u001b[38;5;241m=\u001b[39m\u001b[38;5;28mself\u001b[39m\u001b[38;5;241m.\u001b[39mfmt,\n\u001b[0;32m   1179\u001b[0m )\n\u001b[1;32m-> 1180\u001b[0m \u001b[43mcsv_formatter\u001b[49m\u001b[38;5;241;43m.\u001b[39;49m\u001b[43msave\u001b[49m\u001b[43m(\u001b[49m\u001b[43m)\u001b[49m\n\u001b[0;32m   1182\u001b[0m \u001b[38;5;28;01mif\u001b[39;00m created_buffer:\n\u001b[0;32m   1183\u001b[0m     \u001b[38;5;28;01massert\u001b[39;00m \u001b[38;5;28misinstance\u001b[39m(path_or_buf, StringIO)\n",
      "File \u001b[1;32m~\\anaconda3\\envs\\DA_Env\\lib\\site-packages\\pandas\\io\\formats\\csvs.py:241\u001b[0m, in \u001b[0;36mCSVFormatter.save\u001b[1;34m(self)\u001b[0m\n\u001b[0;32m    237\u001b[0m \u001b[38;5;124;03m\"\"\"\u001b[39;00m\n\u001b[0;32m    238\u001b[0m \u001b[38;5;124;03mCreate the writer & save.\u001b[39;00m\n\u001b[0;32m    239\u001b[0m \u001b[38;5;124;03m\"\"\"\u001b[39;00m\n\u001b[0;32m    240\u001b[0m \u001b[38;5;66;03m# apply compression and byte/text conversion\u001b[39;00m\n\u001b[1;32m--> 241\u001b[0m \u001b[38;5;28;01mwith\u001b[39;00m \u001b[43mget_handle\u001b[49m\u001b[43m(\u001b[49m\n\u001b[0;32m    242\u001b[0m \u001b[43m    \u001b[49m\u001b[38;5;28;43mself\u001b[39;49m\u001b[38;5;241;43m.\u001b[39;49m\u001b[43mfilepath_or_buffer\u001b[49m\u001b[43m,\u001b[49m\n\u001b[0;32m    243\u001b[0m \u001b[43m    \u001b[49m\u001b[38;5;28;43mself\u001b[39;49m\u001b[38;5;241;43m.\u001b[39;49m\u001b[43mmode\u001b[49m\u001b[43m,\u001b[49m\n\u001b[0;32m    244\u001b[0m \u001b[43m    \u001b[49m\u001b[43mencoding\u001b[49m\u001b[38;5;241;43m=\u001b[39;49m\u001b[38;5;28;43mself\u001b[39;49m\u001b[38;5;241;43m.\u001b[39;49m\u001b[43mencoding\u001b[49m\u001b[43m,\u001b[49m\n\u001b[0;32m    245\u001b[0m \u001b[43m    \u001b[49m\u001b[43merrors\u001b[49m\u001b[38;5;241;43m=\u001b[39;49m\u001b[38;5;28;43mself\u001b[39;49m\u001b[38;5;241;43m.\u001b[39;49m\u001b[43merrors\u001b[49m\u001b[43m,\u001b[49m\n\u001b[0;32m    246\u001b[0m \u001b[43m    \u001b[49m\u001b[43mcompression\u001b[49m\u001b[38;5;241;43m=\u001b[39;49m\u001b[38;5;28;43mself\u001b[39;49m\u001b[38;5;241;43m.\u001b[39;49m\u001b[43mcompression\u001b[49m\u001b[43m,\u001b[49m\n\u001b[0;32m    247\u001b[0m \u001b[43m    \u001b[49m\u001b[43mstorage_options\u001b[49m\u001b[38;5;241;43m=\u001b[39;49m\u001b[38;5;28;43mself\u001b[39;49m\u001b[38;5;241;43m.\u001b[39;49m\u001b[43mstorage_options\u001b[49m\u001b[43m,\u001b[49m\n\u001b[0;32m    248\u001b[0m \u001b[43m\u001b[49m\u001b[43m)\u001b[49m \u001b[38;5;28;01mas\u001b[39;00m handles:\n\u001b[0;32m    249\u001b[0m \n\u001b[0;32m    250\u001b[0m     \u001b[38;5;66;03m# Note: self.encoding is irrelevant here\u001b[39;00m\n\u001b[0;32m    251\u001b[0m     \u001b[38;5;28mself\u001b[39m\u001b[38;5;241m.\u001b[39mwriter \u001b[38;5;241m=\u001b[39m csvlib\u001b[38;5;241m.\u001b[39mwriter(\n\u001b[0;32m    252\u001b[0m         handles\u001b[38;5;241m.\u001b[39mhandle,\n\u001b[0;32m    253\u001b[0m         lineterminator\u001b[38;5;241m=\u001b[39m\u001b[38;5;28mself\u001b[39m\u001b[38;5;241m.\u001b[39mline_terminator,\n\u001b[1;32m   (...)\u001b[0m\n\u001b[0;32m    258\u001b[0m         quotechar\u001b[38;5;241m=\u001b[39m\u001b[38;5;28mself\u001b[39m\u001b[38;5;241m.\u001b[39mquotechar,\n\u001b[0;32m    259\u001b[0m     )\n\u001b[0;32m    261\u001b[0m     \u001b[38;5;28mself\u001b[39m\u001b[38;5;241m.\u001b[39m_save()\n",
      "File \u001b[1;32m~\\anaconda3\\envs\\DA_Env\\lib\\site-packages\\pandas\\io\\common.py:789\u001b[0m, in \u001b[0;36mget_handle\u001b[1;34m(path_or_buf, mode, encoding, compression, memory_map, is_text, errors, storage_options)\u001b[0m\n\u001b[0;32m    784\u001b[0m \u001b[38;5;28;01melif\u001b[39;00m \u001b[38;5;28misinstance\u001b[39m(handle, \u001b[38;5;28mstr\u001b[39m):\n\u001b[0;32m    785\u001b[0m     \u001b[38;5;66;03m# Check whether the filename is to be opened in binary mode.\u001b[39;00m\n\u001b[0;32m    786\u001b[0m     \u001b[38;5;66;03m# Binary mode does not support 'encoding' and 'newline'.\u001b[39;00m\n\u001b[0;32m    787\u001b[0m     \u001b[38;5;28;01mif\u001b[39;00m ioargs\u001b[38;5;241m.\u001b[39mencoding \u001b[38;5;129;01mand\u001b[39;00m \u001b[38;5;124m\"\u001b[39m\u001b[38;5;124mb\u001b[39m\u001b[38;5;124m\"\u001b[39m \u001b[38;5;129;01mnot\u001b[39;00m \u001b[38;5;129;01min\u001b[39;00m ioargs\u001b[38;5;241m.\u001b[39mmode:\n\u001b[0;32m    788\u001b[0m         \u001b[38;5;66;03m# Encoding\u001b[39;00m\n\u001b[1;32m--> 789\u001b[0m         handle \u001b[38;5;241m=\u001b[39m \u001b[38;5;28;43mopen\u001b[39;49m\u001b[43m(\u001b[49m\n\u001b[0;32m    790\u001b[0m \u001b[43m            \u001b[49m\u001b[43mhandle\u001b[49m\u001b[43m,\u001b[49m\n\u001b[0;32m    791\u001b[0m \u001b[43m            \u001b[49m\u001b[43mioargs\u001b[49m\u001b[38;5;241;43m.\u001b[39;49m\u001b[43mmode\u001b[49m\u001b[43m,\u001b[49m\n\u001b[0;32m    792\u001b[0m \u001b[43m            \u001b[49m\u001b[43mencoding\u001b[49m\u001b[38;5;241;43m=\u001b[39;49m\u001b[43mioargs\u001b[49m\u001b[38;5;241;43m.\u001b[39;49m\u001b[43mencoding\u001b[49m\u001b[43m,\u001b[49m\n\u001b[0;32m    793\u001b[0m \u001b[43m            \u001b[49m\u001b[43merrors\u001b[49m\u001b[38;5;241;43m=\u001b[39;49m\u001b[43merrors\u001b[49m\u001b[43m,\u001b[49m\n\u001b[0;32m    794\u001b[0m \u001b[43m            \u001b[49m\u001b[43mnewline\u001b[49m\u001b[38;5;241;43m=\u001b[39;49m\u001b[38;5;124;43m\"\u001b[39;49m\u001b[38;5;124;43m\"\u001b[39;49m\u001b[43m,\u001b[49m\n\u001b[0;32m    795\u001b[0m \u001b[43m        \u001b[49m\u001b[43m)\u001b[49m\n\u001b[0;32m    796\u001b[0m     \u001b[38;5;28;01melse\u001b[39;00m:\n\u001b[0;32m    797\u001b[0m         \u001b[38;5;66;03m# Binary mode\u001b[39;00m\n\u001b[0;32m    798\u001b[0m         handle \u001b[38;5;241m=\u001b[39m \u001b[38;5;28mopen\u001b[39m(handle, ioargs\u001b[38;5;241m.\u001b[39mmode)\n",
      "\u001b[1;31mPermissionError\u001b[0m: [Errno 13] Permission denied: 'Data\\\\genrefirst1000.csv'"
     ]
    }
   ],
   "source": [
    "genre_list=[]\n",
    "for i in art_df['id'][400:1000]:\n",
    "    y=sp.track(i)['album']['artists'][0]['id']\n",
    "    try:\n",
    "        z=sp.artist(y)['genres'][0]\n",
    "    except:\n",
    "        z=\"none\"\n",
    "    genre_list.append(z)\n",
    "    sleep(3)\n",
    "    print(len(genre_list))\n",
    "    print(z)\n",
    "genre=pd.DataFrame(genre_list)\n",
    "\n",
    "genre.to_csv(r\"Data\\genrefirst1000.csv\")"
   ]
  },
  {
   "cell_type": "code",
   "execution_count": 7,
   "id": "d3ee25fb-ad29-4fef-a500-17b59ab4cb42",
   "metadata": {},
   "outputs": [],
   "source": [
    "genre=pd.DataFrame(genre_list)\n",
    "genre.to_csv(r\"Data\\genrefirst1000.csv\")"
   ]
  },
  {
   "cell_type": "code",
   "execution_count": 21,
   "id": "d576bb8f-596b-4525-9992-cb392be108b2",
   "metadata": {},
   "outputs": [],
   "source": [
    "art_df['genre']=genre_list\n",
    "art_df.to_csv(\"Data\\genre800012.csv\")"
   ]
  },
  {
   "cell_type": "markdown",
   "id": "96cb27f6-9ca7-45d4-ae61-3cdbbb727ad0",
   "metadata": {},
   "source": [
    "# Get genre info per artist"
   ]
  },
  {
   "cell_type": "code",
   "execution_count": null,
   "id": "52628ecc-1c1c-48be-b03f-c8922c4fc288",
   "metadata": {},
   "outputs": [],
   "source": [
    "# get genre\n",
    "for i in track_df:\n",
    "    "
   ]
  },
  {
   "cell_type": "code",
   "execution_count": 27,
   "id": "80dfca30-cb56-458d-b80d-55b6ee8d8c94",
   "metadata": {},
   "outputs": [],
   "source": [
    "x=sp.audio_analysis('3AhXZa8sUQht0UEdBJgpGc')\n",
    "x"
   ]
  },
  {
   "cell_type": "code",
   "execution_count": 31,
   "id": "2cff80b9-8654-4155-985b-013704004cfe",
   "metadata": {},
   "outputs": [
    {
     "data": {
      "text/plain": [
       "95.263"
      ]
     },
     "execution_count": 31,
     "metadata": {},
     "output_type": "execute_result"
    }
   ],
   "source": [
    "x['track']['tempo']"
   ]
  },
  {
   "cell_type": "code",
   "execution_count": 45,
   "id": "1f940840-5de4-4eee-b770-c52f53a68615",
   "metadata": {},
   "outputs": [
    {
     "data": {
      "text/plain": [
       "'74ASZWbe4lXaubB36ztrGX'"
      ]
     },
     "execution_count": 45,
     "metadata": {},
     "output_type": "execute_result"
    }
   ],
   "source": [
    "y=sp.track('3AhXZa8sUQht0UEdBJgpGc')['album']['artists'][0]['id']\n",
    "y"
   ]
  },
  {
   "cell_type": "code",
   "execution_count": 46,
   "id": "c977e399-5ace-477f-8b97-a218bbd05346",
   "metadata": {},
   "outputs": [],
   "source": [
    "z=sp.artist(y)\n"
   ]
  },
  {
   "cell_type": "code",
   "execution_count": 49,
   "id": "9a62456c-ec52-4cd2-bfb9-ffde3f9d491b",
   "metadata": {},
   "outputs": [
    {
     "data": {
      "text/plain": [
       "'classic rock'"
      ]
     },
     "execution_count": 49,
     "metadata": {},
     "output_type": "execute_result"
    }
   ],
   "source": [
    "z['genres'][0]"
   ]
  },
  {
   "cell_type": "markdown",
   "id": "0cad768c-b469-478c-a3e0-ce32c88f68a3",
   "metadata": {},
   "source": [
    "# Get list of songs from playlists"
   ]
  },
  {
   "cell_type": "code",
   "execution_count": 5,
   "id": "92e69685-dd8e-464d-8408-3af943a75ea2",
   "metadata": {},
   "outputs": [],
   "source": [
    "playlist_df=pd.read_csv(r\"C:\\Users\\MichaelTaylo_c9zoof3\\Documents\\GitHub\\Ironhack-Labs\\Spotify\\Data\\Playlists to parse\\10000 song playlist.csv\")"
   ]
  },
  {
   "cell_type": "code",
   "execution_count": 6,
   "id": "1667490d-cad5-4a5e-ae7d-929f18dfd8b6",
   "metadata": {
    "tags": []
   },
   "outputs": [],
   "source": [
    "song_list=compile_playlists(playlist_df)"
   ]
  },
  {
   "cell_type": "code",
   "execution_count": 7,
   "id": "d39384bb-ca51-4868-bae2-5c997cfc415b",
   "metadata": {},
   "outputs": [
    {
     "data": {
      "text/plain": [
       "10000"
      ]
     },
     "execution_count": 7,
     "metadata": {},
     "output_type": "execute_result"
    }
   ],
   "source": [
    "len(song_list)"
   ]
  },
  {
   "cell_type": "markdown",
   "id": "35864234-6bda-4c6c-9607-399c0826845a",
   "metadata": {},
   "source": [
    "## Save list of songs for future use"
   ]
  },
  {
   "cell_type": "code",
   "execution_count": 8,
   "id": "0cad0f47-b762-4c2b-be2f-cca6f10718dd",
   "metadata": {},
   "outputs": [],
   "source": [
    "import pickle\n",
    "with open(\"Data\\song_list.pickle\", \"wb\") as f:\n",
    "\tpickle.dump(song_list,f)"
   ]
  },
  {
   "cell_type": "markdown",
   "id": "6274b537-860d-439e-874c-83efdf5fe044",
   "metadata": {},
   "source": [
    "## Compile list of audio features from song list"
   ]
  },
  {
   "cell_type": "code",
   "execution_count": 9,
   "id": "a7f37d0b-15e5-4e71-87d1-f34de5781ab2",
   "metadata": {
    "tags": []
   },
   "outputs": [
    {
     "name": "stdout",
     "output_type": "stream",
     "text": [
      "Bad 467\n",
      "Bad 2658\n",
      "Bad 2671\n",
      "Bad 2979\n",
      "Bad 3387\n",
      "Bad 3470\n",
      "Bad 3640\n",
      "Bad 3684\n",
      "Bad 3731\n",
      "Bad 3757\n",
      "Bad 3775\n",
      "Bad 4003\n",
      "Bad 4049\n",
      "Bad 4318\n",
      "Bad 4465\n",
      "Bad 4468\n",
      "Bad 4552\n",
      "Bad 4710\n",
      "Bad 4905\n",
      "Bad 5459\n",
      "Bad 5526\n",
      "Bad 5926\n",
      "Bad 6094\n",
      "Bad 6179\n",
      "Bad 6243\n",
      "Bad 6663\n",
      "Bad 6846\n",
      "Bad 6897\n",
      "Bad 6908\n",
      "Bad 7131\n",
      "Bad 7173\n",
      "Bad 7336\n",
      "Bad 7579\n",
      "Bad 7655\n",
      "Bad 7693\n",
      "Bad 7786\n",
      "Bad 7793\n",
      "Bad 7909\n",
      "Bad 8464\n",
      "Bad 8475\n",
      "Bad 8660\n",
      "Bad 8828\n",
      "Bad 8911\n",
      "Bad 8941\n",
      "Bad 9162\n",
      "Bad 9382\n",
      "Bad 9489\n",
      "Bad 9633\n",
      "Bad 9693\n",
      "Bad 9819\n",
      "Bad 9846\n",
      "Bad 9850\n",
      "Bad 9865\n"
     ]
    }
   ],
   "source": [
    "df,bad_list=get_playlist_audio_features(song_list)"
   ]
  },
  {
   "cell_type": "markdown",
   "id": "9a24273b-9ce9-4931-8045-9e1bdae52430",
   "metadata": {},
   "source": [
    "## Save dataframe of audio features for future use"
   ]
  },
  {
   "cell_type": "code",
   "execution_count": 10,
   "id": "beb189bd-bbbe-42a0-9cff-26dad5f20968",
   "metadata": {},
   "outputs": [],
   "source": [
    "df.to_csv(\"Data\\compiled10000.csv\", index=False)"
   ]
  },
  {
   "cell_type": "code",
   "execution_count": 20,
   "id": "5828b384-8d64-4a34-b362-87b4ec6768a4",
   "metadata": {},
   "outputs": [
    {
     "data": {
      "text/plain": [
       "'Bob Dylan'"
      ]
     },
     "execution_count": 20,
     "metadata": {},
     "output_type": "execute_result"
    }
   ],
   "source": []
  },
  {
   "cell_type": "markdown",
   "id": "0047afe1-a9a2-4c56-a78d-b773deee5777",
   "metadata": {},
   "source": [
    "# Add on additional information"
   ]
  },
  {
   "cell_type": "code",
   "execution_count": 21,
   "id": "27eda137-d259-4b6c-ae78-e89ce2dd5c4c",
   "metadata": {},
   "outputs": [],
   "source": [
    "artists=[]\n",
    "song_titles=[]\n",
    "popularity=[]\n",
    "explicit=[]\n",
    "release_date=[]\n",
    "\n",
    "for ids in df['id']:\n",
    "    temp_val=sp.track(ids)\n",
    "    song_titles.append(temp_val['name'])\n",
    "    popularity.append(temp_val['popularity'])\n",
    "    release_date.append(temp_val['album']['release_date'])\n",
    "    explicit.append(temp_val['explicit'])\n",
    "    artists.append(temp_val['artists'][0]['name'])"
   ]
  },
  {
   "cell_type": "code",
   "execution_count": 22,
   "id": "87df6c6a-c27d-4a94-a05d-be18658b41be",
   "metadata": {},
   "outputs": [],
   "source": [
    "df_full=df.copy()"
   ]
  },
  {
   "cell_type": "code",
   "execution_count": 23,
   "id": "21ac9ed3-733e-4c19-887f-a5903b9ce898",
   "metadata": {},
   "outputs": [],
   "source": [
    "df_full['artist']=artists\n",
    "df_full['song_title']=song_titles\n",
    "df_full['explicit']=explicit\n",
    "df_full['popularity']=popularity"
   ]
  },
  {
   "cell_type": "markdown",
   "id": "a9cf8490-cdd3-47d5-af74-6212ad6d5e37",
   "metadata": {},
   "source": [
    "# Save final version of file"
   ]
  },
  {
   "cell_type": "code",
   "execution_count": 24,
   "id": "5aaa2c54-43d5-4172-9d42-b093e5eb685a",
   "metadata": {},
   "outputs": [],
   "source": [
    "df_full.to_csv(\"Data\\compiled_full_10000.csv\", index=False)"
   ]
  },
  {
   "cell_type": "code",
   "execution_count": null,
   "id": "2d917302-0d26-47cf-a861-c70997d09b50",
   "metadata": {},
   "outputs": [],
   "source": []
  }
 ],
 "metadata": {
  "kernelspec": {
   "display_name": "Python 3 (ipykernel)",
   "language": "python",
   "name": "python3"
  },
  "language_info": {
   "codemirror_mode": {
    "name": "ipython",
    "version": 3
   },
   "file_extension": ".py",
   "mimetype": "text/x-python",
   "name": "python",
   "nbconvert_exporter": "python",
   "pygments_lexer": "ipython3",
   "version": "3.9.12"
  },
  "toc": {
   "base_numbering": 1,
   "nav_menu": {},
   "number_sections": true,
   "sideBar": true,
   "skip_h1_title": false,
   "title_cell": "Table of Contents",
   "title_sidebar": "Contents",
   "toc_cell": false,
   "toc_position": {},
   "toc_section_display": true,
   "toc_window_display": false
  },
  "toc-autonumbering": true,
  "varInspector": {
   "cols": {
    "lenName": 16,
    "lenType": 16,
    "lenVar": 40
   },
   "kernels_config": {
    "python": {
     "delete_cmd_postfix": "",
     "delete_cmd_prefix": "del ",
     "library": "var_list.py",
     "varRefreshCmd": "print(var_dic_list())"
    },
    "r": {
     "delete_cmd_postfix": ") ",
     "delete_cmd_prefix": "rm(",
     "library": "var_list.r",
     "varRefreshCmd": "cat(var_dic_list()) "
    }
   },
   "types_to_exclude": [
    "module",
    "function",
    "builtin_function_or_method",
    "instance",
    "_Feature"
   ],
   "window_display": false
  }
 },
 "nbformat": 4,
 "nbformat_minor": 5
}
