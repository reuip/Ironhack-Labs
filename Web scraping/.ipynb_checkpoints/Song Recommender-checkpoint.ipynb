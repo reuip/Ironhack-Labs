{
 "cells": [
  {
   "cell_type": "markdown",
   "id": "8b90e9af-0180-4a30-a2bd-77d48a825965",
   "metadata": {},
   "source": [
    "# Complete imports"
   ]
  },
  {
   "cell_type": "code",
   "execution_count": 32,
   "id": "fe5aac59-82af-43e5-9080-2373bd19433d",
   "metadata": {},
   "outputs": [],
   "source": [
    "import sys\n",
    "import pandas as pd\n",
    "import requests\n",
    "import qgrid\n",
    "import random\n",
    "from textblob import TextBlob"
   ]
  },
  {
   "cell_type": "markdown",
   "id": "4cd3182b-d489-4114-9f8d-c9766c2ce0e4",
   "metadata": {},
   "source": [
    " # Load dataframe from csv"
   ]
  },
  {
   "cell_type": "code",
   "execution_count": 33,
   "id": "49c8ff98-aff1-4bf4-85ae-17abaabf5cf6",
   "metadata": {},
   "outputs": [],
   "source": [
    "#Load file\n",
    "top_100=pd.read_csv(\"top100.csv\")\n",
    "\n",
    "#Lowercase all records in file\n",
    "#top_100=top_100.applymap(lambda x:x.lower() if type(x) == str else x)"
   ]
  },
  {
   "cell_type": "code",
   "execution_count": 34,
   "id": "d923e74f-906c-4fa7-8884-bf4149c6c04b",
   "metadata": {},
   "outputs": [],
   "source": [
    "def check_spelling(your_fav_song):\n",
    "    typo=True\n",
    "\n",
    "    while typo==True:\n",
    "        textBlb = TextBlob(your_fav_song.lower())            \n",
    "        textCorrected = textBlb.correct()\n",
    "\n",
    "        if textCorrected.title()!=your_fav_song.title():\n",
    "            new_input=input(f\"Potential typo, did you mean {textCorrected.title()}? (y to accept new input, n to keep old, or give a new input)\")\n",
    "\n",
    "            if new_input.lower()==\"y\":\n",
    "                your_fav_song=str(textCorrected.title())\n",
    "            elif new_input.lower()==\"n\":\n",
    "                break\n",
    "            else:\n",
    "                your_fav_song=new_input.title()\n",
    "        else:\n",
    "            typo=False\n",
    "    return your_fav_song.title()"
   ]
  },
  {
   "cell_type": "code",
   "execution_count": 35,
   "id": "8681fdaf-dbfc-49d5-82c4-2cf57177d28d",
   "metadata": {},
   "outputs": [],
   "source": [
    "def check_completeness(your_fav_song,top_100_songs): \n",
    "    if any(your_fav_song in song for song in top_100_songs):\n",
    "        assumed_song=[x for x in top_100_songs if your_fav_song in x] \n",
    "        assumed_song[0]=assumed_song[0].title()\n",
    "        new_input=input(f\"Oops, you seemed to have missed some letters! Did you mean {assumed_song[0]}? (y/n)\")\n",
    "        if new_input.lower()==\"y\":\n",
    "            return assumed_song[0]\n",
    "        else:\n",
    "            return your_fav_song\n",
    "    else:      \n",
    "        return your_fav_song"
   ]
  },
  {
   "cell_type": "code",
   "execution_count": 36,
   "id": "57bfa1e2-4aa5-4417-8706-f107d498ca0b",
   "metadata": {},
   "outputs": [],
   "source": [
    "def return_recommendation(your_fav_song,top_100_songs,top_100):\n",
    "    top_99_songs=top_100_songs\n",
    "    top_99_songs.remove(your_fav_song)\n",
    "    recommended_song=random.choice(top_99_songs)\n",
    "    recommended_artist=top_100.loc[top_100['song_name']==recommended_song,'artist_name'].item()\n",
    "    print(f\"{your_fav_song} is popular! Maybe you'll also like: {recommended_song}, by {recommended_artist}\")"
   ]
  },
  {
   "cell_type": "code",
   "execution_count": null,
   "id": "b90097fc-0217-4038-b771-b110f5e0d27f",
   "metadata": {},
   "outputs": [],
   "source": [
    "your_fav_song=input(\"Please share your favorite song. If it's popular, I'll give you another recommendation!\")\n",
    "your_fav_song=your_fav_song.title()\n",
    "top_100_songs=list(top_100['song_name'].str.title())\n",
    "\n",
    "your_fav_song=check_spelling(your_fav_song)\n",
    "\n",
    "if your_fav_song not in top_100_songs:\n",
    "    your_fav_song=check_completeness(your_fav_song,top_100_songs)\n",
    "\n",
    "if your_fav_song in top_100_songs:\n",
    "    return_recommendation(your_fav_song,top_100_songs,top_100)\n",
    "else:\n",
    "    print(f\"{your_fav_song} isn't popular right now! No recommendation for you!\")"
   ]
  }
 ],
 "metadata": {
  "kernelspec": {
   "display_name": "Python 3 (ipykernel)",
   "language": "python",
   "name": "python3"
  },
  "language_info": {
   "codemirror_mode": {
    "name": "ipython",
    "version": 3
   },
   "file_extension": ".py",
   "mimetype": "text/x-python",
   "name": "python",
   "nbconvert_exporter": "python",
   "pygments_lexer": "ipython3",
   "version": "3.9.12"
  },
  "toc-autonumbering": true,
  "toc-showcode": false,
  "toc-showmarkdowntxt": false
 },
 "nbformat": 4,
 "nbformat_minor": 5
}
