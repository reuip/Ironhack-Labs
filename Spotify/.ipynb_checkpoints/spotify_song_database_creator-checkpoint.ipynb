{
 "cells": [
  {
   "cell_type": "markdown",
   "id": "b9689d38-7da9-4645-8e59-6324ecd27a3b",
   "metadata": {},
   "source": [
    "# Import libraries and prep spotipy"
   ]
  },
  {
   "cell_type": "code",
   "execution_count": 1,
   "id": "6e3fad9d",
   "metadata": {},
   "outputs": [],
   "source": [
    "import spotipy\n",
    "import spotify_cred\n",
    "from spotipy.oauth2 import SpotifyClientCredentials\n",
    "import pandas as pd\n",
    "import pprint\n",
    "from time import sleep\n",
    "from random import randint\n",
    "\n",
    "\n",
    "c_id = spotify_cred.c_id\n",
    "c_se = spotify_cred.c_se\n",
    "\n",
    "sp = spotipy.Spotify(auth_manager=SpotifyClientCredentials(client_id=c_id, client_secret=c_se))"
   ]
  },
  {
   "cell_type": "markdown",
   "id": "349e3656-f77a-4713-84f1-9921ec92cb5d",
   "metadata": {},
   "source": [
    "## Custom functions"
   ]
  },
  {
   "cell_type": "code",
   "execution_count": 7,
   "id": "006f303e-b383-4e38-8a44-f3da294c210d",
   "metadata": {},
   "outputs": [],
   "source": [
    "def get_playlist_tracks(playlist_id):\n",
    "    results = sp.playlist_tracks(playlist_id)\n",
    "    tracks = results['items']\n",
    "    while results['next']:\n",
    "        results = sp.next(results)\n",
    "        tracks.extend(results['items'])\n",
    "    return tracks\n",
    "\n",
    "\n",
    "def get_playlist_audio_features(playlist):\n",
    "    list_of_audio_features=[]\n",
    "    bad_items=[]\n",
    "    for item in range(0,len(playlist)):\n",
    "        try:\n",
    "            temp_features=sp.audio_features(playlist[item][\"track\"][\"id\"])[0]\n",
    "            if temp_features!= None:\n",
    "                list_of_audio_features.append(temp_features)\n",
    "                #print(\"Good\",item)\n",
    "        except:\n",
    "            bad_items.append(item)\n",
    "            print(\"Bad\",item)\n",
    "            pass\n",
    "    df=pd.DataFrame(list_of_audio_features)    \n",
    "    df=df[[\"danceability\",\"energy\",\"loudness\",\"speechiness\",\"acousticness\",\"instrumentalness\",\"liveness\",\"valence\",\"tempo\",\"id\",\"duration_ms\"]]\n",
    "    return df,bad_items\n",
    "\n",
    "def compile_playlists(playlist_df):\n",
    "    full_playlist=[]\n",
    "    seconds_to_wait = randint(2,7)\n",
    "\n",
    "\n",
    "    for i in playlist_df['IDs']:\n",
    "        temp_playlist=get_playlist_tracks(i)\n",
    "        full_playlist.extend(temp_playlist)\n",
    "        sleep(seconds_to_wait)\n",
    "    return full_playlist"
   ]
  },
  {
   "cell_type": "markdown",
   "id": "0cad768c-b469-478c-a3e0-ce32c88f68a3",
   "metadata": {},
   "source": [
    "# Get list of songs from playlists"
   ]
  },
  {
   "cell_type": "code",
   "execution_count": 4,
   "id": "92e69685-dd8e-464d-8408-3af943a75ea2",
   "metadata": {},
   "outputs": [],
   "source": [
    "playlist_df=pd.read_csv(r\"C:\\Users\\MichaelTaylo_c9zoof3\\Documents\\GitHub\\Ironhack-Labs\\Spotify\\playlists.csv\")"
   ]
  },
  {
   "cell_type": "code",
   "execution_count": 5,
   "id": "1667490d-cad5-4a5e-ae7d-929f18dfd8b6",
   "metadata": {
    "tags": []
   },
   "outputs": [],
   "source": [
    "song_list=compile_playlists(playlist_df)"
   ]
  },
  {
   "cell_type": "code",
   "execution_count": 8,
   "id": "d39384bb-ca51-4868-bae2-5c997cfc415b",
   "metadata": {},
   "outputs": [
    {
     "data": {
      "text/plain": [
       "6068"
      ]
     },
     "execution_count": 8,
     "metadata": {},
     "output_type": "execute_result"
    }
   ],
   "source": [
    "len(song_list)"
   ]
  },
  {
   "cell_type": "markdown",
   "id": "35864234-6bda-4c6c-9607-399c0826845a",
   "metadata": {},
   "source": [
    "## Save list of songs for future use"
   ]
  },
  {
   "cell_type": "code",
   "execution_count": null,
   "id": "0cad0f47-b762-4c2b-be2f-cca6f10718dd",
   "metadata": {},
   "outputs": [],
   "source": [
    "import pickle\n",
    "with open(\"song_list.pickle\", \"wb\") as f:\n",
    "\tpickle.dump(song_list,f)"
   ]
  },
  {
   "cell_type": "markdown",
   "id": "6274b537-860d-439e-874c-83efdf5fe044",
   "metadata": {},
   "source": [
    "## Compile list of audio features from song list"
   ]
  },
  {
   "cell_type": "code",
   "execution_count": 9,
   "id": "a7f37d0b-15e5-4e71-87d1-f34de5781ab2",
   "metadata": {
    "tags": []
   },
   "outputs": [
    {
     "name": "stdout",
     "output_type": "stream",
     "text": [
      "Bad 1959\n",
      "Bad 4358\n"
     ]
    }
   ],
   "source": [
    "df,bad_list=get_playlist_audio_features(song_list)"
   ]
  },
  {
   "cell_type": "markdown",
   "id": "9a24273b-9ce9-4931-8045-9e1bdae52430",
   "metadata": {},
   "source": [
    "## Save dataframe of audio features for future use"
   ]
  },
  {
   "cell_type": "code",
   "execution_count": 11,
   "id": "beb189bd-bbbe-42a0-9cff-26dad5f20968",
   "metadata": {},
   "outputs": [],
   "source": [
    "df.to_csv(\"compiled.csv\", index=False)"
   ]
  },
  {
   "cell_type": "markdown",
   "id": "0047afe1-a9a2-4c56-a78d-b773deee5777",
   "metadata": {},
   "source": [
    "# Add on additional information"
   ]
  },
  {
   "cell_type": "code",
   "execution_count": 66,
   "id": "27eda137-d259-4b6c-ae78-e89ce2dd5c4c",
   "metadata": {},
   "outputs": [],
   "source": [
    "artists=[]\n",
    "song_titles=[]\n",
    "popularity=[]\n",
    "explicit=[]\n",
    "\n",
    "for ids in df['id']:\n",
    "    temp_val=sp.track(ids)\n",
    "    song_titles.append(temp_val['name'])\n",
    "    popularity.append(temp_val['popularity'])\n",
    "    explicit.append(temp_val['explicit'])\n",
    "    temp_artist=[artist['name'] for artist in temp_val['artists']]\n",
    "    artists.append([temp_artist])"
   ]
  },
  {
   "cell_type": "code",
   "execution_count": 69,
   "id": "87df6c6a-c27d-4a94-a05d-be18658b41be",
   "metadata": {},
   "outputs": [],
   "source": [
    "df_full=df.copy()"
   ]
  },
  {
   "cell_type": "code",
   "execution_count": 71,
   "id": "21ac9ed3-733e-4c19-887f-a5903b9ce898",
   "metadata": {},
   "outputs": [],
   "source": [
    "df_full['artist']=artists\n",
    "df_full['song_title']=song_titles\n",
    "df_full['explicit']=explicit\n",
    "df_full['popularity']=popularity"
   ]
  },
  {
   "cell_type": "markdown",
   "id": "a9cf8490-cdd3-47d5-af74-6212ad6d5e37",
   "metadata": {},
   "source": [
    "# Save final version of file"
   ]
  },
  {
   "cell_type": "code",
   "execution_count": 72,
   "id": "5aaa2c54-43d5-4172-9d42-b093e5eb685a",
   "metadata": {},
   "outputs": [],
   "source": [
    "df_full.to_csv(\"compiled_full.csv\", index=False)"
   ]
  }
 ],
 "metadata": {
  "kernelspec": {
   "display_name": "Python 3 (ipykernel)",
   "language": "python",
   "name": "python3"
  },
  "language_info": {
   "codemirror_mode": {
    "name": "ipython",
    "version": 3
   },
   "file_extension": ".py",
   "mimetype": "text/x-python",
   "name": "python",
   "nbconvert_exporter": "python",
   "pygments_lexer": "ipython3",
   "version": "3.9.12"
  },
  "toc": {
   "base_numbering": 1,
   "nav_menu": {},
   "number_sections": true,
   "sideBar": true,
   "skip_h1_title": false,
   "title_cell": "Table of Contents",
   "title_sidebar": "Contents",
   "toc_cell": false,
   "toc_position": {},
   "toc_section_display": true,
   "toc_window_display": false
  },
  "toc-autonumbering": true,
  "varInspector": {
   "cols": {
    "lenName": 16,
    "lenType": 16,
    "lenVar": 40
   },
   "kernels_config": {
    "python": {
     "delete_cmd_postfix": "",
     "delete_cmd_prefix": "del ",
     "library": "var_list.py",
     "varRefreshCmd": "print(var_dic_list())"
    },
    "r": {
     "delete_cmd_postfix": ") ",
     "delete_cmd_prefix": "rm(",
     "library": "var_list.r",
     "varRefreshCmd": "cat(var_dic_list()) "
    }
   },
   "types_to_exclude": [
    "module",
    "function",
    "builtin_function_or_method",
    "instance",
    "_Feature"
   ],
   "window_display": false
  }
 },
 "nbformat": 4,
 "nbformat_minor": 5
}
