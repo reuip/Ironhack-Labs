{
 "cells": [
  {
   "cell_type": "markdown",
   "id": "c8deedd5",
   "metadata": {},
   "source": [
    "# Prepare environment"
   ]
  },
  {
   "cell_type": "markdown",
   "id": "870401c7",
   "metadata": {},
   "source": [
    "## Imports and load libraries"
   ]
  },
  {
   "cell_type": "code",
   "execution_count": 195,
   "id": "c20a7e4b",
   "metadata": {},
   "outputs": [],
   "source": [
    "import numpy as np\n",
    "import pandas as pd\n",
    "import matplotlib.pyplot as plt\n",
    "%matplotlib inline\n",
    "import seaborn as sns\n",
    "from sklearn.preprocessing import StandardScaler\n",
    "from sklearn.preprocessing import quantile_transform\n",
    "from sklearn.preprocessing import minmax_scale\n",
    "from sklearn.preprocessing import OneHotEncoder  ##. better to use dummy from pandas \n",
    "from sklearn.preprocessing import PowerTransformer\n",
    "from scipy.stats import boxcox\n",
    "from sklearn.linear_model import LinearRegression\n",
    "from sklearn.model_selection import train_test_split\n",
    "import statsmodels.api as sm\n",
    "from scipy.stats import boxcox\n",
    "from sklearn.model_selection import train_test_split\n",
    "from sklearn.metrics import r2_score\n",
    "from sklearn.metrics import mean_squared_error as mse\n",
    "from sklearn.metrics import mean_absolute_error as mae\n",
    "pd.options.display.max_rows = 50\n",
    "import qgrid"
   ]
  },
  {
   "cell_type": "markdown",
   "id": "4b72891c",
   "metadata": {},
   "source": [
    "## Load relevant dataframe from file"
   ]
  },
  {
   "cell_type": "code",
   "execution_count": 196,
   "id": "76ebfd99",
   "metadata": {},
   "outputs": [],
   "source": [
    "df=pd.read_csv('titanic.csv')\n",
    "#df=sns.load_dataset('titanic')\n"
   ]
  },
  {
   "cell_type": "markdown",
   "id": "8f4f620f",
   "metadata": {},
   "source": [
    "# Quick clean and standardizing data (e.g. lowercase titles)"
   ]
  },
  {
   "cell_type": "markdown",
   "id": "943c5bf1",
   "metadata": {},
   "source": [
    "## Lowercase column names"
   ]
  },
  {
   "cell_type": "code",
   "execution_count": 197,
   "id": "57f6dd99",
   "metadata": {},
   "outputs": [],
   "source": [
    "#Use one line of this for every dataframe you want to impact\n",
    "df.columns= df.columns.str.lower()"
   ]
  },
  {
   "cell_type": "markdown",
   "id": "14b9f703",
   "metadata": {},
   "source": [
    "## Lowercase all string values in file"
   ]
  },
  {
   "cell_type": "code",
   "execution_count": 198,
   "id": "a8ef3e5d",
   "metadata": {},
   "outputs": [],
   "source": [
    "df = df.applymap(lambda x:x.lower() if type(x) == str else x)"
   ]
  },
  {
   "cell_type": "markdown",
   "id": "1705814b",
   "metadata": {},
   "source": [
    "## Removing duplicate records"
   ]
  },
  {
   "cell_type": "code",
   "execution_count": 199,
   "id": "7d9e420e",
   "metadata": {},
   "outputs": [],
   "source": [
    "#Removes duplicates if entire row is the same\n",
    "df.drop_duplicates(inplace=True)\n",
    "#Removes rows if they are completely blank\n",
    "df.dropna(how=\"all\",axis=0, inplace=True)"
   ]
  },
  {
   "cell_type": "markdown",
   "id": "7b702986",
   "metadata": {},
   "source": [
    "# Replace missing values"
   ]
  },
  {
   "cell_type": "markdown",
   "id": "f2559dfb",
   "metadata": {},
   "source": [
    "## Replace missing numbers with mean"
   ]
  },
  {
   "cell_type": "code",
   "execution_count": 200,
   "id": "35ff46ef",
   "metadata": {},
   "outputs": [
    {
     "ename": "NameError",
     "evalue": "name 'ca_df' is not defined",
     "output_type": "error",
     "traceback": [
      "\u001b[1;31m---------------------------------------------------------------------------\u001b[0m",
      "\u001b[1;31mNameError\u001b[0m                                 Traceback (most recent call last)",
      "Input \u001b[1;32mIn [200]\u001b[0m, in \u001b[0;36m<cell line: 7>\u001b[1;34m()\u001b[0m\n\u001b[0;32m      7\u001b[0m \u001b[38;5;28;01mfor\u001b[39;00m i \u001b[38;5;129;01min\u001b[39;00m col_list:\n\u001b[0;32m      8\u001b[0m     \u001b[38;5;28;01mif\u001b[39;00m df[i]\u001b[38;5;241m.\u001b[39misnull()\u001b[38;5;241m.\u001b[39mvalues\u001b[38;5;241m.\u001b[39many()\u001b[38;5;241m==\u001b[39m\u001b[38;5;28;01mTrue\u001b[39;00m:\n\u001b[1;32m----> 9\u001b[0m         \u001b[38;5;28;01mif\u001b[39;00m \u001b[43mca_df\u001b[49m[i]\u001b[38;5;241m.\u001b[39mdtype\u001b[38;5;241m!=\u001b[39m\u001b[38;5;124m'\u001b[39m\u001b[38;5;124mO\u001b[39m\u001b[38;5;124m'\u001b[39m:\n\u001b[0;32m     10\u001b[0m             integers_with_nan\u001b[38;5;241m.\u001b[39mappend(i)\n",
      "\u001b[1;31mNameError\u001b[0m: name 'ca_df' is not defined"
     ]
    }
   ],
   "source": [
    "# This creates a list ## integers_with_nan ## which is a list of numerical columns with blanks in them.  \n",
    "#The next parts will give you options for how to handle the blanks\n",
    "\n",
    "col_list=[]\n",
    "col_list=df.columns\n",
    "integers_with_nan=[]\n",
    "for i in col_list:\n",
    "    if df[i].isnull().values.any()==True:\n",
    "        if ca_df[i].dtype!='O':\n",
    "            integers_with_nan.append(i)"
   ]
  },
  {
   "cell_type": "code",
   "execution_count": null,
   "id": "dbb7a6db",
   "metadata": {},
   "outputs": [],
   "source": [
    "#Fill missing numbers with the average of the column\n",
    "for j in integers_with_nan:\n",
    "    temp_mean=np.mean(df[j])\n",
    "    df[j]=df[j].fillna(temp_mean)"
   ]
  },
  {
   "cell_type": "markdown",
   "id": "0d953a6b",
   "metadata": {},
   "source": [
    "# Review data"
   ]
  },
  {
   "cell_type": "markdown",
   "id": "3b22de1e",
   "metadata": {},
   "source": [
    "## Check data types and blanks"
   ]
  },
  {
   "cell_type": "code",
   "execution_count": null,
   "id": "ef7ad8bd",
   "metadata": {},
   "outputs": [],
   "source": [
    "df.info()"
   ]
  },
  {
   "cell_type": "markdown",
   "id": "c0341c0f",
   "metadata": {},
   "source": [
    "## Eyeball check data for issues"
   ]
  },
  {
   "cell_type": "code",
   "execution_count": null,
   "id": "37255b9a",
   "metadata": {},
   "outputs": [],
   "source": [
    "qgrid.show_grid(df,grid_options={'forceFitColumns': False})"
   ]
  },
  {
   "cell_type": "markdown",
   "id": "dff1f426",
   "metadata": {},
   "source": [
    "# Fix categorical values"
   ]
  },
  {
   "cell_type": "markdown",
   "id": "bd0221df",
   "metadata": {},
   "source": [
    "## Check categorical columns for misspellings or issues"
   ]
  },
  {
   "cell_type": "code",
   "execution_count": null,
   "id": "1c1abade",
   "metadata": {},
   "outputs": [],
   "source": [
    "# Creates a copy of the dataframe for string-based columns only.  \n",
    "# Then, creates a dictionary of the column (key) plus array of values (value) to show the results\n",
    "\n",
    "categorical_df=df.select_dtypes(object)\n",
    "unique_dict={col: categorical_df[col].unique() for col in categorical_df}\n",
    "unique_dict"
   ]
  },
  {
   "cell_type": "markdown",
   "id": "cd3498de",
   "metadata": {},
   "source": [
    "## Fix categorical values by replacing values with new ones"
   ]
  },
  {
   "cell_type": "markdown",
   "id": "c9ee4676",
   "metadata": {},
   "source": [
    "### Replace a list of terms with one standard version"
   ]
  },
  {
   "cell_type": "code",
   "execution_count": null,
   "id": "352674e7",
   "metadata": {},
   "outputs": [],
   "source": [
    "# Create a dictionary ##a## of values to correct.  \n",
    "# Outer dictionary is the column to correct\n",
    "# Inner dictionary key is the correct spelling, then list (dictionary value) is the incorrect spellings to find and replace\n",
    "\n",
    "a={\n",
    "    'sex':\n",
    "        {'female':['f','femal'],\n",
    "        'male':['male','m']}\n",
    "}\n",
    "\n",
    "\n",
    "#This code will run through the dictionary a and update string values in the dataframe\n",
    "#Using the new string values\n",
    "for key in a.keys():\n",
    "    for key2 in a[key].keys():\n",
    "        list_values=a[key][key2]\n",
    "        df.loc[df[str(key)].isin(list_values),key]=str(key2)"
   ]
  },
  {
   "cell_type": "markdown",
   "id": "e8665027",
   "metadata": {},
   "source": [
    "### Replace terms 1:1 with an alternative"
   ]
  },
  {
   "cell_type": "code",
   "execution_count": null,
   "id": "a0f59e8d",
   "metadata": {},
   "outputs": [],
   "source": [
    "#Fill in these three with correct values, then run to update a column with new values.\n",
    "original_version=['f','m']          #List in order of terms in column to change\n",
    "new_version=['female','male']       #List in order of original version list of new terms to use\n",
    "column_name='gender'                #Column name to use in action\n",
    "\n",
    "replace_map=dict(zip(original_version,new_version))\n",
    "\n",
    "df[column_name].replace(replace_map,inplace=True)\n"
   ]
  }
 ],
 "metadata": {
  "kernelspec": {
   "display_name": "Python 3 (ipykernel)",
   "language": "python",
   "name": "python3"
  },
  "language_info": {
   "codemirror_mode": {
    "name": "ipython",
    "version": 3
   },
   "file_extension": ".py",
   "mimetype": "text/x-python",
   "name": "python",
   "nbconvert_exporter": "python",
   "pygments_lexer": "ipython3",
   "version": "3.9.12"
  },
  "toc": {
   "base_numbering": 1,
   "nav_menu": {},
   "number_sections": true,
   "sideBar": true,
   "skip_h1_title": false,
   "title_cell": "Table of Contents",
   "title_sidebar": "Contents",
   "toc_cell": false,
   "toc_position": {
    "height": "calc(100% - 180px)",
    "left": "10px",
    "top": "150px",
    "width": "273.188px"
   },
   "toc_section_display": true,
   "toc_window_display": true
  },
  "varInspector": {
   "cols": {
    "lenName": 16,
    "lenType": 16,
    "lenVar": 40
   },
   "kernels_config": {
    "python": {
     "delete_cmd_postfix": "",
     "delete_cmd_prefix": "del ",
     "library": "var_list.py",
     "varRefreshCmd": "print(var_dic_list())"
    },
    "r": {
     "delete_cmd_postfix": ") ",
     "delete_cmd_prefix": "rm(",
     "library": "var_list.r",
     "varRefreshCmd": "cat(var_dic_list()) "
    }
   },
   "position": {
    "height": "292.844px",
    "left": "996px",
    "right": "20px",
    "top": "120px",
    "width": "350px"
   },
   "types_to_exclude": [
    "module",
    "function",
    "builtin_function_or_method",
    "instance",
    "_Feature"
   ],
   "window_display": false
  }
 },
 "nbformat": 4,
 "nbformat_minor": 5
}
