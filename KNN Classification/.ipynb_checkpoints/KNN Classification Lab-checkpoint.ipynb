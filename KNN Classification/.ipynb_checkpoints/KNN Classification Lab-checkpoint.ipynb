{
 "cells": [
  {
   "cell_type": "markdown",
   "id": "e379e48d-cd48-4115-9a96-8da8acaa82e3",
   "metadata": {},
   "source": [
    "# Load dependencies"
   ]
  },
  {
   "cell_type": "code",
   "execution_count": 259,
   "id": "f5f4f71b-bda8-444c-8636-06286215c2f3",
   "metadata": {},
   "outputs": [],
   "source": [
    "import pandas as pd\n",
    "import numpy as np\n",
    "import pickle\n",
    "from sklearn.model_selection import train_test_split\n",
    "from sklearn.compose import make_column_selector as selector\n",
    "from sklearn.compose import ColumnTransformer\n",
    "from sklearn.preprocessing import StandardScaler\n",
    "from sklearn.preprocessing import OneHotEncoder \n",
    "from matplotlib import pyplot as plt\n",
    "from sklearn.tree import DecisionTreeClassifier\n",
    "import pandas as pd\n",
    "import numpy as np\n",
    "\n",
    "from sklearn.datasets import load_boston\n",
    "from sklearn.datasets import load_iris\n",
    "\n",
    "from sklearn.model_selection import cross_val_score\n",
    "from sklearn.model_selection import cross_val_predict\n",
    "\n",
    "from sklearn.model_selection import train_test_split\n",
    "\n",
    "from sklearn.linear_model import LinearRegression\n",
    "from sklearn.neighbors import KNeighborsRegressor\n",
    "from sklearn.tree import DecisionTreeClassifier\n",
    "from sklearn.tree import DecisionTreeRegressor\n",
    "import warnings\n",
    "warnings.filterwarnings('ignore')\n",
    "from imblearn.over_sampling import SMOTE\t#create smote object\n",
    "from imblearn.under_sampling import TomekLinks\n",
    "from sklearn.metrics import plot_confusion_matrix\n",
    "from sklearn.tree import plot_tree"
   ]
  },
  {
   "cell_type": "markdown",
   "id": "c39001bc-8a5e-4f47-9b9c-699dd85f388f",
   "metadata": {},
   "source": [
    "# Load file"
   ]
  },
  {
   "cell_type": "code",
   "execution_count": 102,
   "id": "b5d3e42c-d567-4c4c-979b-38acddd7b32f",
   "metadata": {},
   "outputs": [],
   "source": [
    "churnData=pd.read_csv(r'Data/DATA_Customer-Churn.csv')"
   ]
  },
  {
   "cell_type": "markdown",
   "id": "2ce914bf-f418-4b6c-b3db-c2d0873f90fb",
   "metadata": {},
   "source": [
    "# User defined functions"
   ]
  },
  {
   "cell_type": "code",
   "execution_count": 280,
   "id": "ef04622c-f1bf-4f96-bcdb-2ead02895ac9",
   "metadata": {},
   "outputs": [],
   "source": [
    "def d_nan_to_mean(dataframe,columns):\n",
    "    integers_with_nan=columns\n",
    "    df=dataframe.copy()\n",
    "    #Loop through all columns in list, for each get the mean and fillna with mean\n",
    "    for j in integers_with_nan:\n",
    "        temp_mean=np.mean(df[j])\n",
    "        df[j]=df[j].fillna(temp_mean)\n",
    "    \n",
    "    return df\n",
    "churnData_cleaned=d_nan_to_mean(churnData,[\"TotalCharges\"])\n",
    "\n",
    "\n",
    "\n",
    "def ca_prep_xy(dataframe,y_name,size_val=.3):\n",
    "    \n",
    "    #Prep X-Y Split\n",
    "    y=dataframe[y_name]\n",
    "    x=dataframe.drop(labels=y_name,axis=1)\n",
    "\n",
    "    #Create train-test data using 'size_val' percent of test data\n",
    "    x_train,x_test,y_train,y_test = train_test_split(x,y,test_size=size_val,random_state=123)\n",
    "\n",
    "    #Create transformer to normalize data\n",
    "    numerical_columns_selector = selector(dtype_exclude=object)\n",
    "    categorical_columns_selector = selector(dtype_include=object)\n",
    "\n",
    "    numerical_columns = numerical_columns_selector(x_train)\n",
    "    categorical_columns = categorical_columns_selector(x_train)\n",
    "\n",
    "    categorical_preprocessor = OneHotEncoder(drop='first',handle_unknown=\"ignore\")\n",
    "    numerical_preprocessor = StandardScaler()\n",
    "\n",
    "    transformer = ColumnTransformer([('cat', categorical_preprocessor, categorical_columns),\n",
    "                                      ('num', numerical_preprocessor, numerical_columns)],sparse_threshold=0)\n",
    "\n",
    "    \n",
    "    #Normalize/scale data\n",
    "    x_train_scaled=transformer.fit_transform(x_train)\n",
    "    x_test_scaled=transformer.transform(x_test)\n",
    "    feature_names=transformer.get_feature_names_out()\n",
    "    x_train_scaled=pd.DataFrame(data=x_train_scaled,columns=feature_names)\n",
    "    x_test_scaled=pd.DataFrame(data=x_test_scaled,columns=feature_names)\n",
    "    \n",
    "    with open(\"transformer.pickle\", \"wb\") as f:\n",
    "        pickle.dump(transformer,f)\n",
    "    \n",
    "    return x_train,y_train,x_train_scaled,x_test_scaled,y_test,x_test\n",
    "\n",
    "\n",
    "\n",
    "def resize_random_sample(dataframe,y_name,downsize=False):\n",
    "    valuecount_rank=dataframe.groupby([y_name])[y_name].count().sort_values(ascending=False)\n",
    "    max_len=valuecount_rank.values[0]\n",
    "    min_len=valuecount_rank.values[-1]\n",
    "    \n",
    "    new_val_list=[]\n",
    "    #If downsize is true\n",
    "    if downsize==True:\n",
    "        for i in valuecount_rank.index:\n",
    "            if len(dataframe[dataframe[y_name]==i])!=min_len:\n",
    "                temp_list=dataframe[dataframe[y_name]==i].sample(min_len)\n",
    "                new_val_list.append(temp_list)\n",
    "            else:\n",
    "                new_val_list.append(dataframe[dataframe[y_name]==i])\n",
    "    \n",
    "    #If downsize is true\n",
    "    if downsize==False:\n",
    "        for i in valuecount_rank.index:\n",
    "            if len(dataframe[dataframe[y_name]==i])!=max_len:\n",
    "                temp_list=dataframe[dataframe[y_name]==i].sample(max_len, replace=True)\n",
    "                new_val_list.append(temp_list)\n",
    "            else:\n",
    "                new_val_list.append(dataframe[dataframe[y_name]==i])\n",
    "                \n",
    "    new_df=pd.DataFrame()\n",
    "    new_df=pd.concat(new_val_list,axis=0)\n",
    "    new_df = new_df.sample(frac=1)\n",
    "    return new_df\n",
    "\n",
    "\n",
    "def evaluate_classification_model(y_train, y_pred_train, y_test, y_pred_test):\n",
    "    performance_df = pd.DataFrame({'Error_metric': ['Accuracy','Precision','Recall'],\n",
    "                               'Train': [accuracy_score(y_train, y_pred_train),\n",
    "                                         precision_score(y_train, y_pred_train),\n",
    "                                         recall_score(y_train, y_pred_train)],\n",
    "                               'Test': [accuracy_score(y_test, y_pred_test),\n",
    "                                        precision_score(y_test, y_pred_test),\n",
    "                                        recall_score(y_test, y_pred_test)]})\n",
    "    \n",
    "    pd.options.display.float_format = '{:.2f}'.format\n",
    "\n",
    "    df_train = pd.DataFrame({'Real': y_train, 'Predicted': y_pred_train})\n",
    "    df_test  = pd.DataFrame({'Real': y_test,  'Predicted': y_pred_test})\n",
    "\n",
    "    return performance_df, df_train, df_test\n",
    "\n",
    "\n",
    "def conduct_knn(database,y_name,n_neighbors=5,show_plot=False):\n",
    "\n",
    "    x_train,y_train,x_train_scaled,x_test_scaled,y_test,x_test = ca_prep_xy(database,y_name)\n",
    "\n",
    "    model_knn = KNeighborsClassifier(n_neighbors=n_neighbors,weights='uniform')\n",
    "    model_knn.fit(x_train_scaled, y_train)\n",
    "    y_pred=model_knn.predict(x_test_scaled)\n",
    "    y_pred_train=model_knn.predict(x_train_scaled)\n",
    "\n",
    "    error_metrics_df,y_train_vs_predicted,y_test_vs_predicted=evaluate_classification_model(y_train, y_pred_train,y_test, y_pred)\n",
    "    if show_plot==True:\n",
    "        fig, ax = plt.subplots(1,2, figsize=(14,8))\n",
    "\n",
    "        plot_confusion_matrix(model_knn,x_train_scaled,y_train,ax=ax[0], values_format = 'd')\n",
    "        ax[0].title.set_text(\"Train Set\")\n",
    "\n",
    "        plot_confusion_matrix(model_knn,x_test_scaled,y_test,ax=ax[1],values_format = 'd')\n",
    "        ax[1].title.set_text(\"Test Set\")\n",
    "    \n",
    "    return model_knn, error_metrics_df\n",
    "\n",
    "def conduct_decision_tree(database,y_name,max_depth=5,show_plot=False):\n",
    "    x_train,y_train,x_train_scaled,x_test_scaled,y_test,x_test = ca_prep_xy(database,y_name)\n",
    "\n",
    "    model_DT = DecisionTreeClassifier(max_depth=max_depth)\n",
    "    model_DT.fit(x_train, y_train)\n",
    "\n",
    "    y_pred_train = model_DT.predict(x_train)\n",
    "    y_pred_test = model_DT.predict(x_test)\n",
    "\n",
    "    error_metrics_df,y_train_vs_predicted,y_test_vs_predicted=evaluate_classification_model(y_train, y_pred_train,y_test, y_pred_test)\n",
    "    \n",
    "    if show_plot==True:\n",
    "        fig, axes = plt.subplots(nrows = 1,ncols = 1,figsize = (34,20))\n",
    "        plot_tree(model,filled = True, rounded=True,feature_names=X.columns)\n",
    "        plt.show() \n",
    "    \n",
    "    return model_DT, error_metrics_df\n",
    "\n",
    "def conduct_smote(dataframe,y_name):\n",
    "    smote = SMOTE()\n",
    "    x=dataframe.drop(y_name,axis=1).copy()\n",
    "    y=dataframe[y_name].copy()\n",
    "    x_sm, y_sm = smote.fit_resample(x, y)\n",
    "    sm_total=pd.concat([x_sm,y_sm],axis=1)\n",
    "    return sm_total\n",
    "\n",
    "def conduct_tomek_links(dataframe,y_name):\n",
    "    x=dataframe.drop(y_name,axis=1).copy()\n",
    "    y=dataframe[y_name].copy()\n",
    "    tl = TomekLinks('majority')\n",
    "    x_tl, y_tl = tl.fit_resample(x, y)\n",
    "    tl_total=pd.concat([x_tl,y_tl],axis=1)\n",
    "    print (\"Original value counts:\")\n",
    "    print(y.value_counts())\n",
    "    print()\n",
    "    print(\"New value counts:\")\n",
    "    print(y_tl.value_counts())\n",
    "    return tl_total\n",
    "\n",
    "def cross_validate_models(model_list):\n",
    "    for i in model_list:\n",
    "        scores=cross_val_score(i, x_train, y_train, cv=5)\n",
    "        print(i)\n",
    "        print(scores)\n",
    "        print(\"%0.2f accuracy with a standard deviation of %0.2f\" % (scores.mean(), scores.std()))\n",
    "        print()"
   ]
  },
  {
   "cell_type": "markdown",
   "id": "ae8b4e41-b8cd-479e-85e6-8a75fc73945d",
   "metadata": {},
   "source": [
    "# Check datatypes"
   ]
  },
  {
   "cell_type": "code",
   "execution_count": 103,
   "id": "f772d962-3c74-4ebb-be9f-f553febc0a77",
   "metadata": {},
   "outputs": [
    {
     "name": "stdout",
     "output_type": "stream",
     "text": [
      "<class 'pandas.core.frame.DataFrame'>\n",
      "RangeIndex: 7043 entries, 0 to 7042\n",
      "Data columns (total 16 columns):\n",
      " #   Column            Non-Null Count  Dtype  \n",
      "---  ------            --------------  -----  \n",
      " 0   gender            7043 non-null   object \n",
      " 1   SeniorCitizen     7043 non-null   int64  \n",
      " 2   Partner           7043 non-null   object \n",
      " 3   Dependents        7043 non-null   object \n",
      " 4   tenure            7043 non-null   int64  \n",
      " 5   PhoneService      7043 non-null   object \n",
      " 6   OnlineSecurity    7043 non-null   object \n",
      " 7   OnlineBackup      7043 non-null   object \n",
      " 8   DeviceProtection  7043 non-null   object \n",
      " 9   TechSupport       7043 non-null   object \n",
      " 10  StreamingTV       7043 non-null   object \n",
      " 11  StreamingMovies   7043 non-null   object \n",
      " 12  Contract          7043 non-null   object \n",
      " 13  MonthlyCharges    7043 non-null   float64\n",
      " 14  TotalCharges      7043 non-null   object \n",
      " 15  Churn             7043 non-null   object \n",
      "dtypes: float64(1), int64(2), object(13)\n",
      "memory usage: 880.5+ KB\n"
     ]
    }
   ],
   "source": [
    "churnData.info()"
   ]
  },
  {
   "cell_type": "markdown",
   "id": "08a9d774-c43f-4482-b37f-fff1addfcaa3",
   "metadata": {},
   "source": [
    "## Fix TotalCharges to make it numeric"
   ]
  },
  {
   "cell_type": "code",
   "execution_count": 104,
   "id": "6ba47128-72fb-4ec4-a567-429acadf061b",
   "metadata": {
    "tags": []
   },
   "outputs": [],
   "source": [
    "churnData['TotalCharges']=pd.to_numeric(churnData['TotalCharges'],errors='coerce')"
   ]
  },
  {
   "cell_type": "code",
   "execution_count": 105,
   "id": "cc186908-ba2f-4a55-b62d-def40509ace5",
   "metadata": {},
   "outputs": [
    {
     "name": "stdout",
     "output_type": "stream",
     "text": [
      "<class 'pandas.core.frame.DataFrame'>\n",
      "RangeIndex: 7043 entries, 0 to 7042\n",
      "Data columns (total 16 columns):\n",
      " #   Column            Non-Null Count  Dtype  \n",
      "---  ------            --------------  -----  \n",
      " 0   gender            7043 non-null   object \n",
      " 1   SeniorCitizen     7043 non-null   int64  \n",
      " 2   Partner           7043 non-null   object \n",
      " 3   Dependents        7043 non-null   object \n",
      " 4   tenure            7043 non-null   int64  \n",
      " 5   PhoneService      7043 non-null   object \n",
      " 6   OnlineSecurity    7043 non-null   object \n",
      " 7   OnlineBackup      7043 non-null   object \n",
      " 8   DeviceProtection  7043 non-null   object \n",
      " 9   TechSupport       7043 non-null   object \n",
      " 10  StreamingTV       7043 non-null   object \n",
      " 11  StreamingMovies   7043 non-null   object \n",
      " 12  Contract          7043 non-null   object \n",
      " 13  MonthlyCharges    7043 non-null   float64\n",
      " 14  TotalCharges      7032 non-null   float64\n",
      " 15  Churn             7043 non-null   object \n",
      "dtypes: float64(2), int64(2), object(12)\n",
      "memory usage: 880.5+ KB\n"
     ]
    }
   ],
   "source": [
    "churnData.info()"
   ]
  },
  {
   "cell_type": "markdown",
   "id": "b8b2eade-34c0-4853-be31-d7212ba14feb",
   "metadata": {},
   "source": [
    "# Check missing values"
   ]
  },
  {
   "cell_type": "code",
   "execution_count": 106,
   "id": "df86ebf8-438f-4633-8e44-d1b913a8ecf4",
   "metadata": {},
   "outputs": [
    {
     "data": {
      "text/html": [
       "<div>\n",
       "<style scoped>\n",
       "    .dataframe tbody tr th:only-of-type {\n",
       "        vertical-align: middle;\n",
       "    }\n",
       "\n",
       "    .dataframe tbody tr th {\n",
       "        vertical-align: top;\n",
       "    }\n",
       "\n",
       "    .dataframe thead th {\n",
       "        text-align: right;\n",
       "    }\n",
       "</style>\n",
       "<table border=\"1\" class=\"dataframe\">\n",
       "  <thead>\n",
       "    <tr style=\"text-align: right;\">\n",
       "      <th></th>\n",
       "      <th>column</th>\n",
       "      <th># missing values</th>\n",
       "      <th>% missing values</th>\n",
       "    </tr>\n",
       "  </thead>\n",
       "  <tbody>\n",
       "    <tr>\n",
       "      <th>14</th>\n",
       "      <td>TotalCharges</td>\n",
       "      <td>11</td>\n",
       "      <td>0.16</td>\n",
       "    </tr>\n",
       "  </tbody>\n",
       "</table>\n",
       "</div>"
      ],
      "text/plain": [
       "          column  # missing values  % missing values\n",
       "14  TotalCharges                11              0.16"
      ]
     },
     "execution_count": 106,
     "metadata": {},
     "output_type": "execute_result"
    }
   ],
   "source": [
    "dataframe=churnData.copy()\n",
    "count_missing_val=dataframe.isnull().sum()\n",
    "count_all_val=len(dataframe)\n",
    "missing_ratio=(count_missing_val/count_all_val)*100\n",
    "data={'column':count_missing_val.index,\"# missing values\":count_missing_val.values,\"% missing values\":missing_ratio}\n",
    "count_missing_values_and_percent=pd.DataFrame(data)\n",
    "count_missing_values_and_percent.reset_index(drop=True,inplace=True)\n",
    "\n",
    "count_missing_values_and_percent.loc[count_missing_values_and_percent['% missing values']>0]"
   ]
  },
  {
   "cell_type": "markdown",
   "id": "4313aab8-4976-40db-aeaf-736ba087fde0",
   "metadata": {},
   "source": [
    "## Fix nan values"
   ]
  },
  {
   "cell_type": "code",
   "execution_count": 108,
   "id": "4d2947f7-cbe0-4cc1-8f19-24aa4c3fd5b2",
   "metadata": {},
   "outputs": [],
   "source": [
    "churn_key_features=churnData_cleaned[['tenure','SeniorCitizen','MonthlyCharges','TotalCharges','Churn']].copy()"
   ]
  },
  {
   "cell_type": "code",
   "execution_count": 109,
   "id": "354cf895-5c95-4db3-be13-60c1e7159a6d",
   "metadata": {},
   "outputs": [
    {
     "data": {
      "text/html": [
       "<div>\n",
       "<style scoped>\n",
       "    .dataframe tbody tr th:only-of-type {\n",
       "        vertical-align: middle;\n",
       "    }\n",
       "\n",
       "    .dataframe tbody tr th {\n",
       "        vertical-align: top;\n",
       "    }\n",
       "\n",
       "    .dataframe thead th {\n",
       "        text-align: right;\n",
       "    }\n",
       "</style>\n",
       "<table border=\"1\" class=\"dataframe\">\n",
       "  <thead>\n",
       "    <tr style=\"text-align: right;\">\n",
       "      <th></th>\n",
       "      <th>tenure</th>\n",
       "      <th>SeniorCitizen</th>\n",
       "      <th>MonthlyCharges</th>\n",
       "      <th>TotalCharges</th>\n",
       "    </tr>\n",
       "  </thead>\n",
       "  <tbody>\n",
       "    <tr>\n",
       "      <th>count</th>\n",
       "      <td>7043.00</td>\n",
       "      <td>7043.00</td>\n",
       "      <td>7043.00</td>\n",
       "      <td>7043.00</td>\n",
       "    </tr>\n",
       "    <tr>\n",
       "      <th>mean</th>\n",
       "      <td>32.37</td>\n",
       "      <td>0.16</td>\n",
       "      <td>64.76</td>\n",
       "      <td>2283.30</td>\n",
       "    </tr>\n",
       "    <tr>\n",
       "      <th>std</th>\n",
       "      <td>24.56</td>\n",
       "      <td>0.37</td>\n",
       "      <td>30.09</td>\n",
       "      <td>2265.00</td>\n",
       "    </tr>\n",
       "    <tr>\n",
       "      <th>min</th>\n",
       "      <td>0.00</td>\n",
       "      <td>0.00</td>\n",
       "      <td>18.25</td>\n",
       "      <td>18.80</td>\n",
       "    </tr>\n",
       "    <tr>\n",
       "      <th>25%</th>\n",
       "      <td>9.00</td>\n",
       "      <td>0.00</td>\n",
       "      <td>35.50</td>\n",
       "      <td>402.23</td>\n",
       "    </tr>\n",
       "    <tr>\n",
       "      <th>50%</th>\n",
       "      <td>29.00</td>\n",
       "      <td>0.00</td>\n",
       "      <td>70.35</td>\n",
       "      <td>1400.55</td>\n",
       "    </tr>\n",
       "    <tr>\n",
       "      <th>75%</th>\n",
       "      <td>55.00</td>\n",
       "      <td>0.00</td>\n",
       "      <td>89.85</td>\n",
       "      <td>3786.60</td>\n",
       "    </tr>\n",
       "    <tr>\n",
       "      <th>max</th>\n",
       "      <td>72.00</td>\n",
       "      <td>1.00</td>\n",
       "      <td>118.75</td>\n",
       "      <td>8684.80</td>\n",
       "    </tr>\n",
       "  </tbody>\n",
       "</table>\n",
       "</div>"
      ],
      "text/plain": [
       "       tenure  SeniorCitizen  MonthlyCharges  TotalCharges\n",
       "count 7043.00        7043.00         7043.00       7043.00\n",
       "mean    32.37           0.16           64.76       2283.30\n",
       "std     24.56           0.37           30.09       2265.00\n",
       "min      0.00           0.00           18.25         18.80\n",
       "25%      9.00           0.00           35.50        402.23\n",
       "50%     29.00           0.00           70.35       1400.55\n",
       "75%     55.00           0.00           89.85       3786.60\n",
       "max     72.00           1.00          118.75       8684.80"
      ]
     },
     "execution_count": 109,
     "metadata": {},
     "output_type": "execute_result"
    }
   ],
   "source": [
    "churn_key_features.describe()"
   ]
  },
  {
   "cell_type": "markdown",
   "id": "30e28966-afe3-4fe2-80ac-c3e1f073cc42",
   "metadata": {},
   "source": [
    "## Adjust Churn to make it binary"
   ]
  },
  {
   "cell_type": "code",
   "execution_count": 110,
   "id": "89ec6178-41c0-4c94-9411-58bd55147d76",
   "metadata": {},
   "outputs": [
    {
     "data": {
      "text/plain": [
       "array([0, 1], dtype=int64)"
      ]
     },
     "execution_count": 110,
     "metadata": {},
     "output_type": "execute_result"
    }
   ],
   "source": [
    "churn_key_features['Churn']=churn_key_features['Churn'].map(dict(Yes=1,No=0))\n",
    "churn_key_features['Churn'].unique()"
   ]
  },
  {
   "cell_type": "code",
   "execution_count": 111,
   "id": "be77e3f0-e018-411c-8bd5-a404d32938cb",
   "metadata": {},
   "outputs": [],
   "source": []
  },
  {
   "cell_type": "markdown",
   "id": "498fde60-b483-4a64-a2c1-cb6f6bab8695",
   "metadata": {},
   "source": [
    "# Conduct KNN Classifier"
   ]
  },
  {
   "cell_type": "code",
   "execution_count": 257,
   "id": "2bc475d3-cc87-4d31-8402-cce9be9aa4c7",
   "metadata": {},
   "outputs": [
    {
     "data": {
      "text/html": [
       "<div>\n",
       "<style scoped>\n",
       "    .dataframe tbody tr th:only-of-type {\n",
       "        vertical-align: middle;\n",
       "    }\n",
       "\n",
       "    .dataframe tbody tr th {\n",
       "        vertical-align: top;\n",
       "    }\n",
       "\n",
       "    .dataframe thead th {\n",
       "        text-align: right;\n",
       "    }\n",
       "</style>\n",
       "<table border=\"1\" class=\"dataframe\">\n",
       "  <thead>\n",
       "    <tr style=\"text-align: right;\">\n",
       "      <th></th>\n",
       "      <th>Error_metric</th>\n",
       "      <th>Train</th>\n",
       "      <th>Test</th>\n",
       "    </tr>\n",
       "  </thead>\n",
       "  <tbody>\n",
       "    <tr>\n",
       "      <th>0</th>\n",
       "      <td>Accuracy</td>\n",
       "      <td>0.83</td>\n",
       "      <td>0.76</td>\n",
       "    </tr>\n",
       "    <tr>\n",
       "      <th>1</th>\n",
       "      <td>Precision</td>\n",
       "      <td>0.72</td>\n",
       "      <td>0.60</td>\n",
       "    </tr>\n",
       "    <tr>\n",
       "      <th>2</th>\n",
       "      <td>Recall</td>\n",
       "      <td>0.58</td>\n",
       "      <td>0.46</td>\n",
       "    </tr>\n",
       "  </tbody>\n",
       "</table>\n",
       "</div>"
      ],
      "text/plain": [
       "  Error_metric  Train  Test\n",
       "0     Accuracy   0.83  0.76\n",
       "1    Precision   0.72  0.60\n",
       "2       Recall   0.58  0.46"
      ]
     },
     "execution_count": 257,
     "metadata": {},
     "output_type": "execute_result"
    }
   ],
   "source": [
    "y_name=\"Churn\"\n",
    "knn_m,err_knn=conduct_knn(churn_key_features,y_name,7)\n",
    "err_knn"
   ]
  },
  {
   "cell_type": "markdown",
   "id": "db81f69e-db6e-4c1a-b815-68708b62dbb0",
   "metadata": {},
   "source": [
    "# Conduct Decision Tree Classifier"
   ]
  },
  {
   "cell_type": "code",
   "execution_count": 256,
   "id": "4ae44243-d581-46eb-9fc6-01fc49600017",
   "metadata": {},
   "outputs": [
    {
     "data": {
      "text/html": [
       "<div>\n",
       "<style scoped>\n",
       "    .dataframe tbody tr th:only-of-type {\n",
       "        vertical-align: middle;\n",
       "    }\n",
       "\n",
       "    .dataframe tbody tr th {\n",
       "        vertical-align: top;\n",
       "    }\n",
       "\n",
       "    .dataframe thead th {\n",
       "        text-align: right;\n",
       "    }\n",
       "</style>\n",
       "<table border=\"1\" class=\"dataframe\">\n",
       "  <thead>\n",
       "    <tr style=\"text-align: right;\">\n",
       "      <th></th>\n",
       "      <th>Error_metric</th>\n",
       "      <th>Train</th>\n",
       "      <th>Test</th>\n",
       "    </tr>\n",
       "  </thead>\n",
       "  <tbody>\n",
       "    <tr>\n",
       "      <th>0</th>\n",
       "      <td>Accuracy</td>\n",
       "      <td>0.79</td>\n",
       "      <td>0.77</td>\n",
       "    </tr>\n",
       "    <tr>\n",
       "      <th>1</th>\n",
       "      <td>Precision</td>\n",
       "      <td>0.66</td>\n",
       "      <td>0.63</td>\n",
       "    </tr>\n",
       "    <tr>\n",
       "      <th>2</th>\n",
       "      <td>Recall</td>\n",
       "      <td>0.41</td>\n",
       "      <td>0.39</td>\n",
       "    </tr>\n",
       "  </tbody>\n",
       "</table>\n",
       "</div>"
      ],
      "text/plain": [
       "  Error_metric  Train  Test\n",
       "0     Accuracy   0.79  0.77\n",
       "1    Precision   0.66  0.63\n",
       "2       Recall   0.41  0.39"
      ]
     },
     "execution_count": 256,
     "metadata": {},
     "output_type": "execute_result"
    }
   ],
   "source": [
    "dt_m,err_dt=conduct_decision_tree(churn_key_features,y_name,3)\n",
    "err_dt"
   ]
  },
  {
   "cell_type": "markdown",
   "id": "c87e26b6-1ac4-4885-b980-3efa6c1aabf3",
   "metadata": {},
   "source": [
    "# Check cross validation of models"
   ]
  },
  {
   "cell_type": "code",
   "execution_count": 263,
   "id": "031f8d15-6225-4a2a-b3ec-fccf9d392a3f",
   "metadata": {},
   "outputs": [
    {
     "name": "stdout",
     "output_type": "stream",
     "text": [
      "KNeighborsClassifier(n_neighbors=7)\n",
      "[0.77047913 0.74806801 0.75193199 0.75560712 0.7733952 ]\n",
      "0.76 accuracy with a standard deviation of 0.01\n",
      "\n",
      "DecisionTreeClassifier(max_depth=3)\n",
      "[0.74729521 0.73338485 0.75734158 0.75096674 0.77184841]\n",
      "0.75 accuracy with a standard deviation of 0.01\n",
      "\n"
     ]
    }
   ],
   "source": [
    "model_list=[knn_m,dt_m]\n",
    "cross_validate_models(model_list)"
   ]
  },
  {
   "cell_type": "markdown",
   "id": "e7e7bd3f-af31-484c-bbe2-151d040bf7ce",
   "metadata": {},
   "source": [
    "# Manage imbalances"
   ]
  },
  {
   "cell_type": "markdown",
   "id": "ace836f8-ed94-4803-bde5-cc2576bd66ea",
   "metadata": {},
   "source": [
    "## Check for imbalance"
   ]
  },
  {
   "cell_type": "code",
   "execution_count": 264,
   "id": "0c564fb5-5993-4ec7-86db-02bdb35cd871",
   "metadata": {},
   "outputs": [
    {
     "data": {
      "text/plain": [
       "0    5174\n",
       "1    1869\n",
       "Name: Churn, dtype: int64"
      ]
     },
     "execution_count": 264,
     "metadata": {},
     "output_type": "execute_result"
    }
   ],
   "source": [
    "churn_key_features['Churn'].value_counts()"
   ]
  },
  {
   "cell_type": "markdown",
   "id": "f27637f1-b53e-4c34-a82c-5881c9ff83f9",
   "metadata": {},
   "source": [
    "### Downsize using random sample"
   ]
  },
  {
   "cell_type": "code",
   "execution_count": 265,
   "id": "9639cd54-da58-4094-aa10-d54c81f584f1",
   "metadata": {},
   "outputs": [],
   "source": [
    "downsized=resize_random_sample(churn_key_features,y_name,downsize=True)"
   ]
  },
  {
   "cell_type": "code",
   "execution_count": 266,
   "id": "1f1d78e9-0685-4022-8f39-e43f51e748dc",
   "metadata": {},
   "outputs": [
    {
     "data": {
      "text/plain": [
       "1    1869\n",
       "0    1869\n",
       "Name: Churn, dtype: int64"
      ]
     },
     "execution_count": 266,
     "metadata": {},
     "output_type": "execute_result"
    }
   ],
   "source": [
    "downsized['Churn'].value_counts()"
   ]
  },
  {
   "cell_type": "markdown",
   "id": "0973fd8e-74e5-4129-adb7-4c960bdaa97b",
   "metadata": {},
   "source": [
    "### Upsize using random sample replace"
   ]
  },
  {
   "cell_type": "code",
   "execution_count": 267,
   "id": "1b4d0856-debd-4c0b-8bab-01298e059c83",
   "metadata": {},
   "outputs": [],
   "source": [
    "upsized=resize_random_sample(churn_key_features,y_name)"
   ]
  },
  {
   "cell_type": "code",
   "execution_count": 268,
   "id": "d48aca60-ad08-4ff4-b549-2d472652da4d",
   "metadata": {},
   "outputs": [
    {
     "data": {
      "text/plain": [
       "1    5174\n",
       "0    5174\n",
       "Name: Churn, dtype: int64"
      ]
     },
     "execution_count": 268,
     "metadata": {},
     "output_type": "execute_result"
    }
   ],
   "source": [
    "upsized['Churn'].value_counts()"
   ]
  },
  {
   "cell_type": "markdown",
   "id": "3b97cabe-756a-4a71-9790-8b939eb60a5e",
   "metadata": {},
   "source": [
    "### Upsize using  SMOTE"
   ]
  },
  {
   "cell_type": "code",
   "execution_count": 269,
   "id": "f9d1dd6f-8cf7-4ec0-8e9f-072f1d0f6ec0",
   "metadata": {},
   "outputs": [],
   "source": [
    "smote_df=conduct_smote(churn_key_features,y_name)"
   ]
  },
  {
   "cell_type": "code",
   "execution_count": 279,
   "id": "4a010cb4-7cf2-473a-9b49-f7e8e5bfae71",
   "metadata": {},
   "outputs": [
    {
     "data": {
      "text/plain": [
       "0    5174\n",
       "1    5174\n",
       "Name: Churn, dtype: int64"
      ]
     },
     "execution_count": 279,
     "metadata": {},
     "output_type": "execute_result"
    }
   ],
   "source": [
    "smote_df['Churn'].value_counts()"
   ]
  },
  {
   "cell_type": "markdown",
   "id": "0de65917-7bba-49f6-b906-0c7f52aef4f3",
   "metadata": {},
   "source": [
    "### Downsize using TomekLinks"
   ]
  },
  {
   "cell_type": "code",
   "execution_count": 281,
   "id": "25622abb-7898-4cb4-9e55-84f10628cc01",
   "metadata": {},
   "outputs": [
    {
     "name": "stdout",
     "output_type": "stream",
     "text": [
      "Original value counts:\n",
      "0    5174\n",
      "1    1869\n",
      "Name: Churn, dtype: int64\n",
      "\n",
      "New value counts:\n",
      "0    4620\n",
      "1    1869\n",
      "Name: Churn, dtype: int64\n"
     ]
    }
   ],
   "source": [
    "tomeklinks=conduct_tomek_links(churn_key_features,y_name)"
   ]
  },
  {
   "cell_type": "code",
   "execution_count": 282,
   "id": "44ee9aba-c1b9-4348-831d-3ca85de9e81e",
   "metadata": {},
   "outputs": [],
   "source": [
    "tomeklinks_resized=resize_random_sample(tomeklinks,y_name)"
   ]
  },
  {
   "cell_type": "code",
   "execution_count": 283,
   "id": "a1e99aee-0f24-4f9e-afec-5f361b6656ab",
   "metadata": {},
   "outputs": [
    {
     "data": {
      "text/plain": [
       "0    4620\n",
       "1    4620\n",
       "Name: Churn, dtype: int64"
      ]
     },
     "execution_count": 283,
     "metadata": {},
     "output_type": "execute_result"
    }
   ],
   "source": [
    "tomeklinks_resized['Churn'].value_counts()"
   ]
  },
  {
   "cell_type": "markdown",
   "id": "c001460b-adab-4343-b37a-92a3e3b9d902",
   "metadata": {},
   "source": [
    "# Comparison of models"
   ]
  },
  {
   "cell_type": "code",
   "execution_count": 290,
   "id": "f9578f1e-4c58-458d-ac9f-bc7bda84590a",
   "metadata": {},
   "outputs": [
    {
     "name": "stdout",
     "output_type": "stream",
     "text": [
      "Downsized\n",
      "------\n",
      "KNeighborsClassifier(n_neighbors=7)\n",
      "  Error_metric  Train  Test\n",
      "0     Accuracy   0.78  0.71\n",
      "1    Precision   0.77  0.73\n",
      "2       Recall   0.78  0.72\n",
      "DecisionTreeClassifier(max_depth=3)\n",
      "  Error_metric  Train  Test\n",
      "0     Accuracy   0.73  0.71\n",
      "1    Precision   0.71  0.70\n",
      "2       Recall   0.77  0.76\n",
      "\n",
      "\n",
      "\n",
      "Upsized\n",
      "------\n",
      "KNeighborsClassifier(n_neighbors=7)\n",
      "  Error_metric  Train  Test\n",
      "0     Accuracy   0.81  0.76\n",
      "1    Precision   0.78  0.73\n",
      "2       Recall   0.87  0.82\n",
      "DecisionTreeClassifier(max_depth=3)\n",
      "  Error_metric  Train  Test\n",
      "0     Accuracy   0.72  0.72\n",
      "1    Precision   0.69  0.69\n",
      "2       Recall   0.80  0.81\n",
      "\n",
      "\n",
      "\n",
      "Smote\n",
      "------\n",
      "KNeighborsClassifier(n_neighbors=7)\n",
      "  Error_metric  Train  Test\n",
      "0     Accuracy   0.82  0.76\n",
      "1    Precision   0.80  0.74\n",
      "2       Recall   0.85  0.80\n",
      "DecisionTreeClassifier(max_depth=3)\n",
      "  Error_metric  Train  Test\n",
      "0     Accuracy   0.75  0.73\n",
      "1    Precision   0.70  0.68\n",
      "2       Recall   0.87  0.86\n",
      "\n",
      "\n",
      "\n",
      "Tomeklinks_upresized\n",
      "------\n",
      "KNeighborsClassifier(n_neighbors=7)\n",
      "  Error_metric  Train  Test\n",
      "0     Accuracy   0.83  0.78\n",
      "1    Precision   0.80  0.76\n",
      "2       Recall   0.87  0.82\n",
      "DecisionTreeClassifier(max_depth=3)\n",
      "  Error_metric  Train  Test\n",
      "0     Accuracy   0.75  0.74\n",
      "1    Precision   0.71  0.72\n",
      "2       Recall   0.82  0.82\n",
      "\n",
      "\n",
      "\n"
     ]
    }
   ],
   "source": [
    "data_list=[downsized,upsized,smote_df,tomeklinks_resized]\n",
    "data_names=['Downsized','Upsized','Smote','Tomeklinks_upresized']\n",
    "x=0\n",
    "for i in data_list:\n",
    "    m,r=conduct_knn(i,y_name,7)\n",
    "    m2,r2=conduct_decision_tree(i,y_name,3)\n",
    "    print(data_names[x])\n",
    "    print('------')\n",
    "    print (m)\n",
    "    print (r)\n",
    "    print(m2)\n",
    "    print (r2)\n",
    "    print()\n",
    "    print()\n",
    "    print()\n",
    "    x+=1"
   ]
  },
  {
   "cell_type": "code",
   "execution_count": null,
   "id": "33e2f496-c7de-400b-91d1-4aba3c6efead",
   "metadata": {},
   "outputs": [],
   "source": []
  }
 ],
 "metadata": {
  "kernelspec": {
   "display_name": "Python 3 (ipykernel)",
   "language": "python",
   "name": "python3"
  },
  "language_info": {
   "codemirror_mode": {
    "name": "ipython",
    "version": 3
   },
   "file_extension": ".py",
   "mimetype": "text/x-python",
   "name": "python",
   "nbconvert_exporter": "python",
   "pygments_lexer": "ipython3",
   "version": "3.9.12"
  },
  "toc-autonumbering": true,
  "toc-showtags": false
 },
 "nbformat": 4,
 "nbformat_minor": 5
}
