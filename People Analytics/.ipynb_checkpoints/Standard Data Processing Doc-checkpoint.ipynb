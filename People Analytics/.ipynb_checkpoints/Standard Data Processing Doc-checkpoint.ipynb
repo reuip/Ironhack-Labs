{
 "cells": [
  {
   "cell_type": "markdown",
   "id": "e285b025",
   "metadata": {},
   "source": [
    "# Prepare environment"
   ]
  },
  {
   "cell_type": "markdown",
   "id": "a5287a4b",
   "metadata": {},
   "source": [
    "## Imports and load libraries"
   ]
  },
  {
   "cell_type": "code",
   "execution_count": 94,
   "id": "3e6dd28c",
   "metadata": {},
   "outputs": [],
   "source": [
    "import numpy as np\n",
    "import pandas as pd\n",
    "import matplotlib.pyplot as plt\n",
    "%matplotlib inline\n",
    "import seaborn as sns\n",
    "from sklearn.preprocessing import StandardScaler\n",
    "from sklearn.preprocessing import quantile_transform\n",
    "from sklearn.preprocessing import minmax_scale\n",
    "from sklearn.preprocessing import OneHotEncoder  ##. better to use dummy from pandas \n",
    "from sklearn.preprocessing import PowerTransformer\n",
    "from scipy.stats import boxcox\n",
    "from sklearn.linear_model import LinearRegression\n",
    "from sklearn.model_selection import train_test_split\n",
    "import statsmodels.api as sm\n",
    "from scipy.stats import boxcox\n",
    "from sklearn.model_selection import train_test_split\n",
    "from sklearn.metrics import r2_score\n",
    "from sklearn.metrics import mean_squared_error as mse\n",
    "from sklearn.metrics import mean_absolute_error as mae\n",
    "pd.options.display.max_rows = 50\n",
    "import qgrid"
   ]
  },
  {
   "cell_type": "markdown",
   "id": "3cedaeb3",
   "metadata": {},
   "source": [
    "## Load relevant dataframe from file"
   ]
  },
  {
   "cell_type": "markdown",
   "id": "3a23975d",
   "metadata": {},
   "source": [
    "### One file with all data <font color='red'>(Need input)"
   ]
  },
  {
   "cell_type": "code",
   "execution_count": 95,
   "id": "39585171",
   "metadata": {},
   "outputs": [],
   "source": [
    "#If you have only one file, then hoose your data source to load below\n",
    "#It will be named 'df' for use in this notebook\n",
    "\n",
    "df=sns.load_dataset('titanic')\n",
    "file_list=[df]"
   ]
  },
  {
   "cell_type": "markdown",
   "id": "c0490d81",
   "metadata": {},
   "source": [
    "### Multiple files that need to be merged <font color='red'>(Need input)"
   ]
  },
  {
   "cell_type": "code",
   "execution_count": 96,
   "id": "81d5ab22",
   "metadata": {},
   "outputs": [],
   "source": [
    "#If you have multiple files to merge, use this instead.\n",
    "#Update the list of file names to ensure loops will work on the data in order to merge at the end\n",
    "\n",
    "file1=pd.read_csv(r'C:\\Users\\MichaelTaylo_c9zoof3\\Documents\\GitHub\\Ironhack-Labs\\Case Studies\\Customer Analysis Case Study\\Data\\file1.csv' names='file1')\n",
    "file2=pd.read_csv(r'C:\\Users\\MichaelTaylo_c9zoof3\\Documents\\GitHub\\Ironhack-Labs\\Case Studies\\Customer Analysis Case Study\\Data\\file2.csv')\n",
    "file3=pd.read_csv(r'C:\\Users\\MichaelTaylo_c9zoof3\\Documents\\GitHub\\Ironhack-Labs\\Case Studies\\Customer Analysis Case Study\\Data\\file3.csv')\n",
    "\n",
    "file_list=[file1,file2,file3]"
   ]
  },
  {
   "cell_type": "markdown",
   "id": "8e568a3d",
   "metadata": {},
   "source": [
    "# Quick clean and standardizing data (e.g. lowercase titles)"
   ]
  },
  {
   "cell_type": "markdown",
   "id": "396e1b2c",
   "metadata": {},
   "source": [
    "## Lowercase column names"
   ]
  },
  {
   "cell_type": "code",
   "execution_count": 97,
   "id": "fa68b908",
   "metadata": {},
   "outputs": [],
   "source": [
    "def col_lowercase(df):\n",
    "    '''Takes one value, dataframe, and changes all columns to lowercase\n",
    "    For easy comparison and merging of multiple dataframes'''\n",
    "    df_temp = [i.lower() for i in df.columns]\n",
    "    return df_temp\n",
    "\n",
    "for i in file_list:\n",
    "    i.columns=col_lowercase(i)"
   ]
  },
  {
   "cell_type": "markdown",
   "id": "d11eebfb",
   "metadata": {},
   "source": [
    "## Lowercase all string values in file"
   ]
  },
  {
   "cell_type": "code",
   "execution_count": 116,
   "id": "8415b9f2",
   "metadata": {},
   "outputs": [
    {
     "data": {
      "text/html": [
       "<div>\n",
       "<style scoped>\n",
       "    .dataframe tbody tr th:only-of-type {\n",
       "        vertical-align: middle;\n",
       "    }\n",
       "\n",
       "    .dataframe tbody tr th {\n",
       "        vertical-align: top;\n",
       "    }\n",
       "\n",
       "    .dataframe thead th {\n",
       "        text-align: right;\n",
       "    }\n",
       "</style>\n",
       "<table border=\"1\" class=\"dataframe\">\n",
       "  <thead>\n",
       "    <tr style=\"text-align: right;\">\n",
       "      <th></th>\n",
       "      <th>customer</th>\n",
       "      <th>st</th>\n",
       "      <th>gender</th>\n",
       "      <th>education</th>\n",
       "      <th>customer lifetime value</th>\n",
       "      <th>income</th>\n",
       "      <th>monthly premium auto</th>\n",
       "      <th>number of open complaints</th>\n",
       "      <th>total claim amount</th>\n",
       "      <th>policy type</th>\n",
       "      <th>vehicle class</th>\n",
       "    </tr>\n",
       "  </thead>\n",
       "  <tbody>\n",
       "    <tr>\n",
       "      <th>0</th>\n",
       "      <td>gs98873</td>\n",
       "      <td>arizona</td>\n",
       "      <td>f</td>\n",
       "      <td>bachelor</td>\n",
       "      <td>323912.47%</td>\n",
       "      <td>16061</td>\n",
       "      <td>88</td>\n",
       "      <td>1/0/00</td>\n",
       "      <td>633.600000</td>\n",
       "      <td>personal auto</td>\n",
       "      <td>four-door car</td>\n",
       "    </tr>\n",
       "    <tr>\n",
       "      <th>1</th>\n",
       "      <td>cw49887</td>\n",
       "      <td>california</td>\n",
       "      <td>f</td>\n",
       "      <td>master</td>\n",
       "      <td>462680.11%</td>\n",
       "      <td>79487</td>\n",
       "      <td>114</td>\n",
       "      <td>1/0/00</td>\n",
       "      <td>547.200000</td>\n",
       "      <td>special auto</td>\n",
       "      <td>suv</td>\n",
       "    </tr>\n",
       "    <tr>\n",
       "      <th>2</th>\n",
       "      <td>my31220</td>\n",
       "      <td>california</td>\n",
       "      <td>f</td>\n",
       "      <td>college</td>\n",
       "      <td>899704.02%</td>\n",
       "      <td>54230</td>\n",
       "      <td>112</td>\n",
       "      <td>1/0/00</td>\n",
       "      <td>537.600000</td>\n",
       "      <td>personal auto</td>\n",
       "      <td>two-door car</td>\n",
       "    </tr>\n",
       "    <tr>\n",
       "      <th>3</th>\n",
       "      <td>uh35128</td>\n",
       "      <td>oregon</td>\n",
       "      <td>f</td>\n",
       "      <td>college</td>\n",
       "      <td>2580706.30%</td>\n",
       "      <td>71210</td>\n",
       "      <td>214</td>\n",
       "      <td>1/1/00</td>\n",
       "      <td>1027.200000</td>\n",
       "      <td>personal auto</td>\n",
       "      <td>luxury car</td>\n",
       "    </tr>\n",
       "    <tr>\n",
       "      <th>4</th>\n",
       "      <td>wh52799</td>\n",
       "      <td>arizona</td>\n",
       "      <td>f</td>\n",
       "      <td>college</td>\n",
       "      <td>380812.21%</td>\n",
       "      <td>94903</td>\n",
       "      <td>94</td>\n",
       "      <td>1/0/00</td>\n",
       "      <td>451.200000</td>\n",
       "      <td>corporate auto</td>\n",
       "      <td>two-door car</td>\n",
       "    </tr>\n",
       "    <tr>\n",
       "      <th>...</th>\n",
       "      <td>...</td>\n",
       "      <td>...</td>\n",
       "      <td>...</td>\n",
       "      <td>...</td>\n",
       "      <td>...</td>\n",
       "      <td>...</td>\n",
       "      <td>...</td>\n",
       "      <td>...</td>\n",
       "      <td>...</td>\n",
       "      <td>...</td>\n",
       "      <td>...</td>\n",
       "    </tr>\n",
       "    <tr>\n",
       "      <th>991</th>\n",
       "      <td>hv85198</td>\n",
       "      <td>arizona</td>\n",
       "      <td>m</td>\n",
       "      <td>master</td>\n",
       "      <td>847141.75%</td>\n",
       "      <td>63513</td>\n",
       "      <td>70</td>\n",
       "      <td>1/0/00</td>\n",
       "      <td>185.667213</td>\n",
       "      <td>personal auto</td>\n",
       "      <td>four-door car</td>\n",
       "    </tr>\n",
       "    <tr>\n",
       "      <th>992</th>\n",
       "      <td>bs91566</td>\n",
       "      <td>arizona</td>\n",
       "      <td>f</td>\n",
       "      <td>college</td>\n",
       "      <td>543121.91%</td>\n",
       "      <td>58161</td>\n",
       "      <td>68</td>\n",
       "      <td>1/0/00</td>\n",
       "      <td>140.747286</td>\n",
       "      <td>corporate auto</td>\n",
       "      <td>four-door car</td>\n",
       "    </tr>\n",
       "    <tr>\n",
       "      <th>993</th>\n",
       "      <td>il40123</td>\n",
       "      <td>nevada</td>\n",
       "      <td>f</td>\n",
       "      <td>college</td>\n",
       "      <td>568964.41%</td>\n",
       "      <td>83640</td>\n",
       "      <td>70</td>\n",
       "      <td>1/0/00</td>\n",
       "      <td>471.050488</td>\n",
       "      <td>corporate auto</td>\n",
       "      <td>two-door car</td>\n",
       "    </tr>\n",
       "    <tr>\n",
       "      <th>994</th>\n",
       "      <td>my32149</td>\n",
       "      <td>california</td>\n",
       "      <td>f</td>\n",
       "      <td>master</td>\n",
       "      <td>368672.38%</td>\n",
       "      <td>0</td>\n",
       "      <td>96</td>\n",
       "      <td>1/0/00</td>\n",
       "      <td>28.460568</td>\n",
       "      <td>personal auto</td>\n",
       "      <td>two-door car</td>\n",
       "    </tr>\n",
       "    <tr>\n",
       "      <th>995</th>\n",
       "      <td>sa91515</td>\n",
       "      <td>california</td>\n",
       "      <td>m</td>\n",
       "      <td>bachelor</td>\n",
       "      <td>399258.39%</td>\n",
       "      <td>0</td>\n",
       "      <td>111</td>\n",
       "      <td>1/0/00</td>\n",
       "      <td>700.349052</td>\n",
       "      <td>personal auto</td>\n",
       "      <td>suv</td>\n",
       "    </tr>\n",
       "  </tbody>\n",
       "</table>\n",
       "<p>996 rows × 11 columns</p>\n",
       "</div>"
      ],
      "text/plain": [
       "    customer          st gender education customer lifetime value  income  \\\n",
       "0    gs98873     arizona      f  bachelor              323912.47%   16061   \n",
       "1    cw49887  california      f    master              462680.11%   79487   \n",
       "2    my31220  california      f   college              899704.02%   54230   \n",
       "3    uh35128      oregon      f   college             2580706.30%   71210   \n",
       "4    wh52799     arizona      f   college              380812.21%   94903   \n",
       "..       ...         ...    ...       ...                     ...     ...   \n",
       "991  hv85198     arizona      m    master              847141.75%   63513   \n",
       "992  bs91566     arizona      f   college              543121.91%   58161   \n",
       "993  il40123      nevada      f   college              568964.41%   83640   \n",
       "994  my32149  california      f    master              368672.38%       0   \n",
       "995  sa91515  california      m  bachelor              399258.39%       0   \n",
       "\n",
       "     monthly premium auto number of open complaints  total claim amount  \\\n",
       "0                      88                    1/0/00          633.600000   \n",
       "1                     114                    1/0/00          547.200000   \n",
       "2                     112                    1/0/00          537.600000   \n",
       "3                     214                    1/1/00         1027.200000   \n",
       "4                      94                    1/0/00          451.200000   \n",
       "..                    ...                       ...                 ...   \n",
       "991                    70                    1/0/00          185.667213   \n",
       "992                    68                    1/0/00          140.747286   \n",
       "993                    70                    1/0/00          471.050488   \n",
       "994                    96                    1/0/00           28.460568   \n",
       "995                   111                    1/0/00          700.349052   \n",
       "\n",
       "        policy type  vehicle class  \n",
       "0     personal auto  four-door car  \n",
       "1      special auto            suv  \n",
       "2     personal auto   two-door car  \n",
       "3     personal auto     luxury car  \n",
       "4    corporate auto   two-door car  \n",
       "..              ...            ...  \n",
       "991   personal auto  four-door car  \n",
       "992  corporate auto  four-door car  \n",
       "993  corporate auto   two-door car  \n",
       "994   personal auto   two-door car  \n",
       "995   personal auto            suv  \n",
       "\n",
       "[996 rows x 11 columns]"
      ]
     },
     "execution_count": 116,
     "metadata": {},
     "output_type": "execute_result"
    }
   ],
   "source": [
    "def string_lowercase(df):\n",
    "    '''Takes one value, dataframe, and changes all values that are strings to all lowercase\n",
    "    For easy identification of discrete values and for merging of dataframes'''\n",
    "    df=df.applymap(lambda x:x.lower() if type(x) == str else x)\n",
    "    return df\n",
    "\n",
    "for i in file_list:\n",
    "    i.update(string_lowercase(i))"
   ]
  },
  {
   "cell_type": "markdown",
   "id": "e4fd2f8c",
   "metadata": {},
   "source": [
    "## Removing duplicate records"
   ]
  },
  {
   "cell_type": "code",
   "execution_count": 8,
   "id": "356c752f",
   "metadata": {},
   "outputs": [],
   "source": [
    "for i in file_list:\n",
    "    #Removes duplicates if entire row is the same\n",
    "    i.drop_duplicates(inplace=True)\n",
    "    #Removes rows if they are completely blank\n",
    "    i.dropna(how=\"all\",axis=0, inplace=True)"
   ]
  },
  {
   "cell_type": "markdown",
   "id": "0f0d04b1",
   "metadata": {},
   "source": [
    "# Merging files"
   ]
  },
  {
   "cell_type": "markdown",
   "id": "3a1543fc",
   "metadata": {},
   "source": [
    "## Check files for unique columns"
   ]
  },
  {
   "cell_type": "code",
   "execution_count": 151,
   "id": "d2255922",
   "metadata": {},
   "outputs": [
    {
     "data": {
      "text/plain": [
       "{None: ['st']}"
      ]
     },
     "execution_count": 151,
     "metadata": {},
     "output_type": "execute_result"
    }
   ],
   "source": [
    "#Gather column names from all files in a list\n",
    "all_col_names=[]\n",
    "temp_col_names=[]\n",
    "unmatched_col_names=[]\n",
    "unmatched_col_dict={}\n",
    "\n",
    "for i in file_list:\n",
    "    [all_col_names.append(col) for col in i.columns]\n",
    "        \n",
    "\n",
    "#Remove duplicates to create a unique set of column names\n",
    "unique_col_names=list(set(list_col_names))\n",
    "\n",
    "#Check which files are missing which column names\n",
    "for x in file_list:\n",
    "    [temp_col_names.append(col) for col in x.columns]\n",
    "    [unmatched_col_names.append(y) for y in unique_col_names if y not in temp_col_names]        \n",
    "    unmatched_col_dict[x.index.name]=unmatched_col_names\n",
    "    temp_col_names=[]\n",
    "    unmatched_col_names=[]\n",
    "unmatched_col_dict"
   ]
  },
  {
   "cell_type": "code",
   "execution_count": 153,
   "id": "ac87d3b4",
   "metadata": {},
   "outputs": [
    {
     "ename": "AttributeError",
     "evalue": "'DataFrame' object has no attribute 'name'",
     "output_type": "error",
     "traceback": [
      "\u001b[1;31m---------------------------------------------------------------------------\u001b[0m",
      "\u001b[1;31mAttributeError\u001b[0m                            Traceback (most recent call last)",
      "Input \u001b[1;32mIn [153]\u001b[0m, in \u001b[0;36m<cell line: 1>\u001b[1;34m()\u001b[0m\n\u001b[1;32m----> 1\u001b[0m \u001b[43mfile_list\u001b[49m\u001b[43m[\u001b[49m\u001b[38;5;241;43m0\u001b[39;49m\u001b[43m]\u001b[49m\u001b[38;5;241;43m.\u001b[39;49m\u001b[43mname\u001b[49m\n",
      "File \u001b[1;32m~\\anaconda3\\envs\\DA_Env\\lib\\site-packages\\pandas\\core\\generic.py:5575\u001b[0m, in \u001b[0;36mNDFrame.__getattr__\u001b[1;34m(self, name)\u001b[0m\n\u001b[0;32m   5568\u001b[0m \u001b[38;5;28;01mif\u001b[39;00m (\n\u001b[0;32m   5569\u001b[0m     name \u001b[38;5;129;01mnot\u001b[39;00m \u001b[38;5;129;01min\u001b[39;00m \u001b[38;5;28mself\u001b[39m\u001b[38;5;241m.\u001b[39m_internal_names_set\n\u001b[0;32m   5570\u001b[0m     \u001b[38;5;129;01mand\u001b[39;00m name \u001b[38;5;129;01mnot\u001b[39;00m \u001b[38;5;129;01min\u001b[39;00m \u001b[38;5;28mself\u001b[39m\u001b[38;5;241m.\u001b[39m_metadata\n\u001b[0;32m   5571\u001b[0m     \u001b[38;5;129;01mand\u001b[39;00m name \u001b[38;5;129;01mnot\u001b[39;00m \u001b[38;5;129;01min\u001b[39;00m \u001b[38;5;28mself\u001b[39m\u001b[38;5;241m.\u001b[39m_accessors\n\u001b[0;32m   5572\u001b[0m     \u001b[38;5;129;01mand\u001b[39;00m \u001b[38;5;28mself\u001b[39m\u001b[38;5;241m.\u001b[39m_info_axis\u001b[38;5;241m.\u001b[39m_can_hold_identifiers_and_holds_name(name)\n\u001b[0;32m   5573\u001b[0m ):\n\u001b[0;32m   5574\u001b[0m     \u001b[38;5;28;01mreturn\u001b[39;00m \u001b[38;5;28mself\u001b[39m[name]\n\u001b[1;32m-> 5575\u001b[0m \u001b[38;5;28;01mreturn\u001b[39;00m \u001b[38;5;28;43mobject\u001b[39;49m\u001b[38;5;241;43m.\u001b[39;49m\u001b[38;5;21;43m__getattribute__\u001b[39;49m\u001b[43m(\u001b[49m\u001b[38;5;28;43mself\u001b[39;49m\u001b[43m,\u001b[49m\u001b[43m \u001b[49m\u001b[43mname\u001b[49m\u001b[43m)\u001b[49m\n",
      "\u001b[1;31mAttributeError\u001b[0m: 'DataFrame' object has no attribute 'name'"
     ]
    }
   ],
   "source": []
  },
  {
   "cell_type": "markdown",
   "id": "f62f75a4",
   "metadata": {},
   "source": [
    "# Replace missing values"
   ]
  },
  {
   "cell_type": "markdown",
   "id": "b7559e91",
   "metadata": {},
   "source": [
    "## Replace missing numbers with mean"
   ]
  },
  {
   "cell_type": "code",
   "execution_count": 11,
   "id": "5fcb9101",
   "metadata": {},
   "outputs": [],
   "source": [
    "# This creates a list ## integers_with_nan ## which is a list of numerical columns with blanks in them.  \n",
    "#The next parts will give you options for how to handle the blanks\n",
    "\n",
    "col_list=[]\n",
    "col_list=df.columns\n",
    "integers_with_nan=[]\n",
    "for i in col_list:\n",
    "    if df[i].isnull().values.any()==True:\n",
    "        if df[i].dtype!='O':\n",
    "            integers_with_nan.append(i)"
   ]
  },
  {
   "cell_type": "code",
   "execution_count": null,
   "id": "aa334d77",
   "metadata": {},
   "outputs": [],
   "source": [
    "#Fill missing numbers with the average of the column\n",
    "for j in integers_with_nan:\n",
    "    temp_mean=np.mean(df[j])\n",
    "    df[j]=df[j].fillna(temp_mean)"
   ]
  },
  {
   "cell_type": "markdown",
   "id": "74ff78d8",
   "metadata": {},
   "source": [
    "# Review data"
   ]
  },
  {
   "cell_type": "markdown",
   "id": "3f411cd0",
   "metadata": {},
   "source": [
    "## Check data types and blanks"
   ]
  },
  {
   "cell_type": "code",
   "execution_count": null,
   "id": "3476654a",
   "metadata": {},
   "outputs": [],
   "source": [
    "df.info()"
   ]
  },
  {
   "cell_type": "markdown",
   "id": "5493c90e",
   "metadata": {},
   "source": [
    "## Eyeball check data for issues"
   ]
  },
  {
   "cell_type": "code",
   "execution_count": null,
   "id": "626d36db",
   "metadata": {},
   "outputs": [],
   "source": [
    "qgrid.show_grid(df,grid_options={'forceFitColumns': False})"
   ]
  },
  {
   "cell_type": "markdown",
   "id": "9f766cf9",
   "metadata": {},
   "source": [
    "# Fix categorical values"
   ]
  },
  {
   "cell_type": "markdown",
   "id": "59ee3fd8",
   "metadata": {},
   "source": [
    "## Check categorical columns for misspellings or issues"
   ]
  },
  {
   "cell_type": "code",
   "execution_count": 10,
   "id": "0290c679",
   "metadata": {},
   "outputs": [
    {
     "data": {
      "text/plain": [
       "{'sex': array(['male', 'female'], dtype=object),\n",
       " 'embarked': array(['s', 'c', 'q', nan], dtype=object),\n",
       " 'class': array(['third', 'first', 'second'], dtype=object),\n",
       " 'who': array(['man', 'woman', 'child'], dtype=object),\n",
       " 'deck': array([nan, 'c', 'e', 'g', 'd', 'a', 'b', 'f'], dtype=object),\n",
       " 'embark_town': array(['southampton', 'cherbourg', 'queenstown', nan], dtype=object),\n",
       " 'alive': array(['no', 'yes'], dtype=object)}"
      ]
     },
     "execution_count": 10,
     "metadata": {},
     "output_type": "execute_result"
    }
   ],
   "source": [
    "# Creates a copy of the dataframe for string-based columns only.  \n",
    "# Then, creates a dictionary of the column (key) plus array of values (value) to show the results\n",
    "categorical_df=df.select_dtypes(object)\n",
    "unique_dict={col: categorical_df[col].unique() for col in categorical_df}\n",
    "unique_dict"
   ]
  },
  {
   "cell_type": "markdown",
   "id": "79432862",
   "metadata": {},
   "source": [
    "## Fix categorical values by replacing values with new ones"
   ]
  },
  {
   "cell_type": "markdown",
   "id": "102aca6c",
   "metadata": {},
   "source": [
    "### Replace a list of terms with one standard version <font color='red'>(Need input)"
   ]
  },
  {
   "cell_type": "code",
   "execution_count": 12,
   "id": "86a5710d",
   "metadata": {},
   "outputs": [],
   "source": [
    "#Fill in 'a' below\n",
    "\n",
    "# Creates a dictionary ##a## of values to correct.  \n",
    "# Outer dictionary is the column to correct\n",
    "# Inner dictionary key is the correct spelling, then list (dictionary value) is the incorrect spellings to find and replace\n",
    "\n",
    "a={\n",
    "    'sex':\n",
    "        {'female':['f','femal'],\n",
    "        'male':['male','m']}\n",
    "}\n",
    "\n",
    "\n",
    "#This code will run through the dictionary a and update string values in the dataframe\n",
    "#Using the new string values\n",
    "for key in a.keys():\n",
    "    for key2 in a[key].keys():\n",
    "        list_values=a[key][key2]\n",
    "        df.loc[df[str(key)].isin(list_values),key]=str(key2)"
   ]
  },
  {
   "cell_type": "markdown",
   "id": "05438031",
   "metadata": {},
   "source": [
    "### Replace terms 1:1 with an alternative"
   ]
  },
  {
   "cell_type": "code",
   "execution_count": null,
   "id": "a2e7bef2",
   "metadata": {},
   "outputs": [],
   "source": [
    "#Fill in these three with correct values, then run to update a column with new values.\n",
    "original_version=['f','m']          #List in order of terms in column to change\n",
    "new_version=['female','male']       #List in order of original version list of new terms to use\n",
    "column_name='gender'                #Column name to use in action\n",
    "\n",
    "replace_map=dict(zip(original_version,new_version))\n",
    "\n",
    "df[column_name].replace(replace_map,inplace=True)\n"
   ]
  }
 ],
 "metadata": {
  "kernelspec": {
   "display_name": "Python 3 (ipykernel)",
   "language": "python",
   "name": "python3"
  },
  "language_info": {
   "codemirror_mode": {
    "name": "ipython",
    "version": 3
   },
   "file_extension": ".py",
   "mimetype": "text/x-python",
   "name": "python",
   "nbconvert_exporter": "python",
   "pygments_lexer": "ipython3",
   "version": "3.9.12"
  },
  "toc": {
   "base_numbering": 1,
   "nav_menu": {},
   "number_sections": true,
   "sideBar": true,
   "skip_h1_title": false,
   "title_cell": "Table of Contents",
   "title_sidebar": "Contents",
   "toc_cell": false,
   "toc_position": {
    "height": "calc(100% - 180px)",
    "left": "10px",
    "top": "150px",
    "width": "303.188px"
   },
   "toc_section_display": true,
   "toc_window_display": true
  },
  "varInspector": {
   "cols": {
    "lenName": 16,
    "lenType": 16,
    "lenVar": 40
   },
   "kernels_config": {
    "python": {
     "delete_cmd_postfix": "",
     "delete_cmd_prefix": "del ",
     "library": "var_list.py",
     "varRefreshCmd": "print(var_dic_list())"
    },
    "r": {
     "delete_cmd_postfix": ") ",
     "delete_cmd_prefix": "rm(",
     "library": "var_list.r",
     "varRefreshCmd": "cat(var_dic_list()) "
    }
   },
   "position": {
    "height": "292.844px",
    "left": "996px",
    "right": "20px",
    "top": "120px",
    "width": "350px"
   },
   "types_to_exclude": [
    "module",
    "function",
    "builtin_function_or_method",
    "instance",
    "_Feature"
   ],
   "window_display": false
  }
 },
 "nbformat": 4,
 "nbformat_minor": 5
}
