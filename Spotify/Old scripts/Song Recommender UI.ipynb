{
 "cells": [
  {
   "cell_type": "markdown",
   "id": "8b90e9af-0180-4a30-a2bd-77d48a825965",
   "metadata": {},
   "source": [
    "# Imports"
   ]
  },
  {
   "cell_type": "code",
   "execution_count": 30,
   "id": "fe5aac59-82af-43e5-9080-2373bd19433d",
   "metadata": {},
   "outputs": [],
   "source": [
    "import sys\n",
    "import pandas as pd\n",
    "import requests\n",
    "import qgrid\n",
    "import random\n",
    "from textblob import TextBlob\n",
    "import spotipy\n",
    "import spotify_cred\n",
    "from spotipy.oauth2 import SpotifyClientCredentials\n",
    "import pickle\n",
    "from IPython.display import IFrame"
   ]
  },
  {
   "cell_type": "markdown",
   "id": "8d655d01-5bfb-4a3c-8c7d-c1e7a20d5565",
   "metadata": {},
   "source": [
    "# Song recommendation functions"
   ]
  },
  {
   "cell_type": "code",
   "execution_count": null,
   "id": "75e841bd-5483-4f4a-8467-e2a8ed88f5a3",
   "metadata": {},
   "outputs": [],
   "source": []
  },
  {
   "cell_type": "code",
   "execution_count": 84,
   "id": "a6f866eb-40a5-4bbc-af0d-00cbe3f5911d",
   "metadata": {},
   "outputs": [],
   "source": [
    "def get_user_input():\n",
    "    your_fav_song_raw=input(\"Please share a song you enjoy to receive a recommendation!\")\n",
    "    your_fav_song=your_fav_song_raw.lower()\n",
    "    return your_fav_song\n",
    "\n",
    "\n",
    "def check_duplicate_song_names(your_fav_song):\n",
    "    num_songs=sp.search(q=\"track:\"+your_fav_song, limit=3)\n",
    "    \n",
    "    #Check if there are more than one artist that sings that song\n",
    "    if len(num_songs['tracks']['items'])>1:\n",
    "        artist_list=[]\n",
    "        for i in num_songs['tracks']['items']:\n",
    "            for j in i['artists']:\n",
    "                artist_list.append(j['name'])\n",
    "                artist_list=list(set(artist_list))\n",
    "                artist_string=\", \".join(artist_list)\n",
    "        if len(artist_list)>1:\n",
    "            print(\"There is more than one artist with a song title like\",your_fav_song.title()) \n",
    "            print(f\"Similar song titles are offered by the following artists: {artist_string}\")\n",
    "            print(\"...\")\n",
    "\n",
    "            #Gather user input on correct artist.  Check it against the list of artists, error if not in list. \n",
    "            matched=False\n",
    "            while matched==False:\n",
    "                user_clarification=input(\"Which artist is your song by?\")\n",
    "\n",
    "            #Compare to ensure input is good\n",
    "                song_check=sp.search(q=\"track:\"+your_fav_song+\" artist:\"+user_clarification,limit=1)\n",
    "                try:\n",
    "                    x=song_check['tracks']['items'][0]['id']\n",
    "                    matched=True\n",
    "                except:\n",
    "                    print(\"...\")\n",
    "                    print(f\"{your_fav_song} by {user_clarification} was not found in list, please try again\")\n",
    "        else:\n",
    "            user_clarification=artist_string\n",
    "    else:\n",
    "        user_clarification=[j['name'] for j in num_songs['tracks']['items'][0]['artists']]\n",
    "    return user_clarification.lower()\n",
    "\n",
    "def return_recommendation(fav_song_spotify_id,your_fav_song,top_100_ids,top_100):\n",
    "    top_99_songs=top_100_ids\n",
    "    top_99_songs.remove(fav_song_spotify_id)\n",
    "    recommended_song_id=random.choice(top_99_songs)\n",
    "    recommended_song=top_100.loc[top_100['id']==recommended_song_id,'song_name'].item()\n",
    "    recommended_artist=top_100.loc[top_100['id']==recommended_song_id,'artist_name'].item()\n",
    "    your_fav_song=your_fav_song.title()\n",
    "    print(f\"{your_fav_song} is currently in the top 100! Maybe you'll also like this top 100 song: {recommended_song}, by {recommended_artist}\")\n",
    "    return recommended_song_id\n",
    "    \n",
    "def spotipy_login():\n",
    "    c_id = spotify_cred.c_id\n",
    "    c_se = spotify_cred.c_se\n",
    "\n",
    "    sp = spotipy.Spotify(auth_manager=SpotifyClientCredentials(client_id=c_id, client_secret=c_se))\n",
    "    return sp\n",
    "\n",
    "def load_pickle(filename = \"filename.pickle\"): \n",
    "    try: \n",
    "        with open(filename, \"rb\") as f: \n",
    "            return pickle.load(f) \n",
    "        \n",
    "    except FileNotFoundError: \n",
    "        print(\"File not found!\") \n",
    "        \n",
    "def get_fav_song_audio_features(fav_song_audio_features):\n",
    "    \n",
    "    fsaf=pd.DataFrame(fav_song_audio_features)\n",
    "    fsaf= fsaf[[\"danceability\",\"energy\",\"loudness\",\"speechiness\",\"acousticness\",\"instrumentalness\",\"liveness\",\"valence\",\"tempo\",\"id\"]]\n",
    "\n",
    "    artists=[]\n",
    "    song_titles=[]\n",
    "    popularity=[]\n",
    "    explicit=[]\n",
    "\n",
    "    for ids in fsaf['id']:\n",
    "        temp_val=sp.track(ids)\n",
    "        song_titles.append(temp_val['name'])\n",
    "        popularity.append(temp_val['popularity'])\n",
    "        explicit.append(temp_val['explicit'])\n",
    "        temp_artist=[artist['name'] for artist in temp_val['artists']]\n",
    "        artists.append([temp_artist])\n",
    "\n",
    "    fsaf['explicit']=explicit\n",
    "    fsaf['popularity']=popularity\n",
    "    fsaf.drop(labels='id',axis=1,inplace=True)\n",
    "    return fsaf\n",
    "\n",
    "def play_song(track_id):\n",
    "    return IFrame(src=\"https://open.spotify.com/embed/track/\"+track_id,\n",
    "       width=\"320\",\n",
    "       height=\"80\",\n",
    "       frameborder=\"0\",\n",
    "       allowtransparency=\"true\",\n",
    "       allow=\"encrypted-media\",\n",
    "      )\n",
    "\n",
    "def recommender(fav_song_spotify_id):\n",
    "    #Get top songs\n",
    "    top_100=pd.read_csv(r\"Data\\top100_ids.csv\")\n",
    "\n",
    "    #Lowercase all values for comparison\n",
    "    top_100_songs=list(top_100['song_name'])\n",
    "    top_100_ids=list(top_100['id'])\n",
    "\n",
    "\n",
    "    #If song currently hot...\n",
    "\n",
    "    #Give another hot song as output\n",
    "    if fav_song_spotify_id in top_100_ids:\n",
    "        recommendation=return_recommendation(fav_song_spotify_id,your_fav_song,top_100_ids,top_100)\n",
    "        return play_song(recommendation)\n",
    "    else:\n",
    "        #If song not hot...\n",
    "\n",
    "        # Get audio values for individual song\n",
    "        fav_song_audio_features=sp.audio_features(fav_song_spotify_id)\n",
    "        fsaf=get_fav_song_audio_features(fav_song_audio_features)\n",
    "\n",
    "        #Run through predict of k-means to get cluster #\n",
    "        scaler=load_pickle(\"Model/scaler25.pickle\")\n",
    "        kmeans=load_pickle(\"Model/kmeans25.pickle\")\n",
    "        fsaf_scaled=scaler.transform(fsaf)\n",
    "        fsaf_scaled_df = pd.DataFrame(fsaf_scaled, columns = fsaf.columns)\n",
    "        fav_song_cluster=kmeans.predict(fsaf_scaled_df)\n",
    "        #Load database of songs with clusters\n",
    "        song_database=pd.read_csv(\"Data\\songs_with_clusters25.csv\")\n",
    "\n",
    "        #Get sample from database\n",
    "        song_database=song_database[['id','song_title','artist','clusters']]\n",
    "        recommendation=song_database[song_database['clusters']==fav_song_cluster[0]].sample()\n",
    "        rec_artist=recommendation['artist'].iat[0]\n",
    "        rec_song=recommendation['song_title'].iat[0]\n",
    "        print(\"...\")\n",
    "        print(f\"You have some unique taste! Maybe you'll also like: {rec_song} by {rec_artist}\")\n",
    "        print(\"...\")\n",
    "\n",
    "        return play_song(recommendation['id'].iat[0])\n",
    "\n",
    "def get_fav_song_spotify_id(your_fav_song,artist_name):\n",
    "    fav_song_spotify=sp.search(q=\"track:\"+your_fav_song+\" artist:\"+artist_name,limit=5)\n",
    "    fav_song_spotify_id=fav_song_spotify['tracks']['items'][0]['id']\n",
    "    return fav_song_spotify_id"
   ]
  },
  {
   "cell_type": "markdown",
   "id": "5eb27cbe-987c-4d63-9ea3-6f3df088db94",
   "metadata": {},
   "source": [
    "# Main function"
   ]
  },
  {
   "cell_type": "code",
   "execution_count": null,
   "id": "74d3a483-9006-429e-9e2c-fbbe82d046e9",
   "metadata": {},
   "outputs": [],
   "source": []
  },
  {
   "cell_type": "code",
   "execution_count": 88,
   "id": "b1d69fbe-64c2-4431-b5ec-5a89ec963ce3",
   "metadata": {
    "tags": []
   },
   "outputs": [
    {
     "name": "stdin",
     "output_type": "stream",
     "text": [
      "Please share a song you enjoy to receive a recommendation! wagon wheel\n"
     ]
    },
    {
     "name": "stdout",
     "output_type": "stream",
     "text": [
      "There is more than one artist with a song title like Wagon Wheel\n",
      "Similar song titles are offered by the following artists: daigoro789, Old Crow Medicine Show, Darius Rucker\n",
      "...\n"
     ]
    },
    {
     "name": "stdin",
     "output_type": "stream",
     "text": [
      "Which artist is your song by? darius rucker\n"
     ]
    },
    {
     "name": "stdout",
     "output_type": "stream",
     "text": [
      "...\n",
      "You have some unique taste! Maybe you'll also like: This Charming Man - 2011 Remaster by The Smiths\n",
      "...\n"
     ]
    },
    {
     "data": {
      "text/html": [
       "\n",
       "        <iframe\n",
       "            width=\"320\"\n",
       "            height=\"80\"\n",
       "            src=\"https://open.spotify.com/embed/track/1FvDJ9KGxcqwv1utyPL3JZ?frameborder=0&allowtransparency=true&allow=encrypted-media\"\n",
       "            frameborder=\"0\"\n",
       "            allowfullscreen\n",
       "            \n",
       "        ></iframe>\n",
       "        "
      ],
      "text/plain": [
       "<IPython.lib.display.IFrame at 0x2d9d85c9a00>"
      ]
     },
     "execution_count": 88,
     "metadata": {},
     "output_type": "execute_result"
    }
   ],
   "source": [
    "#Login to spotipy\n",
    "sp=spotipy_login()\n",
    "\n",
    "#Get user input\n",
    "your_fav_song=get_user_input()\n",
    "\n",
    "#Check if user song is unique, if not ask for clarification\n",
    "artist_name=check_duplicate_song_names(your_fav_song)\n",
    "\n",
    "#Get id for fav_song from spotify\n",
    "fav_song_spotify_id=get_fav_song_spotify_id(your_fav_song,artist_name)\n",
    "\n",
    "recommender(fav_song_spotify_id)"
   ]
  },
  {
   "cell_type": "code",
   "execution_count": 89,
   "id": "29788ea5-c2e2-4d74-a514-18dd8f5ec1d7",
   "metadata": {
    "tags": []
   },
   "outputs": [
    {
     "data": {
      "text/html": [
       "\n",
       "        <iframe\n",
       "            width=\"320\"\n",
       "            height=\"80\"\n",
       "            src=\"https://open.spotify.com/embed/track/3xdjjKMcMOFgo1eQrfbogM?frameborder=0&allowtransparency=true&allow=encrypted-media\"\n",
       "            frameborder=\"0\"\n",
       "            allowfullscreen\n",
       "            \n",
       "        ></iframe>\n",
       "        "
      ],
      "text/plain": [
       "<IPython.lib.display.IFrame at 0x2d9d85a3a30>"
      ]
     },
     "execution_count": 89,
     "metadata": {},
     "output_type": "execute_result"
    }
   ],
   "source": [
    "play_song(fav_song_spotify_id)"
   ]
  },
  {
   "cell_type": "code",
   "execution_count": null,
   "id": "59e73fa7-213b-410b-a7a7-46b1bf4f53d2",
   "metadata": {},
   "outputs": [],
   "source": []
  }
 ],
 "metadata": {
  "kernelspec": {
   "display_name": "Python 3 (ipykernel)",
   "language": "python",
   "name": "python3"
  },
  "language_info": {
   "codemirror_mode": {
    "name": "ipython",
    "version": 3
   },
   "file_extension": ".py",
   "mimetype": "text/x-python",
   "name": "python",
   "nbconvert_exporter": "python",
   "pygments_lexer": "ipython3",
   "version": "3.9.12"
  },
  "toc-autonumbering": true,
  "toc-showcode": false,
  "toc-showmarkdowntxt": false
 },
 "nbformat": 4,
 "nbformat_minor": 5
}
