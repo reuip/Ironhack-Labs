{
 "cells": [
  {
   "cell_type": "markdown",
   "id": "b9689d38-7da9-4645-8e59-6324ecd27a3b",
   "metadata": {},
   "source": [
    "# Import libraries and prep spotipy"
   ]
  },
  {
   "cell_type": "code",
   "execution_count": 2,
   "id": "6e3fad9d",
   "metadata": {},
   "outputs": [],
   "source": [
    "import spotipy\n",
    "import spotify_cred\n",
    "from spotipy.oauth2 import SpotifyClientCredentials\n",
    "import pandas as pd\n",
    "import pprint\n",
    "from time import sleep\n",
    "from random import randint\n",
    "\n",
    "\n",
    "c_id = spotify_cred.c_id\n",
    "c_se = spotify_cred.c_se\n",
    "\n",
    "sp = spotipy.Spotify(auth_manager=SpotifyClientCredentials(client_id=c_id, client_secret=c_se))"
   ]
  },
  {
   "cell_type": "markdown",
   "id": "349e3656-f77a-4713-84f1-9921ec92cb5d",
   "metadata": {},
   "source": [
    "## Custom functions"
   ]
  },
  {
   "cell_type": "code",
   "execution_count": 4,
   "id": "006f303e-b383-4e38-8a44-f3da294c210d",
   "metadata": {},
   "outputs": [],
   "source": [
    "seconds_to_wait = randint(2,7)\n",
    "def get_playlist_tracks(playlist_id):\n",
    "    results = sp.playlist_tracks(playlist_id)\n",
    "    tracks = results['items']\n",
    "    while results['next']:\n",
    "        results = sp.next(results)\n",
    "        tracks.extend(results['items'])\n",
    "        sleep(seconds_to_wait)\n",
    "    return tracks\n",
    "\n",
    "\n",
    "def get_playlist_audio_features(playlist):\n",
    "    list_of_audio_features=[]\n",
    "    bad_items=[]\n",
    "    for item in range(0,len(playlist)):\n",
    "        try:\n",
    "            temp_features=sp.audio_features(playlist[item][\"track\"][\"id\"])[0]\n",
    "            if temp_features!= None:\n",
    "                list_of_audio_features.append(temp_features)\n",
    "                #print(\"Good\",item)\n",
    "        except:\n",
    "            bad_items.append(item)\n",
    "            print(\"Bad\",item)\n",
    "            continue\n",
    "    df=pd.DataFrame(list_of_audio_features)    \n",
    "    #df=df[[\"danceability\",\"energy\",\"loudness\",\"speechiness\",\"acousticness\",\"instrumentalness\",\"liveness\",\"valence\",\"tempo\",\"id\",\"duration_ms\"]]\n",
    "    return df,bad_items\n",
    "\n",
    "def compile_playlists(playlist_df):\n",
    "    full_playlist=[]\n",
    "    seconds_to_wait = randint(2,7)\n",
    "\n",
    "\n",
    "    for i in playlist_df['IDs']:\n",
    "        temp_playlist=get_playlist_tracks(i)\n",
    "        full_playlist.extend(temp_playlist)\n",
    "        sleep(seconds_to_wait)\n",
    "    return full_playlist"
   ]
  },
  {
   "cell_type": "markdown",
   "id": "0cad768c-b469-478c-a3e0-ce32c88f68a3",
   "metadata": {},
   "source": [
    "# Get list of songs from playlists"
   ]
  },
  {
   "cell_type": "code",
   "execution_count": 5,
   "id": "92e69685-dd8e-464d-8408-3af943a75ea2",
   "metadata": {},
   "outputs": [],
   "source": [
    "playlist_df=pd.read_csv(r\"C:\\Users\\MichaelTaylo_c9zoof3\\Documents\\GitHub\\Ironhack-Labs\\Spotify\\Data\\Playlists to parse\\10000 song playlist.csv\")"
   ]
  },
  {
   "cell_type": "code",
   "execution_count": 6,
   "id": "1667490d-cad5-4a5e-ae7d-929f18dfd8b6",
   "metadata": {
    "tags": []
   },
   "outputs": [],
   "source": [
    "song_list=compile_playlists(playlist_df)"
   ]
  },
  {
   "cell_type": "code",
   "execution_count": 7,
   "id": "d39384bb-ca51-4868-bae2-5c997cfc415b",
   "metadata": {},
   "outputs": [
    {
     "data": {
      "text/plain": [
       "10000"
      ]
     },
     "execution_count": 7,
     "metadata": {},
     "output_type": "execute_result"
    }
   ],
   "source": [
    "len(song_list)"
   ]
  },
  {
   "cell_type": "markdown",
   "id": "35864234-6bda-4c6c-9607-399c0826845a",
   "metadata": {},
   "source": [
    "## Save list of songs for future use"
   ]
  },
  {
   "cell_type": "code",
   "execution_count": 8,
   "id": "0cad0f47-b762-4c2b-be2f-cca6f10718dd",
   "metadata": {},
   "outputs": [],
   "source": [
    "import pickle\n",
    "with open(\"Data\\song_list.pickle\", \"wb\") as f:\n",
    "\tpickle.dump(song_list,f)"
   ]
  },
  {
   "cell_type": "markdown",
   "id": "6274b537-860d-439e-874c-83efdf5fe044",
   "metadata": {},
   "source": [
    "## Compile list of audio features from song list"
   ]
  },
  {
   "cell_type": "code",
   "execution_count": 9,
   "id": "a7f37d0b-15e5-4e71-87d1-f34de5781ab2",
   "metadata": {
    "tags": []
   },
   "outputs": [
    {
     "name": "stdout",
     "output_type": "stream",
     "text": [
      "Bad 467\n",
      "Bad 2658\n",
      "Bad 2671\n",
      "Bad 2979\n",
      "Bad 3387\n",
      "Bad 3470\n",
      "Bad 3640\n",
      "Bad 3684\n",
      "Bad 3731\n",
      "Bad 3757\n",
      "Bad 3775\n",
      "Bad 4003\n",
      "Bad 4049\n",
      "Bad 4318\n",
      "Bad 4465\n",
      "Bad 4468\n",
      "Bad 4552\n",
      "Bad 4710\n",
      "Bad 4905\n",
      "Bad 5459\n",
      "Bad 5526\n",
      "Bad 5926\n",
      "Bad 6094\n",
      "Bad 6179\n",
      "Bad 6243\n",
      "Bad 6663\n",
      "Bad 6846\n",
      "Bad 6897\n",
      "Bad 6908\n",
      "Bad 7131\n",
      "Bad 7173\n",
      "Bad 7336\n",
      "Bad 7579\n",
      "Bad 7655\n",
      "Bad 7693\n",
      "Bad 7786\n",
      "Bad 7793\n",
      "Bad 7909\n",
      "Bad 8464\n",
      "Bad 8475\n",
      "Bad 8660\n",
      "Bad 8828\n",
      "Bad 8911\n",
      "Bad 8941\n",
      "Bad 9162\n",
      "Bad 9382\n",
      "Bad 9489\n",
      "Bad 9633\n",
      "Bad 9693\n",
      "Bad 9819\n",
      "Bad 9846\n",
      "Bad 9850\n",
      "Bad 9865\n"
     ]
    }
   ],
   "source": [
    "df,bad_list=get_playlist_audio_features(song_list)"
   ]
  },
  {
   "cell_type": "markdown",
   "id": "9a24273b-9ce9-4931-8045-9e1bdae52430",
   "metadata": {},
   "source": [
    "## Save dataframe of audio features for future use"
   ]
  },
  {
   "cell_type": "code",
   "execution_count": 10,
   "id": "beb189bd-bbbe-42a0-9cff-26dad5f20968",
   "metadata": {},
   "outputs": [],
   "source": [
    "df.to_csv(\"Data\\compiled10000.csv\", index=False)"
   ]
  },
  {
   "cell_type": "code",
   "execution_count": 20,
   "id": "5828b384-8d64-4a34-b362-87b4ec6768a4",
   "metadata": {},
   "outputs": [
    {
     "data": {
      "text/plain": [
       "'Bob Dylan'"
      ]
     },
     "execution_count": 20,
     "metadata": {},
     "output_type": "execute_result"
    }
   ],
   "source": []
  },
  {
   "cell_type": "markdown",
   "id": "0047afe1-a9a2-4c56-a78d-b773deee5777",
   "metadata": {},
   "source": [
    "# Add on additional information"
   ]
  },
  {
   "cell_type": "code",
   "execution_count": 21,
   "id": "27eda137-d259-4b6c-ae78-e89ce2dd5c4c",
   "metadata": {},
   "outputs": [],
   "source": [
    "artists=[]\n",
    "song_titles=[]\n",
    "popularity=[]\n",
    "explicit=[]\n",
    "release_date=[]\n",
    "\n",
    "for ids in df['id']:\n",
    "    temp_val=sp.track(ids)\n",
    "    song_titles.append(temp_val['name'])\n",
    "    popularity.append(temp_val['popularity'])\n",
    "    release_date.append(temp_val['album']['release_date'])\n",
    "    explicit.append(temp_val['explicit'])\n",
    "    artists.append(temp_val['artists'][0]['name'])"
   ]
  },
  {
   "cell_type": "code",
   "execution_count": 22,
   "id": "87df6c6a-c27d-4a94-a05d-be18658b41be",
   "metadata": {},
   "outputs": [],
   "source": [
    "df_full=df.copy()"
   ]
  },
  {
   "cell_type": "code",
   "execution_count": 23,
   "id": "21ac9ed3-733e-4c19-887f-a5903b9ce898",
   "metadata": {},
   "outputs": [],
   "source": [
    "df_full['artist']=artists\n",
    "df_full['song_title']=song_titles\n",
    "df_full['explicit']=explicit\n",
    "df_full['popularity']=popularity"
   ]
  },
  {
   "cell_type": "markdown",
   "id": "a9cf8490-cdd3-47d5-af74-6212ad6d5e37",
   "metadata": {},
   "source": [
    "# Save final version of file"
   ]
  },
  {
   "cell_type": "code",
   "execution_count": 24,
   "id": "5aaa2c54-43d5-4172-9d42-b093e5eb685a",
   "metadata": {},
   "outputs": [],
   "source": [
    "df_full.to_csv(\"Data\\compiled_full_10000.csv\", index=False)"
   ]
  },
  {
   "cell_type": "code",
   "execution_count": null,
   "id": "2d917302-0d26-47cf-a861-c70997d09b50",
   "metadata": {},
   "outputs": [],
   "source": []
  }
 ],
 "metadata": {
  "kernelspec": {
   "display_name": "Python 3 (ipykernel)",
   "language": "python",
   "name": "python3"
  },
  "language_info": {
   "codemirror_mode": {
    "name": "ipython",
    "version": 3
   },
   "file_extension": ".py",
   "mimetype": "text/x-python",
   "name": "python",
   "nbconvert_exporter": "python",
   "pygments_lexer": "ipython3",
   "version": "3.9.12"
  },
  "toc": {
   "base_numbering": 1,
   "nav_menu": {},
   "number_sections": true,
   "sideBar": true,
   "skip_h1_title": false,
   "title_cell": "Table of Contents",
   "title_sidebar": "Contents",
   "toc_cell": false,
   "toc_position": {},
   "toc_section_display": true,
   "toc_window_display": false
  },
  "toc-autonumbering": true,
  "varInspector": {
   "cols": {
    "lenName": 16,
    "lenType": 16,
    "lenVar": 40
   },
   "kernels_config": {
    "python": {
     "delete_cmd_postfix": "",
     "delete_cmd_prefix": "del ",
     "library": "var_list.py",
     "varRefreshCmd": "print(var_dic_list())"
    },
    "r": {
     "delete_cmd_postfix": ") ",
     "delete_cmd_prefix": "rm(",
     "library": "var_list.r",
     "varRefreshCmd": "cat(var_dic_list()) "
    }
   },
   "types_to_exclude": [
    "module",
    "function",
    "builtin_function_or_method",
    "instance",
    "_Feature"
   ],
   "window_display": false
  }
 },
 "nbformat": 4,
 "nbformat_minor": 5
}
