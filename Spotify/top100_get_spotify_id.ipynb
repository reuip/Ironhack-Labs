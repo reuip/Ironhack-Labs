{
 "cells": [
  {
   "cell_type": "code",
   "execution_count": 1,
   "id": "b9943fc5-ef8b-4ccf-a6ed-2b1b8572b3f0",
   "metadata": {},
   "outputs": [],
   "source": [
    "import sys\n",
    "import pandas as pd\n",
    "import requests\n",
    "import qgrid\n",
    "import random\n",
    "from textblob import TextBlob\n",
    "import spotipy\n",
    "import spotify_cred\n",
    "from spotipy.oauth2 import SpotifyClientCredentials\n",
    "import pprint"
   ]
  },
  {
   "cell_type": "code",
   "execution_count": 54,
   "id": "575f4aac-7a64-4268-82af-e4781d5a33d3",
   "metadata": {},
   "outputs": [],
   "source": [
    "top_100=pd.read_csv(\"top100 - Copy.csv\")"
   ]
  },
  {
   "cell_type": "code",
   "execution_count": 55,
   "id": "dbdad63c-28b2-479c-9800-5c4e9d81f73b",
   "metadata": {},
   "outputs": [
    {
     "data": {
      "text/html": [
       "<div>\n",
       "<style scoped>\n",
       "    .dataframe tbody tr th:only-of-type {\n",
       "        vertical-align: middle;\n",
       "    }\n",
       "\n",
       "    .dataframe tbody tr th {\n",
       "        vertical-align: top;\n",
       "    }\n",
       "\n",
       "    .dataframe thead th {\n",
       "        text-align: right;\n",
       "    }\n",
       "</style>\n",
       "<table border=\"1\" class=\"dataframe\">\n",
       "  <thead>\n",
       "    <tr style=\"text-align: right;\">\n",
       "      <th></th>\n",
       "      <th>rank</th>\n",
       "      <th>song_name</th>\n",
       "      <th>artist_name</th>\n",
       "    </tr>\n",
       "  </thead>\n",
       "  <tbody>\n",
       "    <tr>\n",
       "      <th>0</th>\n",
       "      <td>1</td>\n",
       "      <td>Jimmy Cooks</td>\n",
       "      <td>Drake</td>\n",
       "    </tr>\n",
       "    <tr>\n",
       "      <th>1</th>\n",
       "      <td>2</td>\n",
       "      <td>As It Was</td>\n",
       "      <td>Harry Styles</td>\n",
       "    </tr>\n",
       "    <tr>\n",
       "      <th>2</th>\n",
       "      <td>3</td>\n",
       "      <td>First Class</td>\n",
       "      <td>Jack Harlow</td>\n",
       "    </tr>\n",
       "    <tr>\n",
       "      <th>3</th>\n",
       "      <td>4</td>\n",
       "      <td>Wait For U</td>\n",
       "      <td>Future</td>\n",
       "    </tr>\n",
       "    <tr>\n",
       "      <th>4</th>\n",
       "      <td>5</td>\n",
       "      <td>About Damn Time</td>\n",
       "      <td>Lizzo</td>\n",
       "    </tr>\n",
       "  </tbody>\n",
       "</table>\n",
       "</div>"
      ],
      "text/plain": [
       "   rank        song_name   artist_name\n",
       "0     1      Jimmy Cooks         Drake\n",
       "1     2        As It Was  Harry Styles\n",
       "2     3      First Class   Jack Harlow\n",
       "3     4       Wait For U        Future\n",
       "4     5  About Damn Time         Lizzo"
      ]
     },
     "execution_count": 55,
     "metadata": {},
     "output_type": "execute_result"
    }
   ],
   "source": [
    "top_100.head()"
   ]
  },
  {
   "cell_type": "code",
   "execution_count": 56,
   "id": "a133fcd3-5f05-4a9a-a326-a6a2e29d54c8",
   "metadata": {},
   "outputs": [],
   "source": [
    "song_list=[x for x in top_100['song_name']]\n",
    "artist_list=[x for x in top_100['artist_name']]"
   ]
  },
  {
   "cell_type": "code",
   "execution_count": 57,
   "id": "5297bb98-6dea-41c8-9e96-be9aee0727d7",
   "metadata": {},
   "outputs": [],
   "source": [
    "song_artist=dict(zip(song_list,artist_list))\n"
   ]
  },
  {
   "cell_type": "code",
   "execution_count": 58,
   "id": "91e94f16-8b01-4b8c-8dc3-933f47838086",
   "metadata": {},
   "outputs": [],
   "source": [
    "def spotipy_login():\n",
    "    c_id = spotify_cred.c_id\n",
    "    c_se = spotify_cred.c_se\n",
    "\n",
    "    sp = spotipy.Spotify(auth_manager=SpotifyClientCredentials(client_id=c_id, client_secret=c_se))\n",
    "    return sp\n",
    "sp=spotipy_login()"
   ]
  },
  {
   "cell_type": "code",
   "execution_count": 59,
   "id": "2158a2a4-3948-4ef7-814a-3203fd769640",
   "metadata": {},
   "outputs": [],
   "source": [
    "spotify_list=[]\n",
    "for song,artist in song_artist.items():\n",
    "    spotify_info=sp.search(q=\"track:\"+song+\" artist:\"+artist,limit=1)\n",
    "    spotify_list.append(spotify_info)\n"
   ]
  },
  {
   "cell_type": "code",
   "execution_count": 60,
   "id": "51820df9-642e-4080-b554-032835e00376",
   "metadata": {},
   "outputs": [],
   "source": [
    "spotify_ids=[]\n",
    "for i in range (0,100):\n",
    "    try:\n",
    "        temp=spotify_list[i]['tracks']['items'][0]['id']\n",
    "        spotify_ids.append(temp)\n",
    "    except:\n",
    "        spotify_ids.append(0)"
   ]
  },
  {
   "cell_type": "code",
   "execution_count": 61,
   "id": "2db004b1-5152-4da6-9a44-e936abfc479e",
   "metadata": {},
   "outputs": [],
   "source": [
    "top_100['id']=spotify_ids"
   ]
  },
  {
   "cell_type": "code",
   "execution_count": 62,
   "id": "dab65345-8782-4fe8-8b44-12b949009e6b",
   "metadata": {},
   "outputs": [],
   "source": [
    "top_100.to_csv(\"top100_ids.csv\")"
   ]
  },
  {
   "cell_type": "code",
   "execution_count": null,
   "id": "8d54eee4-bcf8-4c77-8037-7810b3f11117",
   "metadata": {},
   "outputs": [],
   "source": []
  }
 ],
 "metadata": {
  "kernelspec": {
   "display_name": "Python 3 (ipykernel)",
   "language": "python",
   "name": "python3"
  },
  "language_info": {
   "codemirror_mode": {
    "name": "ipython",
    "version": 3
   },
   "file_extension": ".py",
   "mimetype": "text/x-python",
   "name": "python",
   "nbconvert_exporter": "python",
   "pygments_lexer": "ipython3",
   "version": "3.9.12"
  }
 },
 "nbformat": 4,
 "nbformat_minor": 5
}
