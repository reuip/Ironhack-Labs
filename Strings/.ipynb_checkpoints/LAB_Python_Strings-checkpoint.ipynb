{
 "cells": [
  {
   "cell_type": "markdown",
   "metadata": {},
   "source": [
    "# Lab -Python Strings Operations"
   ]
  },
  {
   "cell_type": "markdown",
   "metadata": {},
   "source": [
    "# Challenge 1 - Combining Strings\n",
    "\n",
    "Combining strings is an important skill to acquire. There are multiple ways of combining strings in Python, as well as combining strings with variables. We will explore this in the first challenge. In the cell below, combine the strings in the list and add spaces between the strings (do not add a space after the last string). Insert a period after the last string."
   ]
  },
  {
   "cell_type": "code",
   "execution_count": 2,
   "metadata": {},
   "outputs": [
    {
     "data": {
      "text/plain": [
       "'I am strengthening my programming skills in order to become a great Data Analyst'"
      ]
     },
     "execution_count": 2,
     "metadata": {},
     "output_type": "execute_result"
    }
   ],
   "source": [
    "str_list = ['I', 'am', 'strengthening', 'my', 'programming', 'skills', 'in', 'order', 'to', 'become', 'a', 'great', 'Data','Analyst']\n",
    "# Your code here:\n",
    "sentence= \" \".join(str_list)\n",
    "sentence"
   ]
  },
  {
   "cell_type": "markdown",
   "metadata": {},
   "source": [
    "In the cell below, use the list of strings to create a grocery list. Start the list with the string `Grocery list: ` and include a comma and a space between each item except for the last one. Include a period at the end. Only include foods in the list that start with the letter 'b' and ensure all foods are lower case."
   ]
  },
  {
   "cell_type": "code",
   "execution_count": 5,
   "metadata": {},
   "outputs": [
    {
     "data": {
      "text/plain": [
       "'Grocery list: Bananas, Chocolate, bread, diapers, Ice Cream, Brownie Mix, broccoli.'"
      ]
     },
     "execution_count": 5,
     "metadata": {},
     "output_type": "execute_result"
    }
   ],
   "source": [
    "food_list = ['Bananas', 'Chocolate', 'bread', 'diapers', 'Ice Cream', 'Brownie Mix', 'broccoli']\n",
    "# Your code here:\n",
    "groceries=\"Grocery list: \"+\", \".join(food_list)+\".\"\n",
    "groceries"
   ]
  },
  {
   "cell_type": "code",
   "execution_count": 12,
   "metadata": {},
   "outputs": [
    {
     "data": {
      "text/plain": [
       "'Grocery list: bananas, bread, brownie mix, broccoli.'"
      ]
     },
     "execution_count": 12,
     "metadata": {},
     "output_type": "execute_result"
    }
   ],
   "source": [
    "\n",
    "b_list=[]\n",
    "for food in food_list:\n",
    "    if food.lower()[0]==\"b\":\n",
    "        b_list.append(food.lower())\n",
    "\n",
    "groceries_b=\"Grocery list: \"+\", \".join(b_list)+\".\"\n",
    "    \n",
    "groceries_b"
   ]
  },
  {
   "cell_type": "markdown",
   "metadata": {},
   "source": [
    "In the cell below, compute the area of a circle using its radius and insert the radius and the area between `string1` and `string2`. Make sure to include spaces between the variable and the strings. \n",
    "\n",
    "Note: You can use the techniques we have learned so far or use f-strings. F-strings allow us to embed code inside strings. You can read more about f-strings [here](https://www.python.org/dev/peps/pep-0498/)."
   ]
  },
  {
   "cell_type": "code",
   "execution_count": 16,
   "metadata": {},
   "outputs": [
    {
     "data": {
      "text/plain": [
       "'The area of the circle with radius: 4.5 is: 63.61725123519331'"
      ]
     },
     "execution_count": 16,
     "metadata": {},
     "output_type": "execute_result"
    }
   ],
   "source": [
    "import math\n",
    "\n",
    "string1 = \"The area of the circle with radius:\"\n",
    "string2  = \"is:\"\n",
    "radius = 4.5\n",
    "pi = math.pi\n",
    "area= pi*radius**2\n",
    "# Your code here:\n",
    "\n",
    "final_string=f\"{string1} {radius} {string2} {area}\"\n",
    "final_string"
   ]
  },
  {
   "cell_type": "markdown",
   "metadata": {},
   "source": [
    "# (Optional) Challenge 2 - Splitting Strings\n",
    "\n",
    "We have first looked at combining strings into one long string. There are times where we need to do the opposite and split the string into smaller components for further analysis. \n",
    "\n",
    "In the cell below, split the string into a list of strings using the space delimiter. Count the frequency of each word in the string in a dictionary. Strip the periods, line breaks and commas from the text. Make sure to remove empty strings from your dictionary."
   ]
  },
  {
   "cell_type": "code",
   "execution_count": 23,
   "metadata": {},
   "outputs": [
    {
     "data": {
      "text/plain": [
       "dict_items([('some', 2), ('say', 3), ('the', 1), ('world', 1), ('will', 1), ('end', 1), ('in', 3), ('fire', 1), ('ice', 4), ('from', 1), ('what', 1), ('i’ve', 1), ('tasted', 1), ('of', 2), ('desire', 1), ('i', 21), ('hold', 1), ('with', 1), ('those', 1), ('who', 1), ('favor', 1), ('but', 1), ('if', 1), ('it', 2), ('had', 1), ('to', 2), ('perish', 1), ('twice', 1), ('think', 1), ('know', 1), ('enough', 1), ('hate', 1), ('that', 1), ('for', 1), ('destruction', 1), ('is', 2), ('also', 1), ('great', 1), ('and', 1), ('would', 1), ('suffice', 1)])"
      ]
     },
     "execution_count": 23,
     "metadata": {},
     "output_type": "execute_result"
    }
   ],
   "source": [
    "poem = \"\"\"Some say the world will end in fire,\n",
    "Some say in ice.\n",
    "From what I’ve tasted of desire\n",
    "I hold with those who favor fire.\n",
    "But if it had to perish twice,\n",
    "I think I know enough of hate\n",
    "To say that for destruction ice\n",
    "Is also great\n",
    "And would suffice.\"\"\"\n",
    "\n",
    "# Your code here:\n",
    "\n",
    "#split string into list of strings using space delimiter\n",
    "split_poem=poem.split()\n",
    "\n",
    "#count frequency of each word in dictionary format\n",
    "#strip periods, line breaks, commas from text\n",
    "poem_dictionary={}\n",
    "for item in split_poem:\n",
    "    poem_dictionary[item.strip(\".\").strip(\",\").lower()]=poem.lower().count(item.lower())\n",
    "    \n",
    "poem_dictionary.items()\n",
    "\n",
    "#remove empty strings from dictionary\n"
   ]
  },
  {
   "cell_type": "markdown",
   "metadata": {},
   "source": [
    "In the cell below, find all the words that appear in the text and do not appear in the blacklist. You must parse the string but can choose any data structure you wish for the words that do not appear in the blacklist. Remove all non letter characters and convert all words to lower case."
   ]
  },
  {
   "cell_type": "code",
   "execution_count": 46,
   "metadata": {},
   "outputs": [
    {
     "data": {
      "text/plain": [
       "['see;',\n",
       " 'was',\n",
       " 'till',\n",
       " 'i',\n",
       " 'with',\n",
       " 'apple',\n",
       " 'that',\n",
       " 'tears:',\n",
       " 'beheld',\n",
       " 'mine',\n",
       " 'not,',\n",
       " 'grow',\n",
       " 'into',\n",
       " 'had',\n",
       " 'grew',\n",
       " 'told',\n",
       " 'stole,',\n",
       " 'tree',\n",
       " 'night',\n",
       " 'foe',\n",
       " 'garden',\n",
       " 'foe:',\n",
       " 'angry',\n",
       " 'veild',\n",
       " 'wrath',\n",
       " 'bright',\n",
       " 'friend;',\n",
       " 'did',\n",
       " 'knew',\n",
       " 'deceitful',\n",
       " 'he',\n",
       " 'beneath',\n",
       " 'morning',\n",
       " 'glad',\n",
       " 'day',\n",
       " 'end',\n",
       " 'both',\n",
       " 'shine,',\n",
       " 'smiles,',\n",
       " 'bore',\n",
       " 'fears,',\n",
       " 'my',\n",
       " 'night',\n",
       " 'pole;',\n",
       " 'outstretched',\n",
       " 'sunned',\n",
       " 'waterd',\n",
       " 'when',\n",
       " 'soft',\n",
       " 'wiles',\n",
       " 'wrath,']"
      ]
     },
     "execution_count": 46,
     "metadata": {},
     "output_type": "execute_result"
    }
   ],
   "source": [
    "blacklist = ['and', 'as', 'an', 'a', 'the', 'in', 'it']\n",
    "\n",
    "poem = \"\"\"I was angry with my friend; \n",
    "I told my wrath, my wrath did end.\n",
    "I was angry with my foe: \n",
    "I told it not, my wrath did grow. \n",
    "\n",
    "And I waterd it in fears,\n",
    "Night & morning with my tears: \n",
    "And I sunned it with smiles,\n",
    "And with soft deceitful wiles. \n",
    "\n",
    "And it grew both day and night. \n",
    "Till it bore an apple bright. \n",
    "And my foe beheld it shine,\n",
    "And he knew that it was mine. \n",
    "\n",
    "And into my garden stole, \n",
    "When the night had veild the pole; \n",
    "In the morning glad I see; \n",
    "My foe outstretched beneath the tree.\"\"\"\n",
    "\n",
    "# Your code here:\n",
    "blacklist_lower=[x.lower() for x in blacklist]\n",
    "split_poem=(poem.lower().split())\n",
    "split_poem=list(set(split_poem))\n",
    "for word in split_poem:\n",
    "    if word.lower() in blacklist_lower:\n",
    "        split_poem.remove(word)\n",
    "\n",
    "cleaned_split_poem = [x.replace(\",\",\"\") for x in split_poem]\n",
    "cleaned_split_poem = [x.replace(\".\",\"\") for x in split_poem]\n",
    "cleaned_split_poem.remove(\"&\")\n",
    "cleaned_split_poem"
   ]
  }
 ],
 "metadata": {
  "file_extension": ".py",
  "kernelspec": {
   "display_name": "Python 3 (ipykernel)",
   "language": "python",
   "name": "python3"
  },
  "language_info": {
   "codemirror_mode": {
    "name": "ipython",
    "version": 3
   },
   "file_extension": ".py",
   "mimetype": "text/x-python",
   "name": "python",
   "nbconvert_exporter": "python",
   "pygments_lexer": "ipython3",
   "version": "3.9.12"
  },
  "mimetype": "text/x-python",
  "name": "python",
  "npconvert_exporter": "python",
  "pygments_lexer": "ipython3",
  "version": 3
 },
 "nbformat": 4,
 "nbformat_minor": 2
}
