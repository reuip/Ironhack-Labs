{
 "cells": [
  {
   "cell_type": "code",
   "execution_count": 1,
   "id": "8983ef5f-e1d0-4134-a21e-840b184ac26a",
   "metadata": {},
   "outputs": [],
   "source": [
    "import sys\n",
    "import requests\n",
    "from bs4 import BeautifulSoup\n",
    "import pandas as pd\n",
    "url_stub = 'https://www.chosic.com/music-genre-finder/?track='"
   ]
  },
  {
   "cell_type": "code",
   "execution_count": 2,
   "id": "6a04c997-8e81-4f3b-ac22-b666f4e587bb",
   "metadata": {},
   "outputs": [],
   "source": [
    "df=pd.read_csv('Data\\songs_with_clusters25.csv')"
   ]
  },
  {
   "cell_type": "code",
   "execution_count": 3,
   "id": "3c81ab31-22d8-4dab-931d-f33f3ecbc757",
   "metadata": {},
   "outputs": [],
   "source": [
    "dfids=df['id'].copy()"
   ]
  },
  {
   "cell_type": "code",
   "execution_count": 4,
   "id": "4bd2736c-90c2-4b45-82d2-057b73f1d6af",
   "metadata": {},
   "outputs": [
    {
     "data": {
      "text/plain": [
       "'https://www.chosic.com/music-genre-finder/?track=3AhXZa8sUQht0UEdBJgpGc'"
      ]
     },
     "execution_count": 4,
     "metadata": {},
     "output_type": "execute_result"
    }
   ],
   "source": [
    "url=url_stub+str(dfids[0])\n",
    "url"
   ]
  },
  {
   "cell_type": "code",
   "execution_count": 113,
   "id": "6c51db45-dfc0-4772-9a0d-60c56f2e0a6d",
   "metadata": {},
   "outputs": [],
   "source": [
    "response = requests.get(url)\n",
    "soup = BeautifulSoup(response.content, 'html.parser') "
   ]
  },
  {
   "cell_type": "code",
   "execution_count": 6,
   "id": "58dda6e9-88d7-4084-9ee9-fd8b65d88d46",
   "metadata": {},
   "outputs": [
    {
     "ename": "ImportError",
     "evalue": "DLL load failed while importing QtWebEngineWidgets: The specified procedure could not be found.",
     "output_type": "error",
     "traceback": [
      "\u001b[1;31m---------------------------------------------------------------------------\u001b[0m",
      "\u001b[1;31mImportError\u001b[0m                               Traceback (most recent call last)",
      "Input \u001b[1;32mIn [6]\u001b[0m, in \u001b[0;36m<cell line: 4>\u001b[1;34m()\u001b[0m\n\u001b[0;32m      2\u001b[0m \u001b[38;5;28;01mimport\u001b[39;00m \u001b[38;5;21;01msys\u001b[39;00m\n\u001b[0;32m      3\u001b[0m \u001b[38;5;28;01mimport\u001b[39;00m \u001b[38;5;21;01murllib\u001b[39;00m\u001b[38;5;21;01m.\u001b[39;00m\u001b[38;5;21;01mrequest\u001b[39;00m\n\u001b[1;32m----> 4\u001b[0m \u001b[38;5;28;01mfrom\u001b[39;00m \u001b[38;5;21;01mPyQt5\u001b[39;00m\u001b[38;5;21;01m.\u001b[39;00m\u001b[38;5;21;01mQtWebEngineWidgets\u001b[39;00m \u001b[38;5;28;01mimport\u001b[39;00m QWebEnginePage\n\u001b[0;32m      5\u001b[0m \u001b[38;5;28;01mfrom\u001b[39;00m \u001b[38;5;21;01mPyQt5\u001b[39;00m\u001b[38;5;21;01m.\u001b[39;00m\u001b[38;5;21;01mQtWidgets\u001b[39;00m \u001b[38;5;28;01mimport\u001b[39;00m QApplication\n\u001b[0;32m      6\u001b[0m \u001b[38;5;28;01mfrom\u001b[39;00m \u001b[38;5;21;01mPyQt5\u001b[39;00m\u001b[38;5;21;01m.\u001b[39;00m\u001b[38;5;21;01mQtCore\u001b[39;00m \u001b[38;5;28;01mimport\u001b[39;00m QUrl\n",
      "\u001b[1;31mImportError\u001b[0m: DLL load failed while importing QtWebEngineWidgets: The specified procedure could not be found."
     ]
    }
   ],
   "source": [
    "import bs4 as bs\n",
    "import sys\n",
    "import urllib.request\n",
    "from PyQt5.QtWebEngineWidgets import QWebEnginePage\n",
    "from PyQt5.QtWidgets import QApplication\n",
    "from PyQt5.QtCore import QUrl\n",
    "from PtQt5.\n",
    "\n",
    "class Page(QWebEnginePage):\n",
    "    def __init__(self, url):\n",
    "        self.app = QApplication(sys.argv)\n",
    "        QWebEnginePage.__init__(self)\n",
    "        self.html = ''\n",
    "        self.loadFinished.connect(self._on_load_finished)\n",
    "        self.load(QUrl(url))\n",
    "        self.app.exec_()\n",
    "\n",
    "    def _on_load_finished(self):\n",
    "        self.html = self.toHtml(self.Callable)\n",
    "        print('Load finished')\n",
    "\n",
    "    def Callable(self, html_str):\n",
    "        self.html = html_str\n",
    "        self.app.quit()\n",
    "\n",
    "\n",
    "page = Page(url)\n",
    "soup = bs.BeautifulSoup(page.html, 'html.parser')"
   ]
  },
  {
   "cell_type": "code",
   "execution_count": null,
   "id": "5d3595dc-7aee-4f29-9e3d-9eb9df29af17",
   "metadata": {},
   "outputs": [],
   "source": [
    "soup.select('.spotify-result a')[1].get_text()"
   ]
  },
  {
   "cell_type": "code",
   "execution_count": null,
   "id": "7a7dae32-d1b4-4b4e-9b78-005f80050dd2",
   "metadata": {},
   "outputs": [],
   "source": []
  }
 ],
 "metadata": {
  "kernelspec": {
   "display_name": "Python 3 (ipykernel)",
   "language": "python",
   "name": "python3"
  },
  "language_info": {
   "codemirror_mode": {
    "name": "ipython",
    "version": 3
   },
   "file_extension": ".py",
   "mimetype": "text/x-python",
   "name": "python",
   "nbconvert_exporter": "python",
   "pygments_lexer": "ipython3",
   "version": "3.9.12"
  }
 },
 "nbformat": 4,
 "nbformat_minor": 5
}
