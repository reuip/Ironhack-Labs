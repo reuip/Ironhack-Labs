{
 "cells": [
  {
   "cell_type": "code",
   "execution_count": 73,
   "id": "6e3fad9d",
   "metadata": {},
   "outputs": [],
   "source": [
    "import spotipy\n",
    "import spotify_cred\n",
    "from spotipy.oauth2 import SpotifyClientCredentials\n",
    "import pandas as pd\n",
    "import pprint\n",
    "\n",
    "c_id = spotify_cred.c_id\n",
    "c_se = spotify_cred.c_se\n",
    "\n",
    "sp = spotipy.Spotify(auth_manager=SpotifyClientCredentials(client_id=c_id, client_secret=c_se))"
   ]
  },
  {
   "cell_type": "code",
   "execution_count": 146,
   "id": "006f303e-b383-4e38-8a44-f3da294c210d",
   "metadata": {},
   "outputs": [],
   "source": [
    "def get_playlist_tracks(playlist_id):\n",
    "    results = sp.playlist_tracks(playlist_id,market=\"GB\")\n",
    "    tracks = results['items']\n",
    "    while results['next']:\n",
    "        results = sp.next(results['items'])\n",
    "        tracks.extend(results)\n",
    "    return tracks\n",
    "\n",
    "\n",
    "def get_playlist_audio_features(playlist):\n",
    "    list_of_audio_features=[]\n",
    "    for item in range(0,len(playlist)):\n",
    "        list_of_audio_features.append(sp.audio_features(playlist[item][\"track\"][\"id\"])[0])\n",
    "    df=pd.DataFrame(list_of_audio_features)    \n",
    "    df=df[[\"danceability\",\"energy\",\"loudness\",\"speechiness\",\"acousticness\",\"instrumentalness\",\n",
    "           \"liveness\",\"valence\",\"tempo\",\"id\",\"duration_ms\"]]\n",
    "    return df\n",
    "\n",
    "def get_playlist_artists(playlist):\n",
    "    list_artists=[]\n",
    "    for i in range(0,len(playlist)):\n",
    "        temp_artist=[]\n",
    "        temp_artist=[artist['name'] for artist in playlist[i]['track']['artists']]\n",
    "        list_artists.extend([temp_artist])\n",
    "    return list_artists\n",
    "\n",
    "\n",
    "def get_playlist_song_titles(playlist):\n",
    "    list_songs=[song['track']['name'] for song in playlist]\n",
    "    return list_songs\n",
    "\n",
    "\n",
    "def get_playlist_explicit(playlist):\n",
    "    explicit_list= [expl['track']['explicit'] for expl in playlist]\n",
    "    return explicit_list\n",
    "\n",
    "def get_playlist_popularity (playlist):\n",
    "    pop_list=[pop['track']['popularity'] for pop in playlist]\n",
    "    return pop_list"
   ]
  },
  {
   "cell_type": "code",
   "execution_count": null,
   "id": "82e435c8-20cd-4633-8282-93ea44a60a0d",
   "metadata": {},
   "outputs": [],
   "source": [
    "def compile_playlists(playlist_df):\n",
    "    full_playlist=[]\n",
    "    for i in playlist_df['IDs']:\n",
    "        temp_playlist=get_playlist_tracks(i)\n",
    "    full_playlist.extend(temp_playlist)\n",
    "    return full_playlist\n",
    "        \n",
    "\n",
    "def get_all_features(playlist):\n",
    "    song_df-get_playlist_audio_features(playlist)\n",
    "    song_df['artist']=get_playlist_artists(playlist)\n",
    "    song_df['song_title']=get_playlist_song_titles(playlist)\n",
    "    song_df['explicit']=get_playlist_explicit(playlist)\n",
    "    song_df['popularity']=get_playlist_popularity(playlist)\n",
    "    return song_df"
   ]
  },
  {
   "cell_type": "code",
   "execution_count": 149,
   "id": "92e69685-dd8e-464d-8408-3af943a75ea2",
   "metadata": {},
   "outputs": [],
   "source": [
    "playlist_df=pd.read_csv(r\"C:\\Users\\MichaelTaylo_c9zoof3\\Documents\\GitHub\\Ironhack-Labs\\Spotify\\playlists.csv\")"
   ]
  },
  {
   "cell_type": "code",
   "execution_count": null,
   "id": "1667490d-cad5-4a5e-ae7d-929f18dfd8b6",
   "metadata": {},
   "outputs": [],
   "source": [
    "x=compile_playlists(playlist_df)\n"
   ]
  }
 ],
 "metadata": {
  "kernelspec": {
   "display_name": "Python 3 (ipykernel)",
   "language": "python",
   "name": "python3"
  },
  "language_info": {
   "codemirror_mode": {
    "name": "ipython",
    "version": 3
   },
   "file_extension": ".py",
   "mimetype": "text/x-python",
   "name": "python",
   "nbconvert_exporter": "python",
   "pygments_lexer": "ipython3",
   "version": "3.9.12"
  },
  "toc": {
   "base_numbering": 1,
   "nav_menu": {},
   "number_sections": true,
   "sideBar": true,
   "skip_h1_title": false,
   "title_cell": "Table of Contents",
   "title_sidebar": "Contents",
   "toc_cell": false,
   "toc_position": {},
   "toc_section_display": true,
   "toc_window_display": false
  },
  "varInspector": {
   "cols": {
    "lenName": 16,
    "lenType": 16,
    "lenVar": 40
   },
   "kernels_config": {
    "python": {
     "delete_cmd_postfix": "",
     "delete_cmd_prefix": "del ",
     "library": "var_list.py",
     "varRefreshCmd": "print(var_dic_list())"
    },
    "r": {
     "delete_cmd_postfix": ") ",
     "delete_cmd_prefix": "rm(",
     "library": "var_list.r",
     "varRefreshCmd": "cat(var_dic_list()) "
    }
   },
   "types_to_exclude": [
    "module",
    "function",
    "builtin_function_or_method",
    "instance",
    "_Feature"
   ],
   "window_display": false
  }
 },
 "nbformat": 4,
 "nbformat_minor": 5
}
