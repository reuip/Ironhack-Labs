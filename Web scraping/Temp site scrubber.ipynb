{
 "cells": [
  {
   "cell_type": "code",
   "execution_count": 2,
   "id": "9c7fe6cf-b6e0-4170-a41b-8b073e72f098",
   "metadata": {},
   "outputs": [],
   "source": [
    "import sys\n",
    "import pandas as pd\n",
    "import requests\n",
    "import qgrid"
   ]
  },
  {
   "cell_type": "code",
   "execution_count": 3,
   "id": "80ba91df-ab32-4946-91d9-6188f37920ae",
   "metadata": {},
   "outputs": [
    {
     "data": {
      "text/plain": [
       "200"
      ]
     },
     "execution_count": 3,
     "metadata": {},
     "output_type": "execute_result"
    }
   ],
   "source": [
    "url ='https://audiohype.io/resources/the-best-spotify-playlists/'\n",
    "response = requests.get(url)\n",
    "\n",
    "from bs4 import BeautifulSoup\n",
    "soup = BeautifulSoup(response.content, 'html.parser') \n",
    "response.status_code"
   ]
  },
  {
   "cell_type": "code",
   "execution_count": 19,
   "id": "e11ff606-cec7-4049-b9b4-55524847e052",
   "metadata": {},
   "outputs": [],
   "source": [
    "list_links=[link['href'] for link in soup.select('.rank-math-link')]"
   ]
  },
  {
   "cell_type": "code",
   "execution_count": 24,
   "id": "f2b52fda-225f-4df0-b2b2-5d71d4398361",
   "metadata": {},
   "outputs": [],
   "source": [
    "lin=pd.DataFrame(list_links)"
   ]
  },
  {
   "cell_type": "code",
   "execution_count": 26,
   "id": "7ea1fc5e-e1fa-47e7-bd62-99c638ecee54",
   "metadata": {},
   "outputs": [],
   "source": [
    "lin.to_csv(r\"C:\\Users\\MichaelTaylo_c9zoof3\\Documents\\GitHub\\Ironhack-Labs\\Spotify\\top28.csv\")"
   ]
  },
  {
   "cell_type": "code",
   "execution_count": null,
   "id": "9827718b-5f81-428a-9b1d-db4c6657699e",
   "metadata": {},
   "outputs": [],
   "source": []
  }
 ],
 "metadata": {
  "kernelspec": {
   "display_name": "Python 3 (ipykernel)",
   "language": "python",
   "name": "python3"
  },
  "language_info": {
   "codemirror_mode": {
    "name": "ipython",
    "version": 3
   },
   "file_extension": ".py",
   "mimetype": "text/x-python",
   "name": "python",
   "nbconvert_exporter": "python",
   "pygments_lexer": "ipython3",
   "version": "3.9.12"
  }
 },
 "nbformat": 4,
 "nbformat_minor": 5
}
