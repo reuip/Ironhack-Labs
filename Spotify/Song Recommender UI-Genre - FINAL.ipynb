{
 "cells": [
  {
   "cell_type": "markdown",
   "id": "8b90e9af-0180-4a30-a2bd-77d48a825965",
   "metadata": {
    "jp-MarkdownHeadingCollapsed": true,
    "tags": []
   },
   "source": [
    "# Imports"
   ]
  },
  {
   "cell_type": "code",
   "execution_count": 1,
   "id": "fe5aac59-82af-43e5-9080-2373bd19433d",
   "metadata": {},
   "outputs": [],
   "source": [
    "import sys\n",
    "import pandas as pd\n",
    "import requests\n",
    "import qgrid\n",
    "import random\n",
    "from textblob import TextBlob\n",
    "import spotipy\n",
    "import spotify_cred\n",
    "from spotipy.oauth2 import SpotifyClientCredentials\n",
    "import pickle\n",
    "from IPython.display import IFrame"
   ]
  },
  {
   "cell_type": "markdown",
   "id": "8d655d01-5bfb-4a3c-8c7d-c1e7a20d5565",
   "metadata": {
    "tags": []
   },
   "source": [
    "# Song recommendation functions"
   ]
  },
  {
   "cell_type": "code",
   "execution_count": null,
   "id": "75e841bd-5483-4f4a-8467-e2a8ed88f5a3",
   "metadata": {},
   "outputs": [],
   "source": []
  },
  {
   "cell_type": "code",
   "execution_count": 25,
   "id": "a6f866eb-40a5-4bbc-af0d-00cbe3f5911d",
   "metadata": {},
   "outputs": [],
   "source": [
    "def get_user_input():\n",
    "    your_fav_song_raw=input(\"Please share a song you enjoy to receive a recommendation!\")\n",
    "    your_fav_song=your_fav_song_raw.lower()\n",
    "    return your_fav_song\n",
    "\n",
    "\n",
    "def check_duplicate_song_names(your_fav_song):\n",
    "    num_songs=sp.search(q=\"track:\"+your_fav_song, limit=3)\n",
    "    \n",
    "    #Check if there are more than one artist that sings that song\n",
    "    if len(num_songs['tracks']['items'])>1:\n",
    "        artist_list=[]\n",
    "        for i in num_songs['tracks']['items']:\n",
    "            for j in i['artists']:\n",
    "                artist_list.append(j['name'])\n",
    "                artist_list=list(set(artist_list))\n",
    "                artist_string=\", \".join(artist_list)\n",
    "        if len(artist_list)>1:\n",
    "            print(\"There is more than one artist with a song title like\",your_fav_song.title()) \n",
    "            print(f\"Similar song titles are offered by the following artists: {artist_string}\")\n",
    "            print(\"...\")\n",
    "\n",
    "            #Gather user input on correct artist.  Check it against the list of artists, error if not in list. \n",
    "            matched=False\n",
    "            while matched==False:\n",
    "                user_clarification=input(\"Which artist is your song by?\")\n",
    "\n",
    "            #Compare to ensure input is good\n",
    "                song_check=sp.search(q=\"track:\"+your_fav_song+\" artist:\"+user_clarification,limit=1)\n",
    "                try:\n",
    "                    x=song_check['tracks']['items'][0]['id']\n",
    "                    matched=True\n",
    "                except:\n",
    "                    print(\"...\")\n",
    "                    print(f\"{your_fav_song} by {user_clarification} was not found in list, please try again\")\n",
    "        else:\n",
    "            user_clarification=artist_string\n",
    "    else:\n",
    "        user_clarification=[j['name'] for j in num_songs['tracks']['items'][0]['artists']]\n",
    "    return user_clarification.lower()\n",
    "\n",
    "def return_recommendation(fav_song_spotify_id,your_fav_song,top_100_ids,top_100):\n",
    "    top_99_songs=top_100_ids\n",
    "    top_99_songs.remove(fav_song_spotify_id)\n",
    "    recommended_song_id=random.choice(top_99_songs)\n",
    "    recommended_song=top_100.loc[top_100['id']==recommended_song_id,'song_name'].item()\n",
    "    recommended_artist=top_100.loc[top_100['id']==recommended_song_id,'artist_name'].item()\n",
    "    your_fav_song=your_fav_song.title()\n",
    "    print(f\"{your_fav_song} is currently in the top 100! Maybe you'll also like this top 100 song: {recommended_song}, by {recommended_artist}\")\n",
    "    return recommended_song_id\n",
    "    \n",
    "def spotipy_login():\n",
    "    c_id = spotify_cred.c_id\n",
    "    c_se = spotify_cred.c_se\n",
    "\n",
    "    sp = spotipy.Spotify(auth_manager=SpotifyClientCredentials(client_id=c_id, client_secret=c_se))\n",
    "    return sp\n",
    "\n",
    "def load_pickle(filename = \"filename.pickle\"): \n",
    "    try: \n",
    "        with open(filename, \"rb\") as f: \n",
    "            return pickle.load(f) \n",
    "        \n",
    "    except FileNotFoundError: \n",
    "        print(\"File not found!\") \n",
    "        \n",
    "def get_fav_song_audio_features(fav_song_audio_features):\n",
    "    \n",
    "    fsaf=pd.DataFrame(fav_song_audio_features)\n",
    "    fsaf= fsaf[[\"danceability\",\"energy\",\"loudness\",\"speechiness\",\"acousticness\",\"instrumentalness\",\"liveness\",\"valence\",\"tempo\",\"id\"]]\n",
    "\n",
    "    artists=[]\n",
    "    song_titles=[]\n",
    "    popularity=[]\n",
    "    explicit=[]\n",
    "\n",
    "    for ids in fsaf['id']:\n",
    "        temp_val=sp.track(ids)\n",
    "        song_titles.append(temp_val['name'])\n",
    "        popularity.append(temp_val['popularity'])\n",
    "        explicit.append(temp_val['explicit'])\n",
    "        temp_artist=[artist['name'] for artist in temp_val['artists']]\n",
    "        artists.append([temp_artist])\n",
    "\n",
    "    fsaf['explicit']=explicit\n",
    "    fsaf['popularity']=popularity\n",
    "    fsaf.drop(labels='id',axis=1,inplace=True)\n",
    "    return fsaf\n",
    "\n",
    "def play_song(track_id):\n",
    "    return IFrame(src=\"https://open.spotify.com/embed/track/\"+track_id,\n",
    "       width=\"320\",\n",
    "       height=\"80\",\n",
    "       frameborder=\"0\",\n",
    "       allowtransparency=\"true\",\n",
    "       allow=\"encrypted-media\",\n",
    "      )\n",
    "\n",
    "def recommender(fav_song_spotify_id):\n",
    "    #Get top songs\n",
    "    top_100=pd.read_csv(r\"Data\\top100_ids.csv\")\n",
    "\n",
    "    #Lowercase all values for comparison\n",
    "    top_100_songs=list(top_100['song_name'])\n",
    "    top_100_ids=list(top_100['id'])\n",
    "\n",
    "\n",
    "    #If song currently hot...\n",
    "\n",
    "    #Give another hot song as output\n",
    "    if fav_song_spotify_id in top_100_ids:\n",
    "        recommendation=return_recommendation(fav_song_spotify_id,your_fav_song,top_100_ids,top_100)\n",
    "        return play_song(recommendation)\n",
    "    else:\n",
    "        #If song not hot...\n",
    "\n",
    "        # Get audio values for individual song\n",
    "        fav_song_audio_features=sp.audio_features(fav_song_spotify_id)\n",
    "        fsaf=get_fav_song_audio_features(fav_song_audio_features)\n",
    "        \n",
    "        #Get genre of fav song\n",
    "        fav_artist=sp.track(fav_song_spotify_id)['album']['artists'][0]['id']\n",
    "        try:\n",
    "            fav_genre=sp.artist(fav_artist)['genres'][0]\n",
    "        except:\n",
    "            fav_genre=\"none\"\n",
    "        \n",
    "        #Run through predict of k-means to get cluster #\n",
    "        scaler=load_pickle(\"Model/scaler12.pickle\")\n",
    "        kmeans=load_pickle(\"Model/kmeans12.pickle\")\n",
    "        fsaf_scaled=scaler.transform(fsaf)\n",
    "        fsaf_scaled_df = pd.DataFrame(fsaf_scaled, columns = fsaf.columns)\n",
    "        fav_song_cluster=kmeans.predict(fsaf_scaled_df)\n",
    "        #Load database of songs with clusters\n",
    "        song_database=pd.read_csv(\"Data\\songs_with_clusters12.csv\")\n",
    "\n",
    "        #Get sample from database\n",
    "        \n",
    "        #If we have genre for fav song, use that to filter list of samples.\n",
    "        #Otherwise, sample at random from cluster\n",
    "            \n",
    "        if (fav_genre!='none') and (song_database['genre'].loc[song_database['clusters']==fav_song_cluster[0]].isin([fav_genre]).any()==True):\n",
    "            song_database2=song_database.loc[(song_database['genre']==fav_genre)&(song_database['clusters']==fav_song_cluster[0])]\n",
    "            recommendation=song_database2.sample()\n",
    "            genre_active=True\n",
    "        else:\n",
    "            genre_active=False\n",
    "            recommendation=song_database[song_database['clusters']==fav_song_cluster[0]].sample()\n",
    "        rec_artist=recommendation['artist'].iat[0]\n",
    "        rec_song=recommendation['song_title'].iat[0]\n",
    "        print(\"...\")\n",
    "        if genre_active==True:\n",
    "            print(f\"You have some unique taste! A similar song from {fav_genre}: {rec_song} by {rec_artist}\")\n",
    "\n",
    "        else:\n",
    "            print(f\"You have some unique taste! Maybe you'll also like: {rec_song} by {rec_artist}\")\n",
    "        print(\"...\")\n",
    "\n",
    "        return play_song(recommendation['id'].iat[0])\n",
    "\n",
    "def get_fav_song_spotify_id(your_fav_song,artist_name):\n",
    "    fav_song_spotify=sp.search(q=\"track:\"+your_fav_song+\" artist:\"+artist_name,limit=5)\n",
    "    fav_song_spotify_id=fav_song_spotify['tracks']['items'][0]['id']\n",
    "    return fav_song_spotify_id"
   ]
  },
  {
   "cell_type": "markdown",
   "id": "5eb27cbe-987c-4d63-9ea3-6f3df088db94",
   "metadata": {},
   "source": [
    "# Main function"
   ]
  },
  {
   "cell_type": "code",
   "execution_count": null,
   "id": "74d3a483-9006-429e-9e2c-fbbe82d046e9",
   "metadata": {},
   "outputs": [],
   "source": []
  },
  {
   "cell_type": "code",
   "execution_count": 24,
   "id": "b1d69fbe-64c2-4431-b5ec-5a89ec963ce3",
   "metadata": {
    "tags": []
   },
   "outputs": [
    {
     "name": "stdin",
     "output_type": "stream",
     "text": [
      "Please share a song you enjoy to receive a recommendation! bad guy\n"
     ]
    },
    {
     "name": "stdout",
     "output_type": "stream",
     "text": [
      "There is more than one artist with a song title like Bad Guy\n",
      "Similar song titles are offered by the following artists: Bowling For Soup, Billie Eilish, Falling In Reverse\n",
      "...\n"
     ]
    },
    {
     "name": "stdin",
     "output_type": "stream",
     "text": [
      "Which artist is your song by? billie eilish\n"
     ]
    },
    {
     "ename": "KeyError",
     "evalue": "'genre'",
     "output_type": "error",
     "traceback": [
      "\u001b[1;31m---------------------------------------------------------------------------\u001b[0m",
      "\u001b[1;31mKeyError\u001b[0m                                  Traceback (most recent call last)",
      "File \u001b[1;32m~\\anaconda3\\envs\\DA_Env\\lib\\site-packages\\pandas\\core\\indexes\\base.py:3621\u001b[0m, in \u001b[0;36mIndex.get_loc\u001b[1;34m(self, key, method, tolerance)\u001b[0m\n\u001b[0;32m   3620\u001b[0m \u001b[38;5;28;01mtry\u001b[39;00m:\n\u001b[1;32m-> 3621\u001b[0m     \u001b[38;5;28;01mreturn\u001b[39;00m \u001b[38;5;28;43mself\u001b[39;49m\u001b[38;5;241;43m.\u001b[39;49m\u001b[43m_engine\u001b[49m\u001b[38;5;241;43m.\u001b[39;49m\u001b[43mget_loc\u001b[49m\u001b[43m(\u001b[49m\u001b[43mcasted_key\u001b[49m\u001b[43m)\u001b[49m\n\u001b[0;32m   3622\u001b[0m \u001b[38;5;28;01mexcept\u001b[39;00m \u001b[38;5;167;01mKeyError\u001b[39;00m \u001b[38;5;28;01mas\u001b[39;00m err:\n",
      "File \u001b[1;32m~\\anaconda3\\envs\\DA_Env\\lib\\site-packages\\pandas\\_libs\\index.pyx:136\u001b[0m, in \u001b[0;36mpandas._libs.index.IndexEngine.get_loc\u001b[1;34m()\u001b[0m\n",
      "File \u001b[1;32m~\\anaconda3\\envs\\DA_Env\\lib\\site-packages\\pandas\\_libs\\index.pyx:163\u001b[0m, in \u001b[0;36mpandas._libs.index.IndexEngine.get_loc\u001b[1;34m()\u001b[0m\n",
      "File \u001b[1;32mpandas\\_libs\\hashtable_class_helper.pxi:5198\u001b[0m, in \u001b[0;36mpandas._libs.hashtable.PyObjectHashTable.get_item\u001b[1;34m()\u001b[0m\n",
      "File \u001b[1;32mpandas\\_libs\\hashtable_class_helper.pxi:5206\u001b[0m, in \u001b[0;36mpandas._libs.hashtable.PyObjectHashTable.get_item\u001b[1;34m()\u001b[0m\n",
      "\u001b[1;31mKeyError\u001b[0m: 'genre'",
      "\nThe above exception was the direct cause of the following exception:\n",
      "\u001b[1;31mKeyError\u001b[0m                                  Traceback (most recent call last)",
      "Input \u001b[1;32mIn [24]\u001b[0m, in \u001b[0;36m<cell line: 13>\u001b[1;34m()\u001b[0m\n\u001b[0;32m     10\u001b[0m \u001b[38;5;66;03m#Get id for fav_song from spotify\u001b[39;00m\n\u001b[0;32m     11\u001b[0m fav_song_spotify_id\u001b[38;5;241m=\u001b[39mget_fav_song_spotify_id(your_fav_song,artist_name)\n\u001b[1;32m---> 13\u001b[0m \u001b[43mrecommender\u001b[49m\u001b[43m(\u001b[49m\u001b[43mfav_song_spotify_id\u001b[49m\u001b[43m)\u001b[49m\n",
      "Input \u001b[1;32mIn [23]\u001b[0m, in \u001b[0;36mrecommender\u001b[1;34m(fav_song_spotify_id)\u001b[0m\n\u001b[0;32m    135\u001b[0m song_database\u001b[38;5;241m=\u001b[39mpd\u001b[38;5;241m.\u001b[39mread_csv(\u001b[38;5;124m\"\u001b[39m\u001b[38;5;124mData\u001b[39m\u001b[38;5;124m\\\u001b[39m\u001b[38;5;124msongs_with_clusters12_no_genre.csv\u001b[39m\u001b[38;5;124m\"\u001b[39m)\n\u001b[0;32m    137\u001b[0m \u001b[38;5;66;03m#Get sample from database\u001b[39;00m\n\u001b[0;32m    138\u001b[0m \n\u001b[0;32m    139\u001b[0m \u001b[38;5;66;03m#If we have genre for fav song, use that to filter list of samples.\u001b[39;00m\n\u001b[0;32m    140\u001b[0m \u001b[38;5;66;03m#Otherwise, sample at random from cluster\u001b[39;00m\n\u001b[1;32m--> 142\u001b[0m \u001b[38;5;28;01mif\u001b[39;00m (fav_genre\u001b[38;5;241m!=\u001b[39m\u001b[38;5;124m'\u001b[39m\u001b[38;5;124mnone\u001b[39m\u001b[38;5;124m'\u001b[39m) \u001b[38;5;129;01mand\u001b[39;00m (\u001b[43msong_database\u001b[49m\u001b[43m[\u001b[49m\u001b[38;5;124;43m'\u001b[39;49m\u001b[38;5;124;43mgenre\u001b[39;49m\u001b[38;5;124;43m'\u001b[39;49m\u001b[43m]\u001b[49m\u001b[38;5;241m.\u001b[39mloc[song_database[\u001b[38;5;124m'\u001b[39m\u001b[38;5;124mclusters\u001b[39m\u001b[38;5;124m'\u001b[39m]\u001b[38;5;241m==\u001b[39mfav_song_cluster[\u001b[38;5;241m0\u001b[39m]]\u001b[38;5;241m.\u001b[39misin([fav_genre])\u001b[38;5;241m.\u001b[39many()\u001b[38;5;241m==\u001b[39m\u001b[38;5;28;01mTrue\u001b[39;00m):\n\u001b[0;32m    143\u001b[0m     song_database2\u001b[38;5;241m=\u001b[39msong_database\u001b[38;5;241m.\u001b[39mloc[(song_database[\u001b[38;5;124m'\u001b[39m\u001b[38;5;124mgenre\u001b[39m\u001b[38;5;124m'\u001b[39m]\u001b[38;5;241m==\u001b[39mfav_genre)\u001b[38;5;241m&\u001b[39m(song_database[\u001b[38;5;124m'\u001b[39m\u001b[38;5;124mclusters\u001b[39m\u001b[38;5;124m'\u001b[39m]\u001b[38;5;241m==\u001b[39mfav_song_cluster[\u001b[38;5;241m0\u001b[39m])]\n\u001b[0;32m    144\u001b[0m     recommendation\u001b[38;5;241m=\u001b[39msong_database2\u001b[38;5;241m.\u001b[39msample()\n",
      "File \u001b[1;32m~\\anaconda3\\envs\\DA_Env\\lib\\site-packages\\pandas\\core\\frame.py:3505\u001b[0m, in \u001b[0;36mDataFrame.__getitem__\u001b[1;34m(self, key)\u001b[0m\n\u001b[0;32m   3503\u001b[0m \u001b[38;5;28;01mif\u001b[39;00m \u001b[38;5;28mself\u001b[39m\u001b[38;5;241m.\u001b[39mcolumns\u001b[38;5;241m.\u001b[39mnlevels \u001b[38;5;241m>\u001b[39m \u001b[38;5;241m1\u001b[39m:\n\u001b[0;32m   3504\u001b[0m     \u001b[38;5;28;01mreturn\u001b[39;00m \u001b[38;5;28mself\u001b[39m\u001b[38;5;241m.\u001b[39m_getitem_multilevel(key)\n\u001b[1;32m-> 3505\u001b[0m indexer \u001b[38;5;241m=\u001b[39m \u001b[38;5;28;43mself\u001b[39;49m\u001b[38;5;241;43m.\u001b[39;49m\u001b[43mcolumns\u001b[49m\u001b[38;5;241;43m.\u001b[39;49m\u001b[43mget_loc\u001b[49m\u001b[43m(\u001b[49m\u001b[43mkey\u001b[49m\u001b[43m)\u001b[49m\n\u001b[0;32m   3506\u001b[0m \u001b[38;5;28;01mif\u001b[39;00m is_integer(indexer):\n\u001b[0;32m   3507\u001b[0m     indexer \u001b[38;5;241m=\u001b[39m [indexer]\n",
      "File \u001b[1;32m~\\anaconda3\\envs\\DA_Env\\lib\\site-packages\\pandas\\core\\indexes\\base.py:3623\u001b[0m, in \u001b[0;36mIndex.get_loc\u001b[1;34m(self, key, method, tolerance)\u001b[0m\n\u001b[0;32m   3621\u001b[0m     \u001b[38;5;28;01mreturn\u001b[39;00m \u001b[38;5;28mself\u001b[39m\u001b[38;5;241m.\u001b[39m_engine\u001b[38;5;241m.\u001b[39mget_loc(casted_key)\n\u001b[0;32m   3622\u001b[0m \u001b[38;5;28;01mexcept\u001b[39;00m \u001b[38;5;167;01mKeyError\u001b[39;00m \u001b[38;5;28;01mas\u001b[39;00m err:\n\u001b[1;32m-> 3623\u001b[0m     \u001b[38;5;28;01mraise\u001b[39;00m \u001b[38;5;167;01mKeyError\u001b[39;00m(key) \u001b[38;5;28;01mfrom\u001b[39;00m \u001b[38;5;21;01merr\u001b[39;00m\n\u001b[0;32m   3624\u001b[0m \u001b[38;5;28;01mexcept\u001b[39;00m \u001b[38;5;167;01mTypeError\u001b[39;00m:\n\u001b[0;32m   3625\u001b[0m     \u001b[38;5;66;03m# If we have a listlike key, _check_indexing_error will raise\u001b[39;00m\n\u001b[0;32m   3626\u001b[0m     \u001b[38;5;66;03m#  InvalidIndexError. Otherwise we fall through and re-raise\u001b[39;00m\n\u001b[0;32m   3627\u001b[0m     \u001b[38;5;66;03m#  the TypeError.\u001b[39;00m\n\u001b[0;32m   3628\u001b[0m     \u001b[38;5;28mself\u001b[39m\u001b[38;5;241m.\u001b[39m_check_indexing_error(key)\n",
      "\u001b[1;31mKeyError\u001b[0m: 'genre'"
     ]
    }
   ],
   "source": [
    "#Login to spotipy\n",
    "sp=spotipy_login()\n",
    "\n",
    "#Get user input\n",
    "your_fav_song=get_user_input()\n",
    "\n",
    "#Check if user song is unique, if not ask for clarification\n",
    "artist_name=check_duplicate_song_names(your_fav_song)\n",
    "\n",
    "#Get id for fav_song from spotify\n",
    "fav_song_spotify_id=get_fav_song_spotify_id(your_fav_song,artist_name)\n",
    "\n",
    "recommender(fav_song_spotify_id)"
   ]
  },
  {
   "cell_type": "code",
   "execution_count": 19,
   "id": "29788ea5-c2e2-4d74-a514-18dd8f5ec1d7",
   "metadata": {
    "tags": []
   },
   "outputs": [
    {
     "data": {
      "text/html": [
       "\n",
       "        <iframe\n",
       "            width=\"320\"\n",
       "            height=\"80\"\n",
       "            src=\"https://open.spotify.com/embed/track/2Fxmhks0bxGSBdJ92vM42m?frameborder=0&allowtransparency=true&allow=encrypted-media\"\n",
       "            frameborder=\"0\"\n",
       "            allowfullscreen\n",
       "            \n",
       "        ></iframe>\n",
       "        "
      ],
      "text/plain": [
       "<IPython.lib.display.IFrame at 0x28181074430>"
      ]
     },
     "execution_count": 19,
     "metadata": {},
     "output_type": "execute_result"
    }
   ],
   "source": [
    "play_song(fav_song_spotify_id)"
   ]
  },
  {
   "cell_type": "code",
   "execution_count": null,
   "id": "e81356c3-cc09-45ed-aa5e-d8d584afe5b2",
   "metadata": {},
   "outputs": [],
   "source": []
  }
 ],
 "metadata": {
  "kernelspec": {
   "display_name": "Python 3 (ipykernel)",
   "language": "python",
   "name": "python3"
  },
  "language_info": {
   "codemirror_mode": {
    "name": "ipython",
    "version": 3
   },
   "file_extension": ".py",
   "mimetype": "text/x-python",
   "name": "python",
   "nbconvert_exporter": "python",
   "pygments_lexer": "ipython3",
   "version": "3.9.12"
  },
  "toc-autonumbering": true,
  "toc-showcode": false,
  "toc-showmarkdowntxt": false
 },
 "nbformat": 4,
 "nbformat_minor": 5
}
