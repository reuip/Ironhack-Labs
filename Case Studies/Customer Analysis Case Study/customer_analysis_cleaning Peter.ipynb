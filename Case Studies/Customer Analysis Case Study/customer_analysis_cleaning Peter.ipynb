{
 "cells": [
  {
   "cell_type": "markdown",
   "id": "6a8c4346",
   "metadata": {},
   "source": [
    "# Customer Analysis Cleaning \n",
    "\n",
    "\n",
    "\n",
    "<i> You are working as an analyst for an auto insurance company. The company has collected some data about its customers including their demographics, education, employment, policy details, vehicle information on which insurance policy is, and claim amounts. You will help the senior management with some business questions that will help them to better understand their customers, improve their services, and improve profitability. </i>\n",
    "    \n",
    " **Notebook operations summary:**\n",
    " <p> We import three data files in cvs format and clean them. <br>\n",
    "     The cleaning process includes: </p>\n",
    "        - Renaming columns (to ensure consistent concatenation and eliminate column redundancy) <br>\n",
    "        - Replacing null data entries (zeros and nans) by mean values <br>\n",
    "        - Standardizing string entries <br>\n",
    "        - Removing duplicate records <br>\n",
    "\n",
    "        "
   ]
  },
  {
   "cell_type": "code",
   "execution_count": 1,
   "id": "3b7b3551",
   "metadata": {
    "run_control": {
     "marked": true
    }
   },
   "outputs": [],
   "source": [
    "import numpy as np\n",
    "import pandas as pd\n",
    "pd.options.display.max_rows = 100"
   ]
  },
  {
   "cell_type": "markdown",
   "id": "caf590b7",
   "metadata": {
    "heading_collapsed": true
   },
   "source": [
    "## Helper functions"
   ]
  },
  {
   "cell_type": "code",
   "execution_count": 2,
   "id": "da9eb8c4",
   "metadata": {
    "hidden": true
   },
   "outputs": [],
   "source": [
    "def col_rename(df, dict_rules, ip=True):\n",
    "    ''' rename columns in data frame using a dictionary of rules  '''\n",
    "    if isinstance(df,pd.core.frame.DataFrame) and isinstance(dict_rules,dict):\n",
    "        z = df.rename(columns = dict_rules, inplace=ip)\n",
    "    else:\n",
    "        raise TypeError\n",
    "    return z"
   ]
  },
  {
   "cell_type": "code",
   "execution_count": 3,
   "id": "e7af266d",
   "metadata": {
    "hidden": true
   },
   "outputs": [],
   "source": [
    "def print_unique(df,col):\n",
    "    ''' gives a list of unique values in a field '''\n",
    "    return df[col].unique()"
   ]
  },
  {
   "cell_type": "code",
   "execution_count": 4,
   "id": "5da505cc",
   "metadata": {
    "hidden": true
   },
   "outputs": [],
   "source": [
    "def fill_nans_with_means(df,col):\n",
    "    ''' fills nans in column with median '''\n",
    "    return df[col].fillna(c_df.income.mean()).round()"
   ]
  },
  {
   "cell_type": "code",
   "execution_count": 5,
   "id": "ec24b374",
   "metadata": {
    "hidden": true
   },
   "outputs": [],
   "source": [
    "def make_lower(df, col):\n",
    "    '''lower the case of record in a field '''\n",
    "    return df[col].str.lower()"
   ]
  },
  {
   "cell_type": "code",
   "execution_count": 6,
   "id": "6fd798a3",
   "metadata": {
    "hidden": true
   },
   "outputs": [],
   "source": [
    "def lower_case_column_names(df):\n",
    "    ''' make columns lower case '''\n",
    "    if isinstance(df,pd.core.frame.DataFrame):\n",
    "        df.columns=[i.lower() for i in df.columns]\n",
    "    else: \n",
    "        raise TypeError\n",
    "    return df"
   ]
  },
  {
   "cell_type": "code",
   "execution_count": 7,
   "id": "2c910002",
   "metadata": {
    "hidden": true
   },
   "outputs": [],
   "source": [
    "def strip_char(df,col,char):\n",
    "    ''' strips a char and rounds '''\n",
    "    return list(map(lambda x: round(float(x.strip(char))/100,2)\\\n",
    "                                          if type(x)==str else round((x/100),2),df[col]))"
   ]
  },
  {
   "cell_type": "code",
   "execution_count": 8,
   "id": "86a244ea",
   "metadata": {
    "hidden": true
   },
   "outputs": [],
   "source": [
    "def record_str_replace(df, col, dict_rules):\n",
    "    return df[col].replace(dict_rules) # additional replacement\n"
   ]
  },
  {
   "cell_type": "code",
   "execution_count": 9,
   "id": "e7822321",
   "metadata": {
    "hidden": true
   },
   "outputs": [],
   "source": [
    "def get_between_slash_and_join(df,col):\n",
    "    ''' returns middle entry in a string formatted by \"a/b/cc\" and avoids nans. \n",
    "        (Tailored to the vehicles data set)  '''\n",
    "    res  = list(\n",
    "              map(lambda x : int(x[2]) if type(x)==str else x, df[col])\n",
    "    )\n",
    "                \n",
    "    return res"
   ]
  },
  {
   "cell_type": "code",
   "execution_count": 10,
   "id": "322ccd5f",
   "metadata": {
    "hidden": true
   },
   "outputs": [],
   "source": [
    "def state(old_names, new_names):\n",
    "    ''' renames states '''\n",
    "    return c_df['st'].replace(old_names, new_names)"
   ]
  },
  {
   "cell_type": "code",
   "execution_count": null,
   "id": "a4b6ee90",
   "metadata": {
    "hidden": true
   },
   "outputs": [],
   "source": []
  },
  {
   "cell_type": "markdown",
   "id": "40ebdc94",
   "metadata": {
    "heading_collapsed": true
   },
   "source": [
    "## Data cleaning "
   ]
  },
  {
   "cell_type": "markdown",
   "id": "90d9b6a9",
   "metadata": {
    "hidden": true
   },
   "source": [
    "### Read in the data and examine columns"
   ]
  },
  {
   "cell_type": "code",
   "execution_count": 39,
   "id": "7acca452",
   "metadata": {
    "hidden": true
   },
   "outputs": [],
   "source": [
    "file1 = pd.read_csv('Data/file1.csv')\n",
    "file2 = pd.read_csv('Data/file2.csv')\n",
    "file3 = pd.read_csv('Data/file3.csv')"
   ]
  },
  {
   "cell_type": "code",
   "execution_count": 40,
   "id": "cf85a335",
   "metadata": {
    "hidden": true
   },
   "outputs": [
    {
     "data": {
      "text/plain": [
       "{'Customer',\n",
       " 'Customer Lifetime Value',\n",
       " 'Education',\n",
       " 'GENDER',\n",
       " 'Gender',\n",
       " 'Income',\n",
       " 'Monthly Premium Auto',\n",
       " 'Number of Open Complaints',\n",
       " 'Policy Type',\n",
       " 'ST',\n",
       " 'State',\n",
       " 'Total Claim Amount',\n",
       " 'Vehicle Class'}"
      ]
     },
     "execution_count": 40,
     "metadata": {},
     "output_type": "execute_result"
    }
   ],
   "source": [
    "a_ll_columns = set(list(file1.columns) + list(file2.columns) + list(file3.columns))\n",
    "a_ll_columns"
   ]
  },
  {
   "cell_type": "code",
   "execution_count": 35,
   "id": "74e57967",
   "metadata": {
    "hidden": true
   },
   "outputs": [
    {
     "data": {
      "text/plain": [
       "['customer',\n",
       " 'st',\n",
       " 'gender',\n",
       " 'education',\n",
       " 'customer lifetime value',\n",
       " 'income',\n",
       " 'monthly premium auto',\n",
       " 'number of open complaints',\n",
       " 'policy type',\n",
       " 'vehicle class',\n",
       " 'total claim amount']"
      ]
     },
     "execution_count": 35,
     "metadata": {},
     "output_type": "execute_result"
    }
   ],
   "source": [
    "list(file1.columns)"
   ]
  },
  {
   "cell_type": "code",
   "execution_count": 31,
   "id": "ac4254b4",
   "metadata": {
    "hidden": true
   },
   "outputs": [
    {
     "data": {
      "text/plain": [
       "Index(['customer', 'st', 'gender', 'education', 'customer lifetime value',\n",
       "       'income', 'monthly premium auto', 'number of open complaints',\n",
       "       'total claim amount', 'policy type', 'vehicle class'],\n",
       "      dtype='object')"
      ]
     },
     "execution_count": 31,
     "metadata": {},
     "output_type": "execute_result"
    }
   ],
   "source": [
    "file2.columns"
   ]
  },
  {
   "cell_type": "code",
   "execution_count": 14,
   "id": "a86e962c",
   "metadata": {
    "hidden": true
   },
   "outputs": [
    {
     "data": {
      "text/plain": [
       "Index(['Customer', 'State', 'Customer Lifetime Value', 'Education', 'Gender',\n",
       "       'Income', 'Monthly Premium Auto', 'Number of Open Complaints',\n",
       "       'Policy Type', 'Total Claim Amount', 'Vehicle Class'],\n",
       "      dtype='object')"
      ]
     },
     "execution_count": 14,
     "metadata": {},
     "output_type": "execute_result"
    }
   ],
   "source": [
    "file3.columns"
   ]
  },
  {
   "cell_type": "code",
   "execution_count": 15,
   "id": "0b4f702f",
   "metadata": {
    "hidden": true
   },
   "outputs": [],
   "source": [
    "# rename State to ST before concat to avoid redundant columns\n",
    "col_rename(file3, {'State': 'ST'}) "
   ]
  },
  {
   "cell_type": "code",
   "execution_count": 16,
   "id": "b1935f62",
   "metadata": {
    "hidden": true
   },
   "outputs": [
    {
     "name": "stdout",
     "output_type": "stream",
     "text": [
      "<class 'pandas.core.frame.DataFrame'>\n",
      "Int64Index: 12074 entries, 0 to 7069\n",
      "Data columns (total 10 columns):\n",
      " #   Column                     Non-Null Count  Dtype  \n",
      "---  ------                     --------------  -----  \n",
      " 0   st                         9137 non-null   object \n",
      " 1   gender                     9015 non-null   object \n",
      " 2   education                  9137 non-null   object \n",
      " 3   customer lifetime value    9130 non-null   object \n",
      " 4   income                     9137 non-null   float64\n",
      " 5   monthly premium auto       9137 non-null   float64\n",
      " 6   number of open complaints  9137 non-null   object \n",
      " 7   policy type                9137 non-null   object \n",
      " 8   vehicle class              9137 non-null   object \n",
      " 9   total claim amount         9137 non-null   float64\n",
      "dtypes: float64(3), object(7)\n",
      "memory usage: 1.0+ MB\n"
     ]
    }
   ],
   "source": [
    "files = [file1,file2,file3]\n",
    "files = list(map(lower_case_column_names,files)) # make the headers lowercase\n",
    "c_df  = pd.concat(files) # concat the data into a pandas frame\n",
    "c_df  = c_df.drop(labels=['customer'], axis=1) # drop customer label\n",
    "c_df.info()"
   ]
  },
  {
   "cell_type": "code",
   "execution_count": 17,
   "id": "ef4e4686",
   "metadata": {
    "hidden": true
   },
   "outputs": [
    {
     "data": {
      "text/plain": [
       "[nan, 'F', 'M', 'Femal', 'Male', 'female']"
      ]
     },
     "execution_count": 17,
     "metadata": {},
     "output_type": "execute_result"
    }
   ],
   "source": [
    "gender_old = print_unique(c_df,'gender')\n",
    "gender_old = list(gender_old)\n",
    "gender_old"
   ]
  },
  {
   "cell_type": "code",
   "execution_count": 18,
   "id": "d5d91011",
   "metadata": {
    "hidden": true
   },
   "outputs": [
    {
     "data": {
      "text/plain": [
       "array(['U', 'F', 'M'], dtype=object)"
      ]
     },
     "execution_count": 18,
     "metadata": {},
     "output_type": "execute_result"
    }
   ],
   "source": [
    "gender_new = ['U','F','M','F','M','F']\n",
    "gender_replace_rules = dict(zip(gender_old,gender_new))\n",
    "c_df['gender']=record_str_replace(c_df,'gender',gender_replace_rules)\n",
    "print_unique(c_df,'gender')"
   ]
  },
  {
   "cell_type": "code",
   "execution_count": 19,
   "id": "da4c1156",
   "metadata": {
    "hidden": true
   },
   "outputs": [
    {
     "data": {
      "text/plain": [
       "['Washington',\n",
       " 'Arizona',\n",
       " 'Nevada',\n",
       " 'California',\n",
       " 'Oregon',\n",
       " 'Cali',\n",
       " 'AZ',\n",
       " 'WA',\n",
       " nan]"
      ]
     },
     "execution_count": 19,
     "metadata": {},
     "output_type": "execute_result"
    }
   ],
   "source": [
    "state_old = print_unique(c_df,'st')\n",
    "state_old = list(state_old)\n",
    "state_old"
   ]
  },
  {
   "cell_type": "code",
   "execution_count": 20,
   "id": "c9556a6a",
   "metadata": {
    "hidden": true
   },
   "outputs": [
    {
     "data": {
      "text/plain": [
       "array(['Washington', 'Arizona', 'Nevada', 'California', 'Oregon',\n",
       "       'Unknown'], dtype=object)"
      ]
     },
     "execution_count": 20,
     "metadata": {},
     "output_type": "execute_result"
    }
   ],
   "source": [
    "state_new = ['Washington',\n",
    " 'Arizona',\n",
    " 'Nevada',\n",
    " 'California',\n",
    " 'Oregon',\n",
    " 'California',\n",
    " 'Arizona',\n",
    " 'Washington', 'Unknown']\n",
    "state_replace_rules = dict(zip(state_old,state_new))\n",
    "c_df['st']=record_str_replace(c_df,'st',state_replace_rules)\n",
    "print_unique(c_df,'st')"
   ]
  },
  {
   "cell_type": "code",
   "execution_count": null,
   "id": "36acc4ce",
   "metadata": {
    "hidden": true
   },
   "outputs": [],
   "source": []
  },
  {
   "cell_type": "code",
   "execution_count": 21,
   "id": "198f2488",
   "metadata": {
    "hidden": true
   },
   "outputs": [
    {
     "data": {
      "text/plain": [
       "array([ 0.,  2.,  1.,  3.,  5.,  4., nan])"
      ]
     },
     "execution_count": 21,
     "metadata": {},
     "output_type": "execute_result"
    }
   ],
   "source": [
    "c_df['number of open complaints'] = get_between_slash_and_join(c_df,'number of open complaints')\n",
    "print_unique(c_df,'number of open complaints')"
   ]
  },
  {
   "cell_type": "code",
   "execution_count": null,
   "id": "61bf267c",
   "metadata": {
    "hidden": true
   },
   "outputs": [],
   "source": []
  },
  {
   "cell_type": "code",
   "execution_count": null,
   "id": "b4367a65",
   "metadata": {
    "hidden": true
   },
   "outputs": [],
   "source": []
  },
  {
   "cell_type": "code",
   "execution_count": 22,
   "id": "a048fdbe",
   "metadata": {
    "hidden": true
   },
   "outputs": [],
   "source": [
    "c_df['customer lifetime value'] = strip_char(c_df,'customer lifetime value','%')\n"
   ]
  },
  {
   "cell_type": "code",
   "execution_count": 25,
   "id": "86ae945b",
   "metadata": {
    "hidden": true
   },
   "outputs": [],
   "source": [
    "c_df['customer lifetime value'] = fill_nans_with_means(c_df,'customer lifetime value').apply(round)\n",
    "c_df['total claim amount']      = fill_nans_with_means(c_df,'total claim amount').apply(round)\n",
    "c_df['monthly premium auto']    = fill_nans_with_means(c_df,'monthly premium auto').apply(round)\n",
    "c_df['income']                  = fill_nans_with_means(c_df,'income').apply(round)"
   ]
  },
  {
   "cell_type": "code",
   "execution_count": 26,
   "id": "e7a18009",
   "metadata": {
    "hidden": true
   },
   "outputs": [],
   "source": [
    "c_df.income = c_df.income.replace(0, c_df.income.mean()).round(0).astype(int)"
   ]
  },
  {
   "cell_type": "code",
   "execution_count": null,
   "id": "85191bef",
   "metadata": {
    "hidden": true
   },
   "outputs": [],
   "source": []
  },
  {
   "cell_type": "code",
   "execution_count": 27,
   "id": "07ecb44e",
   "metadata": {
    "hidden": true
   },
   "outputs": [
    {
     "data": {
      "text/html": [
       "<div>\n",
       "<style scoped>\n",
       "    .dataframe tbody tr th:only-of-type {\n",
       "        vertical-align: middle;\n",
       "    }\n",
       "\n",
       "    .dataframe tbody tr th {\n",
       "        vertical-align: top;\n",
       "    }\n",
       "\n",
       "    .dataframe thead th {\n",
       "        text-align: right;\n",
       "    }\n",
       "</style>\n",
       "<table border=\"1\" class=\"dataframe\">\n",
       "  <thead>\n",
       "    <tr style=\"text-align: right;\">\n",
       "      <th></th>\n",
       "      <th>st</th>\n",
       "      <th>gender</th>\n",
       "      <th>education</th>\n",
       "      <th>customer lifetime value</th>\n",
       "      <th>income</th>\n",
       "      <th>monthly premium auto</th>\n",
       "      <th>number of open complaints</th>\n",
       "      <th>policy type</th>\n",
       "      <th>vehicle class</th>\n",
       "      <th>total claim amount</th>\n",
       "    </tr>\n",
       "  </thead>\n",
       "  <tbody>\n",
       "    <tr>\n",
       "      <th>0</th>\n",
       "      <td>Washington</td>\n",
       "      <td>U</td>\n",
       "      <td>Master</td>\n",
       "      <td>37829</td>\n",
       "      <td>37829</td>\n",
       "      <td>1000</td>\n",
       "      <td>0.0</td>\n",
       "      <td>Personal Auto</td>\n",
       "      <td>Four-Door Car</td>\n",
       "      <td>3</td>\n",
       "    </tr>\n",
       "    <tr>\n",
       "      <th>1</th>\n",
       "      <td>Arizona</td>\n",
       "      <td>F</td>\n",
       "      <td>Bachelor</td>\n",
       "      <td>6980</td>\n",
       "      <td>37829</td>\n",
       "      <td>94</td>\n",
       "      <td>0.0</td>\n",
       "      <td>Personal Auto</td>\n",
       "      <td>Four-Door Car</td>\n",
       "      <td>1131</td>\n",
       "    </tr>\n",
       "    <tr>\n",
       "      <th>2</th>\n",
       "      <td>Nevada</td>\n",
       "      <td>F</td>\n",
       "      <td>Bachelor</td>\n",
       "      <td>12887</td>\n",
       "      <td>48767</td>\n",
       "      <td>108</td>\n",
       "      <td>0.0</td>\n",
       "      <td>Personal Auto</td>\n",
       "      <td>Two-Door Car</td>\n",
       "      <td>566</td>\n",
       "    </tr>\n",
       "    <tr>\n",
       "      <th>3</th>\n",
       "      <td>California</td>\n",
       "      <td>M</td>\n",
       "      <td>Bachelor</td>\n",
       "      <td>7646</td>\n",
       "      <td>37829</td>\n",
       "      <td>106</td>\n",
       "      <td>0.0</td>\n",
       "      <td>Corporate Auto</td>\n",
       "      <td>SUV</td>\n",
       "      <td>530</td>\n",
       "    </tr>\n",
       "    <tr>\n",
       "      <th>4</th>\n",
       "      <td>Washington</td>\n",
       "      <td>M</td>\n",
       "      <td>High School or Below</td>\n",
       "      <td>5363</td>\n",
       "      <td>36357</td>\n",
       "      <td>68</td>\n",
       "      <td>0.0</td>\n",
       "      <td>Personal Auto</td>\n",
       "      <td>Four-Door Car</td>\n",
       "      <td>17</td>\n",
       "    </tr>\n",
       "    <tr>\n",
       "      <th>5</th>\n",
       "      <td>Oregon</td>\n",
       "      <td>F</td>\n",
       "      <td>Bachelor</td>\n",
       "      <td>8256</td>\n",
       "      <td>62902</td>\n",
       "      <td>69</td>\n",
       "      <td>0.0</td>\n",
       "      <td>Personal Auto</td>\n",
       "      <td>Two-Door Car</td>\n",
       "      <td>159</td>\n",
       "    </tr>\n",
       "    <tr>\n",
       "      <th>6</th>\n",
       "      <td>Oregon</td>\n",
       "      <td>F</td>\n",
       "      <td>College</td>\n",
       "      <td>5381</td>\n",
       "      <td>55350</td>\n",
       "      <td>67</td>\n",
       "      <td>0.0</td>\n",
       "      <td>Corporate Auto</td>\n",
       "      <td>Four-Door Car</td>\n",
       "      <td>322</td>\n",
       "    </tr>\n",
       "    <tr>\n",
       "      <th>7</th>\n",
       "      <td>Arizona</td>\n",
       "      <td>M</td>\n",
       "      <td>Master</td>\n",
       "      <td>7216</td>\n",
       "      <td>37829</td>\n",
       "      <td>101</td>\n",
       "      <td>0.0</td>\n",
       "      <td>Corporate Auto</td>\n",
       "      <td>Four-Door Car</td>\n",
       "      <td>363</td>\n",
       "    </tr>\n",
       "    <tr>\n",
       "      <th>8</th>\n",
       "      <td>Oregon</td>\n",
       "      <td>M</td>\n",
       "      <td>Bachelor</td>\n",
       "      <td>24128</td>\n",
       "      <td>14072</td>\n",
       "      <td>71</td>\n",
       "      <td>0.0</td>\n",
       "      <td>Corporate Auto</td>\n",
       "      <td>Four-Door Car</td>\n",
       "      <td>511</td>\n",
       "    </tr>\n",
       "    <tr>\n",
       "      <th>9</th>\n",
       "      <td>Oregon</td>\n",
       "      <td>F</td>\n",
       "      <td>College</td>\n",
       "      <td>7388</td>\n",
       "      <td>28812</td>\n",
       "      <td>93</td>\n",
       "      <td>0.0</td>\n",
       "      <td>Special Auto</td>\n",
       "      <td>Four-Door Car</td>\n",
       "      <td>426</td>\n",
       "    </tr>\n",
       "  </tbody>\n",
       "</table>\n",
       "</div>"
      ],
      "text/plain": [
       "           st gender             education  customer lifetime value  income  \\\n",
       "0  Washington      U                Master                    37829   37829   \n",
       "1     Arizona      F              Bachelor                     6980   37829   \n",
       "2      Nevada      F              Bachelor                    12887   48767   \n",
       "3  California      M              Bachelor                     7646   37829   \n",
       "4  Washington      M  High School or Below                     5363   36357   \n",
       "5      Oregon      F              Bachelor                     8256   62902   \n",
       "6      Oregon      F               College                     5381   55350   \n",
       "7     Arizona      M                Master                     7216   37829   \n",
       "8      Oregon      M              Bachelor                    24128   14072   \n",
       "9      Oregon      F               College                     7388   28812   \n",
       "\n",
       "   monthly premium auto  number of open complaints     policy type  \\\n",
       "0                  1000                        0.0   Personal Auto   \n",
       "1                    94                        0.0   Personal Auto   \n",
       "2                   108                        0.0   Personal Auto   \n",
       "3                   106                        0.0  Corporate Auto   \n",
       "4                    68                        0.0   Personal Auto   \n",
       "5                    69                        0.0   Personal Auto   \n",
       "6                    67                        0.0  Corporate Auto   \n",
       "7                   101                        0.0  Corporate Auto   \n",
       "8                    71                        0.0  Corporate Auto   \n",
       "9                    93                        0.0    Special Auto   \n",
       "\n",
       "   vehicle class  total claim amount  \n",
       "0  Four-Door Car                   3  \n",
       "1  Four-Door Car                1131  \n",
       "2   Two-Door Car                 566  \n",
       "3            SUV                 530  \n",
       "4  Four-Door Car                  17  \n",
       "5   Two-Door Car                 159  \n",
       "6  Four-Door Car                 322  \n",
       "7  Four-Door Car                 363  \n",
       "8  Four-Door Car                 511  \n",
       "9  Four-Door Car                 426  "
      ]
     },
     "execution_count": 27,
     "metadata": {},
     "output_type": "execute_result"
    }
   ],
   "source": [
    "c_df.head(10)"
   ]
  },
  {
   "cell_type": "code",
   "execution_count": null,
   "id": "ec4dbf92",
   "metadata": {
    "hidden": true
   },
   "outputs": [],
   "source": []
  },
  {
   "cell_type": "code",
   "execution_count": 28,
   "id": "12275827",
   "metadata": {
    "hidden": true
   },
   "outputs": [
    {
     "data": {
      "text/html": [
       "<div>\n",
       "<style scoped>\n",
       "    .dataframe tbody tr th:only-of-type {\n",
       "        vertical-align: middle;\n",
       "    }\n",
       "\n",
       "    .dataframe tbody tr th {\n",
       "        vertical-align: top;\n",
       "    }\n",
       "\n",
       "    .dataframe thead th {\n",
       "        text-align: right;\n",
       "    }\n",
       "</style>\n",
       "<table border=\"1\" class=\"dataframe\">\n",
       "  <thead>\n",
       "    <tr style=\"text-align: right;\">\n",
       "      <th></th>\n",
       "      <th>st</th>\n",
       "      <th>gender</th>\n",
       "      <th>education</th>\n",
       "      <th>customer lifetime value</th>\n",
       "      <th>income</th>\n",
       "      <th>monthly premium auto</th>\n",
       "      <th>number of open complaints</th>\n",
       "      <th>policy type</th>\n",
       "      <th>vehicle class</th>\n",
       "      <th>total claim amount</th>\n",
       "    </tr>\n",
       "  </thead>\n",
       "  <tbody>\n",
       "    <tr>\n",
       "      <th>0</th>\n",
       "      <td>Washington</td>\n",
       "      <td>U</td>\n",
       "      <td>Master</td>\n",
       "      <td>37829</td>\n",
       "      <td>37829</td>\n",
       "      <td>1000</td>\n",
       "      <td>0.0</td>\n",
       "      <td>Personal Auto</td>\n",
       "      <td>Four-Door Car</td>\n",
       "      <td>3</td>\n",
       "    </tr>\n",
       "    <tr>\n",
       "      <th>1</th>\n",
       "      <td>Arizona</td>\n",
       "      <td>F</td>\n",
       "      <td>Bachelor</td>\n",
       "      <td>6980</td>\n",
       "      <td>37829</td>\n",
       "      <td>94</td>\n",
       "      <td>0.0</td>\n",
       "      <td>Personal Auto</td>\n",
       "      <td>Four-Door Car</td>\n",
       "      <td>1131</td>\n",
       "    </tr>\n",
       "    <tr>\n",
       "      <th>2</th>\n",
       "      <td>Nevada</td>\n",
       "      <td>F</td>\n",
       "      <td>Bachelor</td>\n",
       "      <td>12887</td>\n",
       "      <td>48767</td>\n",
       "      <td>108</td>\n",
       "      <td>0.0</td>\n",
       "      <td>Personal Auto</td>\n",
       "      <td>Two-Door Car</td>\n",
       "      <td>566</td>\n",
       "    </tr>\n",
       "    <tr>\n",
       "      <th>3</th>\n",
       "      <td>California</td>\n",
       "      <td>M</td>\n",
       "      <td>Bachelor</td>\n",
       "      <td>7646</td>\n",
       "      <td>37829</td>\n",
       "      <td>106</td>\n",
       "      <td>0.0</td>\n",
       "      <td>Corporate Auto</td>\n",
       "      <td>SUV</td>\n",
       "      <td>530</td>\n",
       "    </tr>\n",
       "    <tr>\n",
       "      <th>4</th>\n",
       "      <td>Washington</td>\n",
       "      <td>M</td>\n",
       "      <td>High School or Below</td>\n",
       "      <td>5363</td>\n",
       "      <td>36357</td>\n",
       "      <td>68</td>\n",
       "      <td>0.0</td>\n",
       "      <td>Personal Auto</td>\n",
       "      <td>Four-Door Car</td>\n",
       "      <td>17</td>\n",
       "    </tr>\n",
       "    <tr>\n",
       "      <th>...</th>\n",
       "      <td>...</td>\n",
       "      <td>...</td>\n",
       "      <td>...</td>\n",
       "      <td>...</td>\n",
       "      <td>...</td>\n",
       "      <td>...</td>\n",
       "      <td>...</td>\n",
       "      <td>...</td>\n",
       "      <td>...</td>\n",
       "      <td>...</td>\n",
       "    </tr>\n",
       "    <tr>\n",
       "      <th>7065</th>\n",
       "      <td>California</td>\n",
       "      <td>M</td>\n",
       "      <td>Bachelor</td>\n",
       "      <td>234</td>\n",
       "      <td>71941</td>\n",
       "      <td>73</td>\n",
       "      <td>0.0</td>\n",
       "      <td>Personal Auto</td>\n",
       "      <td>Four-Door Car</td>\n",
       "      <td>198</td>\n",
       "    </tr>\n",
       "    <tr>\n",
       "      <th>7066</th>\n",
       "      <td>California</td>\n",
       "      <td>F</td>\n",
       "      <td>College</td>\n",
       "      <td>31</td>\n",
       "      <td>21604</td>\n",
       "      <td>79</td>\n",
       "      <td>0.0</td>\n",
       "      <td>Corporate Auto</td>\n",
       "      <td>Four-Door Car</td>\n",
       "      <td>379</td>\n",
       "    </tr>\n",
       "    <tr>\n",
       "      <th>7067</th>\n",
       "      <td>California</td>\n",
       "      <td>M</td>\n",
       "      <td>Bachelor</td>\n",
       "      <td>82</td>\n",
       "      <td>37829</td>\n",
       "      <td>85</td>\n",
       "      <td>3.0</td>\n",
       "      <td>Corporate Auto</td>\n",
       "      <td>Four-Door Car</td>\n",
       "      <td>791</td>\n",
       "    </tr>\n",
       "    <tr>\n",
       "      <th>7068</th>\n",
       "      <td>California</td>\n",
       "      <td>M</td>\n",
       "      <td>College</td>\n",
       "      <td>75</td>\n",
       "      <td>21941</td>\n",
       "      <td>96</td>\n",
       "      <td>0.0</td>\n",
       "      <td>Personal Auto</td>\n",
       "      <td>Four-Door Car</td>\n",
       "      <td>691</td>\n",
       "    </tr>\n",
       "    <tr>\n",
       "      <th>7069</th>\n",
       "      <td>California</td>\n",
       "      <td>M</td>\n",
       "      <td>College</td>\n",
       "      <td>26</td>\n",
       "      <td>37829</td>\n",
       "      <td>77</td>\n",
       "      <td>0.0</td>\n",
       "      <td>Corporate Auto</td>\n",
       "      <td>Two-Door Car</td>\n",
       "      <td>370</td>\n",
       "    </tr>\n",
       "  </tbody>\n",
       "</table>\n",
       "<p>12074 rows × 10 columns</p>\n",
       "</div>"
      ],
      "text/plain": [
       "              st gender             education  customer lifetime value  \\\n",
       "0     Washington      U                Master                    37829   \n",
       "1        Arizona      F              Bachelor                     6980   \n",
       "2         Nevada      F              Bachelor                    12887   \n",
       "3     California      M              Bachelor                     7646   \n",
       "4     Washington      M  High School or Below                     5363   \n",
       "...          ...    ...                   ...                      ...   \n",
       "7065  California      M              Bachelor                      234   \n",
       "7066  California      F               College                       31   \n",
       "7067  California      M              Bachelor                       82   \n",
       "7068  California      M               College                       75   \n",
       "7069  California      M               College                       26   \n",
       "\n",
       "      income  monthly premium auto  number of open complaints     policy type  \\\n",
       "0      37829                  1000                        0.0   Personal Auto   \n",
       "1      37829                    94                        0.0   Personal Auto   \n",
       "2      48767                   108                        0.0   Personal Auto   \n",
       "3      37829                   106                        0.0  Corporate Auto   \n",
       "4      36357                    68                        0.0   Personal Auto   \n",
       "...      ...                   ...                        ...             ...   \n",
       "7065   71941                    73                        0.0   Personal Auto   \n",
       "7066   21604                    79                        0.0  Corporate Auto   \n",
       "7067   37829                    85                        3.0  Corporate Auto   \n",
       "7068   21941                    96                        0.0   Personal Auto   \n",
       "7069   37829                    77                        0.0  Corporate Auto   \n",
       "\n",
       "      vehicle class  total claim amount  \n",
       "0     Four-Door Car                   3  \n",
       "1     Four-Door Car                1131  \n",
       "2      Two-Door Car                 566  \n",
       "3               SUV                 530  \n",
       "4     Four-Door Car                  17  \n",
       "...             ...                 ...  \n",
       "7065  Four-Door Car                 198  \n",
       "7066  Four-Door Car                 379  \n",
       "7067  Four-Door Car                 791  \n",
       "7068  Four-Door Car                 691  \n",
       "7069   Two-Door Car                 370  \n",
       "\n",
       "[12074 rows x 10 columns]"
      ]
     },
     "execution_count": 28,
     "metadata": {},
     "output_type": "execute_result"
    }
   ],
   "source": [
    "old_st = ['CA', 'WA', 'OR', 'AZ', 'NV'] \n",
    "new_st = ['West Region', 'East Region', 'Northeast Region', 'Central', 'Central']\n",
    "c_df['st'] = state(old_st,new_st)\n",
    "c_df"
   ]
  },
  {
   "cell_type": "code",
   "execution_count": null,
   "id": "9adb729b",
   "metadata": {
    "hidden": true
   },
   "outputs": [],
   "source": []
  }
 ],
 "metadata": {
  "kernelspec": {
   "display_name": "Python 3 (ipykernel)",
   "language": "python",
   "name": "python3"
  },
  "language_info": {
   "codemirror_mode": {
    "name": "ipython",
    "version": 3
   },
   "file_extension": ".py",
   "mimetype": "text/x-python",
   "name": "python",
   "nbconvert_exporter": "python",
   "pygments_lexer": "ipython3",
   "version": "3.9.13"
  },
  "toc": {
   "base_numbering": 1,
   "nav_menu": {},
   "number_sections": true,
   "sideBar": true,
   "skip_h1_title": false,
   "title_cell": "Table of Contents",
   "title_sidebar": "Contents",
   "toc_cell": false,
   "toc_position": {},
   "toc_section_display": true,
   "toc_window_display": false
  },
  "varInspector": {
   "cols": {
    "lenName": 16,
    "lenType": 16,
    "lenVar": 40
   },
   "kernels_config": {
    "python": {
     "delete_cmd_postfix": "",
     "delete_cmd_prefix": "del ",
     "library": "var_list.py",
     "varRefreshCmd": "print(var_dic_list())"
    },
    "r": {
     "delete_cmd_postfix": ") ",
     "delete_cmd_prefix": "rm(",
     "library": "var_list.r",
     "varRefreshCmd": "cat(var_dic_list()) "
    }
   },
   "types_to_exclude": [
    "module",
    "function",
    "builtin_function_or_method",
    "instance",
    "_Feature"
   ],
   "window_display": false
  }
 },
 "nbformat": 4,
 "nbformat_minor": 5
}
