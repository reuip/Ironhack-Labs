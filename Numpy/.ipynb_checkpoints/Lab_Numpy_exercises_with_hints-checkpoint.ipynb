{
 "cells": [
  {
   "cell_type": "code",
   "execution_count": 1,
   "id": "f2d7784d",
   "metadata": {},
   "outputs": [],
   "source": [
    "#### 1. Import the numpy package under the name #np# (★☆☆)\n",
    "#hint: import … as#\n",
    "import numpy as np"
   ]
  },
  {
   "cell_type": "code",
   "execution_count": 2,
   "id": "d3a4e6cf",
   "metadata": {},
   "outputs": [
    {
     "data": {
      "text/plain": [
       "array([0., 0., 0., 0., 0., 0., 0., 0., 0., 0.])"
      ]
     },
     "execution_count": 2,
     "metadata": {},
     "output_type": "execute_result"
    }
   ],
   "source": [
    "#### 2. Create a null vector of size 10 (★☆☆)\n",
    "#hint: np.zeros#\n",
    "\n",
    "zero_vector=np.zeros(10)\n",
    "zero_vector"
   ]
  },
  {
   "cell_type": "code",
   "execution_count": 3,
   "id": "04bda958",
   "metadata": {},
   "outputs": [
    {
     "data": {
      "text/plain": [
       "array([0., 0., 0., 0., 1., 0., 0., 0., 0., 0.])"
      ]
     },
     "execution_count": 3,
     "metadata": {},
     "output_type": "execute_result"
    }
   ],
   "source": [
    "#### 3. Create a null vector of size 10 but the fifth value which is 1 (★☆☆)\n",
    "#hint: array[4]#\n",
    "\n",
    "zero_vector[4]=1\n",
    "zero_vector"
   ]
  },
  {
   "cell_type": "code",
   "execution_count": 4,
   "id": "cf6801a5",
   "metadata": {},
   "outputs": [
    {
     "data": {
      "text/plain": [
       "array([10, 11, 12, 13, 14, 15, 16, 17, 18, 19, 20, 21, 22, 23, 24, 25, 26,\n",
       "       27, 28, 29, 30, 31, 32, 33, 34, 35, 36, 37, 38, 39, 40, 41, 42, 43,\n",
       "       44, 45, 46, 47, 48, 49])"
      ]
     },
     "execution_count": 4,
     "metadata": {},
     "output_type": "execute_result"
    }
   ],
   "source": [
    "#### 4. Create a vector with values ranging from 10 to 49 (★☆☆)\n",
    "#hint: arange#\n",
    "large_vector=np.arange(10,50)\n",
    "large_vector"
   ]
  },
  {
   "cell_type": "code",
   "execution_count": 5,
   "id": "a81a8b01",
   "metadata": {},
   "outputs": [
    {
     "data": {
      "text/plain": [
       "array([[0, 1, 2],\n",
       "       [3, 4, 5],\n",
       "       [6, 7, 8]])"
      ]
     },
     "execution_count": 5,
     "metadata": {},
     "output_type": "execute_result"
    }
   ],
   "source": [
    "#### 5. Create a 3x3 matrix with values ranging from 0 to 8 (★☆☆)\n",
    "#hint: reshape#\n",
    "vector_eight=np.arange(0,9).reshape(3,3)\n",
    "vector_eight"
   ]
  },
  {
   "cell_type": "code",
   "execution_count": 6,
   "id": "7df254b5",
   "metadata": {},
   "outputs": [
    {
     "data": {
      "text/plain": [
       "(array([0, 1, 4], dtype=int64),)"
      ]
     },
     "execution_count": 6,
     "metadata": {},
     "output_type": "execute_result"
    }
   ],
   "source": [
    "#### 6. Find indices of non-zero elements from [1,2,0,0,4,0] (★☆☆)\n",
    "#hint: np.nonzero#\n",
    "new_vector=np.array([1,2,0,0,4,0])\n",
    "np.nonzero(new_vector)"
   ]
  },
  {
   "cell_type": "code",
   "execution_count": 7,
   "id": "47840d15",
   "metadata": {},
   "outputs": [
    {
     "data": {
      "text/plain": [
       "array([[1., 0., 0.],\n",
       "       [0., 1., 0.],\n",
       "       [0., 0., 1.]])"
      ]
     },
     "execution_count": 7,
     "metadata": {},
     "output_type": "execute_result"
    }
   ],
   "source": [
    "#### 7. Create a 3x3 identity matrix (★☆☆)\n",
    "#hint: np.eye#\n",
    "identity_matrix=np.eye(3,3)\n",
    "identity_matrix"
   ]
  },
  {
   "cell_type": "code",
   "execution_count": 8,
   "id": "79e2e95d",
   "metadata": {},
   "outputs": [
    {
     "data": {
      "text/plain": [
       "array([[[0.90392228, 0.09653897, 0.46777663],\n",
       "        [0.59903294, 0.8972823 , 0.50050752],\n",
       "        [0.37045714, 0.36445042, 0.33342696]],\n",
       "\n",
       "       [[0.29723994, 0.27852604, 0.39059635],\n",
       "        [0.34624669, 0.86959439, 0.5026915 ],\n",
       "        [0.30159457, 0.76447224, 0.3485583 ]],\n",
       "\n",
       "       [[0.79368948, 0.43546733, 0.1753088 ],\n",
       "        [0.1152481 , 0.1684191 , 0.28497682],\n",
       "        [0.79044714, 0.83298124, 0.99224528]]])"
      ]
     },
     "execution_count": 8,
     "metadata": {},
     "output_type": "execute_result"
    }
   ],
   "source": [
    "#### 8. Create a 3x3x3 array with random values (★☆☆)\n",
    "#hint: np.random.random#\n",
    "rand_matrix=np.random.random((3,3,3))\n",
    "rand_matrix"
   ]
  },
  {
   "cell_type": "code",
   "execution_count": 9,
   "id": "fe827b81",
   "metadata": {},
   "outputs": [
    {
     "name": "stdout",
     "output_type": "stream",
     "text": [
      "[[0.64352772 0.80215236 0.73816389 0.66423723 0.39519554 0.99594736\n",
      "  0.81289269 0.66061719 0.7821763  0.72059844]\n",
      " [0.82643812 0.11062924 0.09681051 0.37421849 0.56487282 0.51420445\n",
      "  0.88565826 0.36510702 0.11196343 0.1360227 ]\n",
      " [0.05230148 0.39746258 0.31624333 0.07889213 0.53929552 0.10872826\n",
      "  0.98189491 0.18712136 0.70393769 0.71653032]\n",
      " [0.14961088 0.68281756 0.62616288 0.6348976  0.88493809 0.69848871\n",
      "  0.41701737 0.64550779 0.25428962 0.26909944]\n",
      " [0.09855477 0.68928869 0.53099008 0.68632292 0.460656   0.06515177\n",
      "  0.19801698 0.63631505 0.60715081 0.57512518]\n",
      " [0.46052972 0.59099136 0.57494718 0.25245275 0.02138871 0.05122893\n",
      "  0.38547305 0.55445258 0.13610256 0.48330411]\n",
      " [0.26406671 0.12102431 0.88418074 0.13594872 0.2947071  0.11827688\n",
      "  0.5745992  0.54603231 0.76790516 0.11620413]\n",
      " [0.2193731  0.46631299 0.89805491 0.11327829 0.82934056 0.90979391\n",
      "  0.33749212 0.79222585 0.30430724 0.24617957]\n",
      " [0.57917349 0.72279063 0.33242011 0.02945496 0.24397605 0.55704712\n",
      "  0.26044166 0.52409197 0.9746045  0.64905225]\n",
      " [0.64056088 0.63274936 0.4900205  0.90910468 0.68903736 0.32558041\n",
      "  0.21324974 0.07490417 0.43440601 0.24766471]]\n",
      "0.02138870849973784\n",
      "0.9959473575826607\n"
     ]
    }
   ],
   "source": [
    "#### 9. Create a 10x10 array with random values and find the minimum and maximum values (★☆☆)\n",
    "#hint: min, max#\n",
    "ten_by_ten=np.random.random((10,10))\n",
    "print(ten_by_ten)\n",
    "print(np.min(ten_by_ten))\n",
    "print(np.max(ten_by_ten))"
   ]
  },
  {
   "cell_type": "code",
   "execution_count": 10,
   "id": "29706d0c",
   "metadata": {},
   "outputs": [
    {
     "data": {
      "text/plain": [
       "0.4900479905549872"
      ]
     },
     "execution_count": 10,
     "metadata": {},
     "output_type": "execute_result"
    }
   ],
   "source": [
    "#### 10. Create a random vector of size 30 and find the mean value (★☆☆)\n",
    "#hint: mean#\n",
    "rand_vec=np.random.random(30)\n",
    "rand_vec\n",
    "np.mean(rand_vec)"
   ]
  },
  {
   "cell_type": "code",
   "execution_count": 11,
   "id": "a6028265",
   "metadata": {},
   "outputs": [
    {
     "data": {
      "text/plain": [
       "array([[0, 0, 0, 0, 0],\n",
       "       [1, 0, 0, 0, 0],\n",
       "       [0, 2, 0, 0, 0],\n",
       "       [0, 0, 3, 0, 0],\n",
       "       [0, 0, 0, 4, 0]])"
      ]
     },
     "execution_count": 11,
     "metadata": {},
     "output_type": "execute_result"
    }
   ],
   "source": [
    "#### 11. Create a 5x5 matrix with values 1,2,3,4 just below the diagonal (★☆☆)\n",
    "#hint: np.diag#\n",
    "x=np.diag([1,2,3,4],k=-1)\n",
    "x\n"
   ]
  },
  {
   "cell_type": "code",
   "execution_count": 12,
   "id": "62261d7b",
   "metadata": {},
   "outputs": [
    {
     "data": {
      "text/plain": [
       "array([[ 1.34951353, -0.23092457,  0.6792248 ,  1.17996162,  0.31488392],\n",
       "       [ 0.48241419, -1.38824346, -0.34864932, -0.93271864,  0.36402608],\n",
       "       [-0.98059705,  1.09683575, -1.65719297, -0.0824444 ,  1.10550556],\n",
       "       [ 1.03019172,  0.28037883, -0.44514927, -1.83128005,  1.36063747],\n",
       "       [-1.03925614, -0.23461245,  1.48895773, -1.34406642, -0.21739648]])"
      ]
     },
     "execution_count": 12,
     "metadata": {},
     "output_type": "execute_result"
    }
   ],
   "source": [
    "#### 12. Normalize a 5x5 random matrix (★☆☆)\n",
    "#hint: (x -mean)/std#\n",
    "x=np.random.random((5,5))\n",
    "array_mean=np.mean(x)\n",
    "array_std=np.std(x)\n",
    "\n",
    "x=((x-array_mean)/array_std)\n",
    "x"
   ]
  },
  {
   "cell_type": "code",
   "execution_count": 20,
   "id": "ff00ff4f",
   "metadata": {},
   "outputs": [
    {
     "name": "stdout",
     "output_type": "stream",
     "text": [
      "[2 3]\n"
     ]
    }
   ],
   "source": [
    "#### 13. How to find common values between two arrays? (★☆☆)\n",
    "#hint: np.intersect1d#\n",
    "arr1 = np.array([5,3,2])\n",
    "arr2=np.array([1,2,3])\n",
    "print(np.intersect1d(arr1,arr2))"
   ]
  },
  {
   "cell_type": "code",
   "execution_count": 31,
   "id": "bbc4256a",
   "metadata": {},
   "outputs": [
    {
     "name": "stdout",
     "output_type": "stream",
     "text": [
      "[0.58441018 0.70042346 0.88233472 0.27043991 0.5883715  0.28065047\n",
      " 0.82258784 0.00875346 0.46151503 0.07540378]\n",
      "[0.00875346 0.07540378 0.27043991 0.28065047 0.46151503 0.58441018\n",
      " 0.5883715  0.70042346 0.82258784 0.88233472]\n"
     ]
    }
   ],
   "source": [
    "#### 14. Create a random vector of size 10 and sort it (★★☆)\n",
    "#hint: sort#\n",
    "rand_ten=np.random.random(10)\n",
    "print(rand_ten)\n",
    "print(np.sort(rand_ten))"
   ]
  },
  {
   "cell_type": "code",
   "execution_count": 34,
   "id": "f1544148",
   "metadata": {},
   "outputs": [
    {
     "name": "stdout",
     "output_type": "stream",
     "text": [
      "[0.5028716  0.12435132 0.61352283 0.01756438 0.90369297 0.15044026\n",
      " 0.44359194 0.21451424 0.65352925 0.02925111]\n",
      "[0.5028716  0.12435132 0.61352283 0.01756438 0.         0.15044026\n",
      " 0.44359194 0.21451424 0.65352925 0.02925111]\n"
     ]
    }
   ],
   "source": [
    "#### 15. Create random vector of size 10 and replace the maximum value by 0 (★★☆)\n",
    "#hint: argmax#\n",
    "rand_vec=np.random.random(10)\n",
    "print(rand_vec)\n",
    "\n",
    "rand_vec[np.argmax(rand_vec)]=0\n",
    "print(rand_vec)"
   ]
  },
  {
   "cell_type": "code",
   "execution_count": 42,
   "id": "5e91cda7",
   "metadata": {},
   "outputs": [
    {
     "name": "stdout",
     "output_type": "stream",
     "text": [
      "[[0.68524501 0.35959795 0.52566201 0.75495891 0.713346  ]\n",
      " [0.1837432  0.3341705  0.65595381 0.03116571 0.08886093]\n",
      " [0.72935908 0.31609009 0.86092654 0.24965665 0.14389338]\n",
      " [0.89509292 0.87276575 0.82283981 0.10513156 0.99558735]\n",
      " [0.44190897 0.47353787 0.26223415 0.39640196 0.97196911]]\n",
      "[[ 0.07748303 -0.24816403 -0.08209996  0.14719693  0.10558403]\n",
      " [-0.07503563  0.07539167  0.39717498 -0.22761312 -0.1699179 ]\n",
      " [ 0.26937394 -0.14389506  0.40094139 -0.2103285  -0.31609177]\n",
      " [ 0.15680944  0.13448228  0.08455633 -0.63315192  0.25730387]\n",
      " [-0.06730144 -0.03567254 -0.24697627 -0.11280845  0.4627587 ]]\n"
     ]
    }
   ],
   "source": [
    "#### 16. Subtract the mean of each row of a matrix (★★☆)\n",
    "#hint: mean(axis=,keepdims=)#\n",
    "matrix=np.random.random((5,5))\n",
    "print(matrix)\n",
    "\n",
    "new_matrix= matrix-np.mean(matrix,axis=1,keepdims=True)\n",
    "print(new_matrix)\n"
   ]
  },
  {
   "cell_type": "code",
   "execution_count": 76,
   "id": "4caceba4",
   "metadata": {},
   "outputs": [
    {
     "name": "stdout",
     "output_type": "stream",
     "text": [
      "9995\n"
     ]
    }
   ],
   "source": [
    "#### 17. How to get the n largest values of an array (★★★)\n",
    "#Z = np.arange(10000)\n",
    "#np.random.shuffle(Z)\n",
    "#n = 5\n",
    "#hint: np.argsort | np.argpartition#\n",
    "\n",
    "z=np.arange(10000)\n",
    "np.random.shuffle(z)\n",
    "n=5\n",
    "\n",
    "sorted_indexes=np.argsort(z)\n",
    "sorted_array=z[sorted_indexes]\n",
    "answer=sorted_array[-n]\n",
    "print(answer)"
   ]
  },
  {
   "cell_type": "code",
   "execution_count": 89,
   "id": "08c727c2",
   "metadata": {},
   "outputs": [
    {
     "name": "stdout",
     "output_type": "stream",
     "text": [
      "normal matrix \n",
      " [[ 3  4  6]\n",
      " [ 4  3  1]\n",
      " [ 3 12 14]\n",
      " [ 6 10  6]\n",
      " [ 6  4  6]] \n",
      "\n",
      "squared matrix \n",
      " [[  3   4  36]\n",
      " [  4   3   1]\n",
      " [  3 144 196]\n",
      " [ 36 100  36]\n",
      " [ 36   4  36]] \n",
      "\n"
     ]
    }
   ],
   "source": [
    "#### 18. Create a random 5*3 matrix and replace items that are larger than 4 by their squares ( Example:  6 --> 36) \n",
    "#hint: np.where#\n",
    "rand_matrix = np.random.randint(1,15,(5,3))\n",
    "print(\"normal matrix \\n\",rand_matrix,\"\\n\")\n",
    "\n",
    "squared_matrix = np.where(rand_matrix>4,rand_matrix**2,rand_matrix)\n",
    "print(\"squared matrix \\n\",squared_matrix,\"\\n\")"
   ]
  }
 ],
 "metadata": {
  "kernelspec": {
   "display_name": "Python 3 (ipykernel)",
   "language": "python",
   "name": "python3"
  },
  "language_info": {
   "codemirror_mode": {
    "name": "ipython",
    "version": 3
   },
   "file_extension": ".py",
   "mimetype": "text/x-python",
   "name": "python",
   "nbconvert_exporter": "python",
   "pygments_lexer": "ipython3",
   "version": "3.9.12"
  },
  "toc": {
   "base_numbering": 1,
   "nav_menu": {},
   "number_sections": true,
   "sideBar": true,
   "skip_h1_title": false,
   "title_cell": "Table of Contents",
   "title_sidebar": "Contents",
   "toc_cell": false,
   "toc_position": {},
   "toc_section_display": true,
   "toc_window_display": false
  },
  "varInspector": {
   "cols": {
    "lenName": 16,
    "lenType": 16,
    "lenVar": 40
   },
   "kernels_config": {
    "python": {
     "delete_cmd_postfix": "",
     "delete_cmd_prefix": "del ",
     "library": "var_list.py",
     "varRefreshCmd": "print(var_dic_list())"
    },
    "r": {
     "delete_cmd_postfix": ") ",
     "delete_cmd_prefix": "rm(",
     "library": "var_list.r",
     "varRefreshCmd": "cat(var_dic_list()) "
    }
   },
   "types_to_exclude": [
    "module",
    "function",
    "builtin_function_or_method",
    "instance",
    "_Feature"
   ],
   "window_display": false
  }
 },
 "nbformat": 4,
 "nbformat_minor": 5
}
