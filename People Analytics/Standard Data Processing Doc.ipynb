{
 "cells": [
  {
   "cell_type": "markdown",
   "id": "e285b025",
   "metadata": {},
   "source": [
    "# Prepare environment"
   ]
  },
  {
   "cell_type": "markdown",
   "id": "a5287a4b",
   "metadata": {},
   "source": [
    "## Imports and load libraries"
   ]
  },
  {
   "cell_type": "code",
   "execution_count": 11,
   "id": "3e6dd28c",
   "metadata": {},
   "outputs": [],
   "source": [
    "import numpy as np\n",
    "import pandas as pd\n",
    "import matplotlib.pyplot as plt\n",
    "%matplotlib inline\n",
    "import seaborn as sns\n",
    "from sklearn.preprocessing import StandardScaler\n",
    "from sklearn.preprocessing import quantile_transform\n",
    "from sklearn.preprocessing import minmax_scale\n",
    "from sklearn.preprocessing import OneHotEncoder  ##. better to use dummy from pandas \n",
    "from sklearn.preprocessing import PowerTransformer\n",
    "from scipy.stats import boxcox\n",
    "from sklearn.linear_model import LinearRegression\n",
    "from sklearn.model_selection import train_test_split\n",
    "import statsmodels.api as sm\n",
    "from scipy.stats import boxcox\n",
    "from sklearn.model_selection import train_test_split\n",
    "from sklearn.metrics import r2_score\n",
    "from sklearn.metrics import mean_squared_error as mse\n",
    "from sklearn.metrics import mean_absolute_error as mae\n",
    "pd.options.display.max_rows = 50\n",
    "import qgrid"
   ]
  },
  {
   "cell_type": "markdown",
   "id": "3cedaeb3",
   "metadata": {},
   "source": [
    "## Load relevant dataframe from file"
   ]
  },
  {
   "cell_type": "markdown",
   "id": "c77085cd",
   "metadata": {},
   "source": [
    "### One file with all data <font color='red'>(Need input)"
   ]
  },
  {
   "cell_type": "code",
   "execution_count": 12,
   "id": "39585171",
   "metadata": {},
   "outputs": [],
   "source": [
    "#If you have only one file, then hoose your data source to load below\n",
    "#It will be named 'df' for use in this notebook\n",
    "\n",
    "df=sns.load_dataset('titanic')\n",
    "file_list=[df]"
   ]
  },
  {
   "cell_type": "markdown",
   "id": "d6d7cb91",
   "metadata": {},
   "source": [
    "### Multiple files that need to be merged <font color='red'>(Need input)"
   ]
  },
  {
   "cell_type": "code",
   "execution_count": 13,
   "id": "bd11f81b",
   "metadata": {},
   "outputs": [],
   "source": [
    "#If you have multiple files to merge, use this instead.\n",
    "#Update the list of file names to ensure loops will work on the data in order to merge at the end\n",
    "\n",
    "file1=pd.read_csv(r'C:\\Users\\MichaelTaylo_c9zoof3\\Documents\\GitHub\\Ironhack-Labs\\Case Studies\\Customer Analysis Case Study\\Data\\file1.csv')\n",
    "file2=pd.read_csv(r'C:\\Users\\MichaelTaylo_c9zoof3\\Documents\\GitHub\\Ironhack-Labs\\Case Studies\\Customer Analysis Case Study\\Data\\file2.csv')\n",
    "file3=pd.read_csv(r'C:\\Users\\MichaelTaylo_c9zoof3\\Documents\\GitHub\\Ironhack-Labs\\Case Studies\\Customer Analysis Case Study\\Data\\file3.csv')\n",
    "\n",
    "file_list=[file1,file2,file3]"
   ]
  },
  {
   "cell_type": "markdown",
   "id": "8e568a3d",
   "metadata": {},
   "source": [
    "# Quick clean and standardizing data (e.g. lowercase titles)"
   ]
  },
  {
   "cell_type": "markdown",
   "id": "396e1b2c",
   "metadata": {},
   "source": [
    "## Lowercase column names"
   ]
  },
  {
   "cell_type": "code",
   "execution_count": 14,
   "id": "fa68b908",
   "metadata": {},
   "outputs": [],
   "source": [
    "def col_lowercase(df):\n",
    "    '''Takes one value, dataframe, and changes all columns to lowercase\n",
    "    For easy comparison and merging of multiple dataframes'''\n",
    "    df_temp = [i.lower() for i in df.columns]\n",
    "    return df_temp\n",
    "\n",
    "for i in file_list:\n",
    "    i.columns=col_lowercase(i)"
   ]
  },
  {
   "cell_type": "markdown",
   "id": "d11eebfb",
   "metadata": {},
   "source": [
    "## Lowercase all string values in file"
   ]
  },
  {
   "cell_type": "code",
   "execution_count": 15,
   "id": "58f19f4b",
   "metadata": {},
   "outputs": [],
   "source": [
    "def string_lowercase(df):\n",
    "    '''Takes one value, dataframe, and changes all values that are strings to all lowercase\n",
    "    For easy identification of discrete values and for merging of dataframes'''\n",
    "    df=df.applymap(lambda x:x.lower() if type(x) == str else x)\n",
    "    return df\n",
    "\n",
    "for i in file_list:\n",
    "    i.update(string_lowercase(i))"
   ]
  },
  {
   "cell_type": "markdown",
   "id": "e4fd2f8c",
   "metadata": {},
   "source": [
    "## Removing duplicate records"
   ]
  },
  {
   "cell_type": "code",
   "execution_count": 16,
   "id": "356c752f",
   "metadata": {},
   "outputs": [],
   "source": [
    "for i in file_list:\n",
    "    #Removes duplicates if entire row is the same\n",
    "    i.drop_duplicates(inplace=True)\n",
    "    #Removes rows if they are completely blank\n",
    "    i.dropna(how=\"all\",axis=0, inplace=True)"
   ]
  },
  {
   "cell_type": "markdown",
   "id": "7700861a",
   "metadata": {},
   "source": [
    "# Merging files"
   ]
  },
  {
   "cell_type": "markdown",
   "id": "b344237f",
   "metadata": {},
   "source": [
    "## Check files for unique columns"
   ]
  },
  {
   "cell_type": "code",
   "execution_count": 19,
   "id": "5098ab24",
   "metadata": {},
   "outputs": [
    {
     "data": {
      "text/plain": [
       "{1: [], 2: [], 3: []}"
      ]
     },
     "execution_count": 19,
     "metadata": {},
     "output_type": "execute_result"
    }
   ],
   "source": [
    "#Gather column names from all files in a list\n",
    "all_col_names=[]\n",
    "temp_col_names=[]\n",
    "unmatched_col_names=[]\n",
    "unmatched_col_dict={}\n",
    "\n",
    "for i in file_list:\n",
    "    [all_col_names.append(col) for col in i.columns]\n",
    "        \n",
    "\n",
    "#Remove duplicates to create a unique set of column names\n",
    "unique_col_names=list(set(all_col_names))\n",
    "\n",
    "#Check which files are missing which column names. Place these in a dictionary with key of file number.\n",
    "file_num=1\n",
    "for x in file_list:\n",
    "    [temp_col_names.append(col) for col in x.columns]\n",
    "    [unmatched_col_names.append(y) for y in unique_col_names if y not in temp_col_names]        \n",
    "    unmatched_col_dict[file_num]=unmatched_col_names\n",
    "    unmatched_col_names=[]\n",
    "    temp_col_names=[]\n",
    "    file_num+=1\n",
    "\n",
    "unmatched_col_dict"
   ]
  },
  {
   "cell_type": "markdown",
   "id": "457959fa",
   "metadata": {},
   "source": [
    "## Space to do renaming of columns <font color='red'>(Need input)"
   ]
  },
  {
   "cell_type": "code",
   "execution_count": 23,
   "id": "ac0db5dd",
   "metadata": {},
   "outputs": [],
   "source": [
    "#If quick renaming of fles, can use the dictionary form. Change ##df## to dataframe name.\n",
    "for i in file_list:\n",
    "    i.rename(columns={\"st\":\"state\",},inplace=True)"
   ]
  },
  {
   "cell_type": "code",
   "execution_count": null,
   "id": "17108dc2",
   "metadata": {},
   "outputs": [],
   "source": [
    "#If need more complex format, then can use a zip instead. Change ##df## to dataframe name.\n",
    "old_names={'a','b','c'}\n",
    "new_names={'x','y','z'}\n",
    "zip_file=zip(old_names,new_names)\n",
    "\n",
    "for i in file_list:\n",
    "    i.rename(columns=zip_file,inplace=True)"
   ]
  },
  {
   "cell_type": "markdown",
   "id": "284c3406",
   "metadata": {},
   "source": [
    "## Merging of files"
   ]
  },
  {
   "cell_type": "code",
   "execution_count": 27,
   "id": "4eeff036",
   "metadata": {},
   "outputs": [
    {
     "data": {
      "text/html": [
       "<div>\n",
       "<style scoped>\n",
       "    .dataframe tbody tr th:only-of-type {\n",
       "        vertical-align: middle;\n",
       "    }\n",
       "\n",
       "    .dataframe tbody tr th {\n",
       "        vertical-align: top;\n",
       "    }\n",
       "\n",
       "    .dataframe thead th {\n",
       "        text-align: right;\n",
       "    }\n",
       "</style>\n",
       "<table border=\"1\" class=\"dataframe\">\n",
       "  <thead>\n",
       "    <tr style=\"text-align: right;\">\n",
       "      <th></th>\n",
       "      <th>customer</th>\n",
       "      <th>state</th>\n",
       "      <th>gender</th>\n",
       "      <th>education</th>\n",
       "      <th>customer lifetime value</th>\n",
       "      <th>income</th>\n",
       "      <th>monthly premium auto</th>\n",
       "      <th>number of open complaints</th>\n",
       "      <th>policy type</th>\n",
       "      <th>vehicle class</th>\n",
       "      <th>total claim amount</th>\n",
       "    </tr>\n",
       "  </thead>\n",
       "  <tbody>\n",
       "    <tr>\n",
       "      <th>0</th>\n",
       "      <td>rb50392</td>\n",
       "      <td>washington</td>\n",
       "      <td>NaN</td>\n",
       "      <td>master</td>\n",
       "      <td>NaN</td>\n",
       "      <td>0.0</td>\n",
       "      <td>1000.0</td>\n",
       "      <td>1/0/00</td>\n",
       "      <td>personal auto</td>\n",
       "      <td>four-door car</td>\n",
       "      <td>2.704934</td>\n",
       "    </tr>\n",
       "    <tr>\n",
       "      <th>1</th>\n",
       "      <td>qz44356</td>\n",
       "      <td>arizona</td>\n",
       "      <td>f</td>\n",
       "      <td>bachelor</td>\n",
       "      <td>697953.59%</td>\n",
       "      <td>0.0</td>\n",
       "      <td>94.0</td>\n",
       "      <td>1/0/00</td>\n",
       "      <td>personal auto</td>\n",
       "      <td>four-door car</td>\n",
       "      <td>1131.464935</td>\n",
       "    </tr>\n",
       "    <tr>\n",
       "      <th>2</th>\n",
       "      <td>ai49188</td>\n",
       "      <td>nevada</td>\n",
       "      <td>f</td>\n",
       "      <td>bachelor</td>\n",
       "      <td>1288743.17%</td>\n",
       "      <td>48767.0</td>\n",
       "      <td>108.0</td>\n",
       "      <td>1/0/00</td>\n",
       "      <td>personal auto</td>\n",
       "      <td>two-door car</td>\n",
       "      <td>566.472247</td>\n",
       "    </tr>\n",
       "    <tr>\n",
       "      <th>3</th>\n",
       "      <td>ww63253</td>\n",
       "      <td>california</td>\n",
       "      <td>m</td>\n",
       "      <td>bachelor</td>\n",
       "      <td>764586.18%</td>\n",
       "      <td>0.0</td>\n",
       "      <td>106.0</td>\n",
       "      <td>1/0/00</td>\n",
       "      <td>corporate auto</td>\n",
       "      <td>suv</td>\n",
       "      <td>529.881344</td>\n",
       "    </tr>\n",
       "    <tr>\n",
       "      <th>4</th>\n",
       "      <td>ga49547</td>\n",
       "      <td>washington</td>\n",
       "      <td>m</td>\n",
       "      <td>high school or below</td>\n",
       "      <td>536307.65%</td>\n",
       "      <td>36357.0</td>\n",
       "      <td>68.0</td>\n",
       "      <td>1/0/00</td>\n",
       "      <td>personal auto</td>\n",
       "      <td>four-door car</td>\n",
       "      <td>17.269323</td>\n",
       "    </tr>\n",
       "    <tr>\n",
       "      <th>...</th>\n",
       "      <td>...</td>\n",
       "      <td>...</td>\n",
       "      <td>...</td>\n",
       "      <td>...</td>\n",
       "      <td>...</td>\n",
       "      <td>...</td>\n",
       "      <td>...</td>\n",
       "      <td>...</td>\n",
       "      <td>...</td>\n",
       "      <td>...</td>\n",
       "      <td>...</td>\n",
       "    </tr>\n",
       "    <tr>\n",
       "      <th>9132</th>\n",
       "      <td>la72316</td>\n",
       "      <td>california</td>\n",
       "      <td>m</td>\n",
       "      <td>bachelor</td>\n",
       "      <td>23405.98798</td>\n",
       "      <td>71941.0</td>\n",
       "      <td>73.0</td>\n",
       "      <td>0</td>\n",
       "      <td>personal auto</td>\n",
       "      <td>four-door car</td>\n",
       "      <td>198.234764</td>\n",
       "    </tr>\n",
       "    <tr>\n",
       "      <th>9133</th>\n",
       "      <td>pk87824</td>\n",
       "      <td>california</td>\n",
       "      <td>f</td>\n",
       "      <td>college</td>\n",
       "      <td>3096.511217</td>\n",
       "      <td>21604.0</td>\n",
       "      <td>79.0</td>\n",
       "      <td>0</td>\n",
       "      <td>corporate auto</td>\n",
       "      <td>four-door car</td>\n",
       "      <td>379.200000</td>\n",
       "    </tr>\n",
       "    <tr>\n",
       "      <th>9134</th>\n",
       "      <td>td14365</td>\n",
       "      <td>california</td>\n",
       "      <td>m</td>\n",
       "      <td>bachelor</td>\n",
       "      <td>8163.890428</td>\n",
       "      <td>0.0</td>\n",
       "      <td>85.0</td>\n",
       "      <td>3</td>\n",
       "      <td>corporate auto</td>\n",
       "      <td>four-door car</td>\n",
       "      <td>790.784983</td>\n",
       "    </tr>\n",
       "    <tr>\n",
       "      <th>9135</th>\n",
       "      <td>up19263</td>\n",
       "      <td>california</td>\n",
       "      <td>m</td>\n",
       "      <td>college</td>\n",
       "      <td>7524.442436</td>\n",
       "      <td>21941.0</td>\n",
       "      <td>96.0</td>\n",
       "      <td>0</td>\n",
       "      <td>personal auto</td>\n",
       "      <td>four-door car</td>\n",
       "      <td>691.200000</td>\n",
       "    </tr>\n",
       "    <tr>\n",
       "      <th>9136</th>\n",
       "      <td>y167826</td>\n",
       "      <td>california</td>\n",
       "      <td>m</td>\n",
       "      <td>college</td>\n",
       "      <td>2611.836866</td>\n",
       "      <td>0.0</td>\n",
       "      <td>77.0</td>\n",
       "      <td>0</td>\n",
       "      <td>corporate auto</td>\n",
       "      <td>two-door car</td>\n",
       "      <td>369.600000</td>\n",
       "    </tr>\n",
       "  </tbody>\n",
       "</table>\n",
       "<p>9137 rows × 11 columns</p>\n",
       "</div>"
      ],
      "text/plain": [
       "     customer       state gender             education  \\\n",
       "0     rb50392  washington    NaN                master   \n",
       "1     qz44356     arizona      f              bachelor   \n",
       "2     ai49188      nevada      f              bachelor   \n",
       "3     ww63253  california      m              bachelor   \n",
       "4     ga49547  washington      m  high school or below   \n",
       "...       ...         ...    ...                   ...   \n",
       "9132  la72316  california      m              bachelor   \n",
       "9133  pk87824  california      f               college   \n",
       "9134  td14365  california      m              bachelor   \n",
       "9135  up19263  california      m               college   \n",
       "9136  y167826  california      m               college   \n",
       "\n",
       "     customer lifetime value   income  monthly premium auto  \\\n",
       "0                        NaN      0.0                1000.0   \n",
       "1                 697953.59%      0.0                  94.0   \n",
       "2                1288743.17%  48767.0                 108.0   \n",
       "3                 764586.18%      0.0                 106.0   \n",
       "4                 536307.65%  36357.0                  68.0   \n",
       "...                      ...      ...                   ...   \n",
       "9132             23405.98798  71941.0                  73.0   \n",
       "9133             3096.511217  21604.0                  79.0   \n",
       "9134             8163.890428      0.0                  85.0   \n",
       "9135             7524.442436  21941.0                  96.0   \n",
       "9136             2611.836866      0.0                  77.0   \n",
       "\n",
       "     number of open complaints     policy type  vehicle class  \\\n",
       "0                       1/0/00   personal auto  four-door car   \n",
       "1                       1/0/00   personal auto  four-door car   \n",
       "2                       1/0/00   personal auto   two-door car   \n",
       "3                       1/0/00  corporate auto            suv   \n",
       "4                       1/0/00   personal auto  four-door car   \n",
       "...                        ...             ...            ...   \n",
       "9132                         0   personal auto  four-door car   \n",
       "9133                         0  corporate auto  four-door car   \n",
       "9134                         3  corporate auto  four-door car   \n",
       "9135                         0   personal auto  four-door car   \n",
       "9136                         0  corporate auto   two-door car   \n",
       "\n",
       "      total claim amount  \n",
       "0               2.704934  \n",
       "1            1131.464935  \n",
       "2             566.472247  \n",
       "3             529.881344  \n",
       "4              17.269323  \n",
       "...                  ...  \n",
       "9132          198.234764  \n",
       "9133          379.200000  \n",
       "9134          790.784983  \n",
       "9135          691.200000  \n",
       "9136          369.600000  \n",
       "\n",
       "[9137 rows x 11 columns]"
      ]
     },
     "execution_count": 27,
     "metadata": {},
     "output_type": "execute_result"
    }
   ],
   "source": [
    "df=pd.concat(file_list,axis=0,ignore_index=True)"
   ]
  },
  {
   "cell_type": "markdown",
   "id": "f62f75a4",
   "metadata": {},
   "source": [
    "# Replace missing values"
   ]
  },
  {
   "cell_type": "markdown",
   "id": "b7559e91",
   "metadata": {},
   "source": [
    "## Replace missing numbers with mean"
   ]
  },
  {
   "cell_type": "code",
   "execution_count": 11,
   "id": "5fcb9101",
   "metadata": {},
   "outputs": [],
   "source": [
    "# This creates a list ## integers_with_nan ## which is a list of numerical columns with blanks in them.  \n",
    "#The next parts will give you options for how to handle the blanks\n",
    "\n",
    "col_list=[]\n",
    "col_list=df.columns\n",
    "integers_with_nan=[]\n",
    "for i in col_list:\n",
    "    if df[i].isnull().values.any()==True:\n",
    "        if df[i].dtype!='O':\n",
    "            integers_with_nan.append(i)"
   ]
  },
  {
   "cell_type": "code",
   "execution_count": null,
   "id": "aa334d77",
   "metadata": {},
   "outputs": [],
   "source": [
    "#Fill missing numbers with the average of the column\n",
    "for j in integers_with_nan:\n",
    "    temp_mean=np.mean(df[j])\n",
    "    df[j]=df[j].fillna(temp_mean)"
   ]
  },
  {
   "cell_type": "markdown",
   "id": "74ff78d8",
   "metadata": {},
   "source": [
    "# Review data"
   ]
  },
  {
   "cell_type": "markdown",
   "id": "3f411cd0",
   "metadata": {},
   "source": [
    "## Check data types and blanks"
   ]
  },
  {
   "cell_type": "code",
   "execution_count": null,
   "id": "3476654a",
   "metadata": {},
   "outputs": [],
   "source": [
    "df.info()"
   ]
  },
  {
   "cell_type": "markdown",
   "id": "5493c90e",
   "metadata": {},
   "source": [
    "## Eyeball check data for issues"
   ]
  },
  {
   "cell_type": "code",
   "execution_count": null,
   "id": "626d36db",
   "metadata": {},
   "outputs": [],
   "source": [
    "qgrid.show_grid(df,grid_options={'forceFitColumns': False})"
   ]
  },
  {
   "cell_type": "markdown",
   "id": "9f766cf9",
   "metadata": {},
   "source": [
    "# Fix categorical values"
   ]
  },
  {
   "cell_type": "markdown",
   "id": "59ee3fd8",
   "metadata": {},
   "source": [
    "## Check categorical columns for misspellings or issues"
   ]
  },
  {
   "cell_type": "code",
   "execution_count": 10,
   "id": "0290c679",
   "metadata": {},
   "outputs": [
    {
     "data": {
      "text/plain": [
       "{'sex': array(['male', 'female'], dtype=object),\n",
       " 'embarked': array(['s', 'c', 'q', nan], dtype=object),\n",
       " 'class': array(['third', 'first', 'second'], dtype=object),\n",
       " 'who': array(['man', 'woman', 'child'], dtype=object),\n",
       " 'deck': array([nan, 'c', 'e', 'g', 'd', 'a', 'b', 'f'], dtype=object),\n",
       " 'embark_town': array(['southampton', 'cherbourg', 'queenstown', nan], dtype=object),\n",
       " 'alive': array(['no', 'yes'], dtype=object)}"
      ]
     },
     "execution_count": 10,
     "metadata": {},
     "output_type": "execute_result"
    }
   ],
   "source": [
    "# Creates a copy of the dataframe for string-based columns only.  \n",
    "# Then, creates a dictionary of the column (key) plus array of values (value) to show the results\n",
    "categorical_df=df.select_dtypes(object)\n",
    "unique_dict={col: categorical_df[col].unique() for col in categorical_df}\n",
    "unique_dict"
   ]
  },
  {
   "cell_type": "markdown",
   "id": "79432862",
   "metadata": {},
   "source": [
    "## Fix categorical values by replacing values with new ones"
   ]
  },
  {
   "cell_type": "markdown",
   "id": "102aca6c",
   "metadata": {},
   "source": [
    "### Replace a list of terms with one standard version <font color='red'>(Need input)"
   ]
  },
  {
   "cell_type": "code",
   "execution_count": 12,
   "id": "86a5710d",
   "metadata": {},
   "outputs": [],
   "source": [
    "#Fill in 'a' below\n",
    "\n",
    "# Creates a dictionary ##a## of values to correct.  \n",
    "# Outer dictionary is the column to correct\n",
    "# Inner dictionary key is the correct spelling, then list (dictionary value) is the incorrect spellings to find and replace\n",
    "\n",
    "a={\n",
    "    'sex':\n",
    "        {'female':['f','femal'],\n",
    "        'male':['male','m']}\n",
    "}\n",
    "\n",
    "\n",
    "#This code will run through the dictionary a and update string values in the dataframe\n",
    "#Using the new string values\n",
    "for key in a.keys():\n",
    "    for key2 in a[key].keys():\n",
    "        list_values=a[key][key2]\n",
    "        df.loc[df[str(key)].isin(list_values),key]=str(key2)"
   ]
  },
  {
   "cell_type": "markdown",
   "id": "05438031",
   "metadata": {},
   "source": [
    "### Replace terms 1:1 with an alternative"
   ]
  },
  {
   "cell_type": "code",
   "execution_count": null,
   "id": "a2e7bef2",
   "metadata": {},
   "outputs": [],
   "source": [
    "#Fill in these three with correct values, then run to update a column with new values.\n",
    "original_version=['f','m']          #List in order of terms in column to change\n",
    "new_version=['female','male']       #List in order of original version list of new terms to use\n",
    "column_name='gender'                #Column name to use in action\n",
    "\n",
    "replace_map=dict(zip(original_version,new_version))\n",
    "\n",
    "df[column_name].replace(replace_map,inplace=True)\n"
   ]
  }
 ],
 "metadata": {
  "kernelspec": {
   "display_name": "Python 3 (ipykernel)",
   "language": "python",
   "name": "python3"
  },
  "language_info": {
   "codemirror_mode": {
    "name": "ipython",
    "version": 3
   },
   "file_extension": ".py",
   "mimetype": "text/x-python",
   "name": "python",
   "nbconvert_exporter": "python",
   "pygments_lexer": "ipython3",
   "version": "3.9.12"
  },
  "toc": {
   "base_numbering": 1,
   "nav_menu": {},
   "number_sections": true,
   "sideBar": true,
   "skip_h1_title": false,
   "title_cell": "Table of Contents",
   "title_sidebar": "Contents",
   "toc_cell": false,
   "toc_position": {
    "height": "calc(100% - 180px)",
    "left": "10px",
    "top": "150px",
    "width": "388.941px"
   },
   "toc_section_display": true,
   "toc_window_display": true
  },
  "varInspector": {
   "cols": {
    "lenName": 16,
    "lenType": 16,
    "lenVar": 40
   },
   "kernels_config": {
    "python": {
     "delete_cmd_postfix": "",
     "delete_cmd_prefix": "del ",
     "library": "var_list.py",
     "varRefreshCmd": "print(var_dic_list())"
    },
    "r": {
     "delete_cmd_postfix": ") ",
     "delete_cmd_prefix": "rm(",
     "library": "var_list.r",
     "varRefreshCmd": "cat(var_dic_list()) "
    }
   },
   "position": {
    "height": "292.844px",
    "left": "996px",
    "right": "20px",
    "top": "120px",
    "width": "350px"
   },
   "types_to_exclude": [
    "module",
    "function",
    "builtin_function_or_method",
    "instance",
    "_Feature"
   ],
   "window_display": false
  }
 },
 "nbformat": 4,
 "nbformat_minor": 5
}
